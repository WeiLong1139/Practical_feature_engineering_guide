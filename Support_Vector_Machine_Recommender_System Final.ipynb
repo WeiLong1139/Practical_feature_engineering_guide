{
  "nbformat": 4,
  "nbformat_minor": 0,
  "metadata": {
    "colab": {
      "name": "Support Vector Machine Recommender System.ipynb",
      "provenance": [],
      "collapsed_sections": [
        "wM8hFGyRnSlL",
        "Y6ON1MDKDnw7",
        "QuOXIWQ1L6wL"
      ],
      "toc_visible": true,
      "authorship_tag": "ABX9TyNWNbSEUvgvKE5El7HTY4vd",
      "include_colab_link": true
    },
    "kernelspec": {
      "name": "python3",
      "display_name": "Python 3"
    }
  },
  "cells": [
    {
      "cell_type": "markdown",
      "metadata": {
        "id": "view-in-github",
        "colab_type": "text"
      },
      "source": [
        "<a href=\"https://colab.research.google.com/github/WeiLong1139/Practical_feature_engineering_guide/blob/master/Support_Vector_Machine_Recommender_System%20Final.ipynb\" target=\"_parent\"><img src=\"https://colab.research.google.com/assets/colab-badge.svg\" alt=\"Open In Colab\"/></a>"
      ]
    },
    {
      "cell_type": "markdown",
      "metadata": {
        "id": "zyh5oS-9y7Sj",
        "colab_type": "text"
      },
      "source": [
        "# **Loading of file and libraries**\n",
        "https://towardsdatascience.com/the-4-recommendation-engines-that-can-predict-your-movie-tastes-109dc4e10c52"
      ]
    },
    {
      "cell_type": "code",
      "metadata": {
        "id": "Mb7oGJlUUnNr",
        "colab_type": "code",
        "outputId": "cee1f13f-f652-426c-ffdb-9fd3cdc537ad",
        "colab": {
          "base_uri": "https://localhost:8080/",
          "height": 34
        }
      },
      "source": [
        "pwd"
      ],
      "execution_count": 351,
      "outputs": [
        {
          "output_type": "execute_result",
          "data": {
            "text/plain": [
              "'/content'"
            ]
          },
          "metadata": {
            "tags": []
          },
          "execution_count": 351
        }
      ]
    },
    {
      "cell_type": "code",
      "metadata": {
        "id": "Z09QrA8meAj_",
        "colab_type": "code",
        "outputId": "13031e99-04d5-48a6-e1b7-6984a1fd5e3a",
        "colab": {
          "resources": {
            "http://localhost:8080/nbextensions/google.colab/files.js": {
              "data": "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",
              "ok": true,
              "headers": [
                [
                  "content-type",
                  "application/javascript"
                ]
              ],
              "status": 200,
              "status_text": ""
            }
          },
          "base_uri": "https://localhost:8080/",
          "height": 57
        }
      },
      "source": [
        "# Enable IntelliSense\n",
        "%config IPCompleter.greedy=True\n",
        "\n",
        "# Display mutiple items in output\n",
        "from IPython.core.interactiveshell import InteractiveShell\n",
        "InteractiveShell.ast_node_interactivity = 'all'\n",
        "\n",
        "# Import libraries\n",
        "# !pip install surprise\n",
        "import numpy as np\n",
        "import pandas as pd\n",
        "import os\n",
        "import sklearn\n",
        "import matplotlib.pyplot as plt\n",
        "\n",
        "data_path = './'\n",
        "\n",
        "os.getcwd()\n",
        "from google.colab import files\n",
        "\n",
        "uploaded = files.upload()\n",
        "\n",
        "for fn in uploaded.keys():\n",
        "  print('User uploaded file \"{name}\" with length {length} bytes'.format(\n",
        "      name=fn, length=len(uploaded[fn])))\n",
        "%matplotlib inline\n",
        "\n",
        "# Reading ratings file\n",
        "ratings = pd.read_csv('ratings.csv', sep=',', encoding='latin-1', usecols=['userId', 'movieId', 'rating', 'timestamp'])\n",
        "\n",
        "# Reading users file\n",
        "# users = pd.read_csv('users.csv', sep='\\t', encoding='latin-1', usecols=['user_id', 'gender', 'zipcode', 'age_desc', 'occ_desc'])\n",
        "\n",
        "# Reading movies file\n",
        "movies = pd.read_csv('movies.csv', sep=',', encoding='latin-1', usecols=['movieId', 'title', 'genres'])"
      ],
      "execution_count": 352,
      "outputs": [
        {
          "output_type": "execute_result",
          "data": {
            "text/plain": [
              "'/content'"
            ]
          },
          "metadata": {
            "tags": []
          },
          "execution_count": 352
        },
        {
          "output_type": "display_data",
          "data": {
            "text/html": [
              "\n",
              "     <input type=\"file\" id=\"files-bf6a33fa-2095-426c-b814-2ed32c009811\" name=\"files[]\" multiple disabled />\n",
              "     <output id=\"result-bf6a33fa-2095-426c-b814-2ed32c009811\">\n",
              "      Upload widget is only available when the cell has been executed in the\n",
              "      current browser session. Please rerun this cell to enable.\n",
              "      </output>\n",
              "      <script src=\"/nbextensions/google.colab/files.js\"></script> "
            ],
            "text/plain": [
              "<IPython.core.display.HTML object>"
            ]
          },
          "metadata": {
            "tags": []
          }
        }
      ]
    },
    {
      "cell_type": "code",
      "metadata": {
        "id": "jMn5iYJh1v4e",
        "colab_type": "code",
        "colab": {}
      },
      "source": [
        "# cd -"
      ],
      "execution_count": 0,
      "outputs": []
    },
    {
      "cell_type": "markdown",
      "metadata": {
        "id": "BtiDEXHGzkIG",
        "colab_type": "text"
      },
      "source": [
        "Display files in current directory"
      ]
    },
    {
      "cell_type": "code",
      "metadata": {
        "id": "ZrlnLu5mzjji",
        "colab_type": "code",
        "outputId": "0d3c47a5-b07a-473b-c7fd-00c16b413c90",
        "colab": {
          "base_uri": "https://localhost:8080/",
          "height": 51
        }
      },
      "source": [
        "import os\n",
        "# path config\n",
        "data_path = './'\n",
        "files = [f for f in os.listdir(data_path) if os.path.isfile(f)]\n",
        "for f in files:\n",
        "    print(f)"
      ],
      "execution_count": 354,
      "outputs": [
        {
          "output_type": "stream",
          "text": [
            "movies.csv\n",
            "ratings.csv\n"
          ],
          "name": "stdout"
        }
      ]
    },
    {
      "cell_type": "code",
      "metadata": {
        "id": "ht4_M3JX0xAk",
        "colab_type": "code",
        "colab": {}
      },
      "source": [
        "# from google.colab import drive\n",
        "# drive.mount('/content/drive')"
      ],
      "execution_count": 0,
      "outputs": []
    },
    {
      "cell_type": "markdown",
      "metadata": {
        "id": "EcyXvOKDe6a8",
        "colab_type": "text"
      },
      "source": [
        "# **Data Exploration**"
      ]
    },
    {
      "cell_type": "code",
      "metadata": {
        "id": "GJbL3CrqJbPr",
        "colab_type": "code",
        "colab": {}
      },
      "source": [
        "from sklearn.metrics import mean_squared_error\n",
        "from math import sqrt\n",
        "\n",
        "# Function to calculate RMSE\n",
        "def rmse(pred, actual):\n",
        "    # Ignore nonzero terms.\n",
        "    pred = pred[actual.nonzero()].flatten()\n",
        "    actual = actual[actual.nonzero()].flatten()\n",
        "    return sqrt(mean_squared_error(pred, actual))"
      ],
      "execution_count": 0,
      "outputs": []
    },
    {
      "cell_type": "code",
      "metadata": {
        "id": "mODDSpRfe0JD",
        "colab_type": "code",
        "outputId": "a81e93ca-85de-440b-d868-c38a8b443a75",
        "colab": {
          "base_uri": "https://localhost:8080/",
          "height": 85
        }
      },
      "source": [
        "### Merge of datasets ###\n",
        "full = pd.merge(movies,ratings,on='movieId')\n",
        "\n",
        "### Retrieve and store the number of unique movies and users into a variable ###\n",
        "num_movies = ratings.movieId.unique().shape[0]\n",
        "num_users = ratings.userId.unique().shape[0]\n",
        "print(\"Number of users: \"+str(num_users)+\" | Number of movies: \"+str(num_movies))\n",
        "print(\"\\nMerge of two datasets:\\n\"+\"Number of rows: \"+str(full.shape[0])+\" | Number of columns: \"+str(full.shape[1]))"
      ],
      "execution_count": 357,
      "outputs": [
        {
          "output_type": "stream",
          "text": [
            "Number of users: 610 | Number of movies: 9724\n",
            "\n",
            "Merge of two datasets:\n",
            "Number of rows: 100836 | Number of columns: 6\n"
          ],
          "name": "stdout"
        }
      ]
    },
    {
      "cell_type": "code",
      "metadata": {
        "id": "FGFVvyoae0vl",
        "colab_type": "code",
        "outputId": "95c198fc-b40e-496e-a99c-13d961e995d7",
        "colab": {
          "base_uri": "https://localhost:8080/",
          "height": 204
        }
      },
      "source": [
        "# Viewing/Peek at the first 5 rows of the movies dataset\n",
        "movies.head()"
      ],
      "execution_count": 358,
      "outputs": [
        {
          "output_type": "execute_result",
          "data": {
            "text/html": [
              "<div>\n",
              "<style scoped>\n",
              "    .dataframe tbody tr th:only-of-type {\n",
              "        vertical-align: middle;\n",
              "    }\n",
              "\n",
              "    .dataframe tbody tr th {\n",
              "        vertical-align: top;\n",
              "    }\n",
              "\n",
              "    .dataframe thead th {\n",
              "        text-align: right;\n",
              "    }\n",
              "</style>\n",
              "<table border=\"1\" class=\"dataframe\">\n",
              "  <thead>\n",
              "    <tr style=\"text-align: right;\">\n",
              "      <th></th>\n",
              "      <th>movieId</th>\n",
              "      <th>title</th>\n",
              "      <th>genres</th>\n",
              "    </tr>\n",
              "  </thead>\n",
              "  <tbody>\n",
              "    <tr>\n",
              "      <th>0</th>\n",
              "      <td>1</td>\n",
              "      <td>Toy Story (1995)</td>\n",
              "      <td>Adventure|Animation|Children|Comedy|Fantasy</td>\n",
              "    </tr>\n",
              "    <tr>\n",
              "      <th>1</th>\n",
              "      <td>2</td>\n",
              "      <td>Jumanji (1995)</td>\n",
              "      <td>Adventure|Children|Fantasy</td>\n",
              "    </tr>\n",
              "    <tr>\n",
              "      <th>2</th>\n",
              "      <td>3</td>\n",
              "      <td>Grumpier Old Men (1995)</td>\n",
              "      <td>Comedy|Romance</td>\n",
              "    </tr>\n",
              "    <tr>\n",
              "      <th>3</th>\n",
              "      <td>4</td>\n",
              "      <td>Waiting to Exhale (1995)</td>\n",
              "      <td>Comedy|Drama|Romance</td>\n",
              "    </tr>\n",
              "    <tr>\n",
              "      <th>4</th>\n",
              "      <td>5</td>\n",
              "      <td>Father of the Bride Part II (1995)</td>\n",
              "      <td>Comedy</td>\n",
              "    </tr>\n",
              "  </tbody>\n",
              "</table>\n",
              "</div>"
            ],
            "text/plain": [
              "   movieId  ...                                       genres\n",
              "0        1  ...  Adventure|Animation|Children|Comedy|Fantasy\n",
              "1        2  ...                   Adventure|Children|Fantasy\n",
              "2        3  ...                               Comedy|Romance\n",
              "3        4  ...                         Comedy|Drama|Romance\n",
              "4        5  ...                                       Comedy\n",
              "\n",
              "[5 rows x 3 columns]"
            ]
          },
          "metadata": {
            "tags": []
          },
          "execution_count": 358
        }
      ]
    },
    {
      "cell_type": "code",
      "metadata": {
        "id": "NJ0LK1QMfN4l",
        "colab_type": "code",
        "outputId": "20424f48-7210-4751-d4b9-c2a75737953e",
        "colab": {
          "base_uri": "https://localhost:8080/",
          "height": 204
        }
      },
      "source": [
        "# Viewing/Peek at the first 5 rows of the ratings dataset\n",
        "ratings.head()"
      ],
      "execution_count": 359,
      "outputs": [
        {
          "output_type": "execute_result",
          "data": {
            "text/html": [
              "<div>\n",
              "<style scoped>\n",
              "    .dataframe tbody tr th:only-of-type {\n",
              "        vertical-align: middle;\n",
              "    }\n",
              "\n",
              "    .dataframe tbody tr th {\n",
              "        vertical-align: top;\n",
              "    }\n",
              "\n",
              "    .dataframe thead th {\n",
              "        text-align: right;\n",
              "    }\n",
              "</style>\n",
              "<table border=\"1\" class=\"dataframe\">\n",
              "  <thead>\n",
              "    <tr style=\"text-align: right;\">\n",
              "      <th></th>\n",
              "      <th>userId</th>\n",
              "      <th>movieId</th>\n",
              "      <th>rating</th>\n",
              "      <th>timestamp</th>\n",
              "    </tr>\n",
              "  </thead>\n",
              "  <tbody>\n",
              "    <tr>\n",
              "      <th>0</th>\n",
              "      <td>1</td>\n",
              "      <td>1</td>\n",
              "      <td>4.0</td>\n",
              "      <td>30/07/2000 18:45:03</td>\n",
              "    </tr>\n",
              "    <tr>\n",
              "      <th>1</th>\n",
              "      <td>1</td>\n",
              "      <td>3</td>\n",
              "      <td>4.0</td>\n",
              "      <td>30/07/2000 18:20:47</td>\n",
              "    </tr>\n",
              "    <tr>\n",
              "      <th>2</th>\n",
              "      <td>1</td>\n",
              "      <td>6</td>\n",
              "      <td>4.0</td>\n",
              "      <td>30/07/2000 18:37:04</td>\n",
              "    </tr>\n",
              "    <tr>\n",
              "      <th>3</th>\n",
              "      <td>1</td>\n",
              "      <td>47</td>\n",
              "      <td>5.0</td>\n",
              "      <td>30/07/2000 19:03:35</td>\n",
              "    </tr>\n",
              "    <tr>\n",
              "      <th>4</th>\n",
              "      <td>1</td>\n",
              "      <td>50</td>\n",
              "      <td>5.0</td>\n",
              "      <td>30/07/2000 18:48:51</td>\n",
              "    </tr>\n",
              "  </tbody>\n",
              "</table>\n",
              "</div>"
            ],
            "text/plain": [
              "   userId  movieId  rating            timestamp\n",
              "0       1        1     4.0  30/07/2000 18:45:03\n",
              "1       1        3     4.0  30/07/2000 18:20:47\n",
              "2       1        6     4.0  30/07/2000 18:37:04\n",
              "3       1       47     5.0  30/07/2000 19:03:35\n",
              "4       1       50     5.0  30/07/2000 18:48:51"
            ]
          },
          "metadata": {
            "tags": []
          },
          "execution_count": 359
        }
      ]
    },
    {
      "cell_type": "code",
      "metadata": {
        "id": "3ccih6lS-egA",
        "colab_type": "code",
        "colab": {
          "base_uri": "https://localhost:8080/",
          "height": 283
        },
        "outputId": "42a15f25-2340-420f-af38-dec34511e3e0"
      },
      "source": [
        "ratings_test = full[['title','rating']].groupby('title')['rating'].count()\n",
        "ratings_test.hist(bins=30)\n",
        "# xlabel('MoviedId')\n",
        "# ylabel('Number of Ratings')"
      ],
      "execution_count": 360,
      "outputs": [
        {
          "output_type": "execute_result",
          "data": {
            "text/plain": [
              "<matplotlib.axes._subplots.AxesSubplot at 0x7fba1d4d4240>"
            ]
          },
          "metadata": {
            "tags": []
          },
          "execution_count": 360
        },
        {
          "output_type": "display_data",
          "data": {
            "image/png": "[encoded data removed]",
            "text/plain": [
              "<Figure size 432x288 with 1 Axes>"
            ]
          },
          "metadata": {
            "tags": [],
            "needs_background": "light"
          }
        }
      ]
    },
    {
      "cell_type": "markdown",
      "metadata": {
        "id": "QsDnsDQ9aT7O",
        "colab_type": "text"
      },
      "source": [
        "# **2. Exploratory data analysis + Data Preparation**\n",
        "\n",
        "* Plot the counts of each rating\n",
        "* Plot rating frequency of each movie\n",
        "\n",
        "#### 1. Plot the counts of each rating\n",
        "\n",
        "We first need to get the counts of each rating from ratings data"
      ]
    },
    {
      "cell_type": "code",
      "metadata": {
        "id": "D4rs6Kg6Tg0N",
        "colab_type": "code",
        "colab": {}
      },
      "source": [
        "# # Split title and release year in separate columns in movies dataframe. Convert year to timestamp.\n",
        "# movies1 = movies\n",
        "# movies1['year'] = movies1.title.str.extract(\"\\((\\d{4})\\)\", expand=True)\n",
        "# movies1.year = pd.to_datetime(movies1.year, format='%Y')\n",
        "# movies1.year = movies1.year.dt.year # As there are some NaN years, resulting type will be float (decimals)\n",
        "# # movies1.title = movies1.title.str[:-7]"
      ],
      "execution_count": 0,
      "outputs": []
    },
    {
      "cell_type": "code",
      "metadata": {
        "id": "oabzETTwXsJ-",
        "colab_type": "code",
        "outputId": "cd2b0480-9a4d-476e-cd05-690f98a30c7a",
        "colab": {
          "base_uri": "https://localhost:8080/",
          "height": 204
        }
      },
      "source": [
        "movies.head()"
      ],
      "execution_count": 362,
      "outputs": [
        {
          "output_type": "execute_result",
          "data": {
            "text/html": [
              "<div>\n",
              "<style scoped>\n",
              "    .dataframe tbody tr th:only-of-type {\n",
              "        vertical-align: middle;\n",
              "    }\n",
              "\n",
              "    .dataframe tbody tr th {\n",
              "        vertical-align: top;\n",
              "    }\n",
              "\n",
              "    .dataframe thead th {\n",
              "        text-align: right;\n",
              "    }\n",
              "</style>\n",
              "<table border=\"1\" class=\"dataframe\">\n",
              "  <thead>\n",
              "    <tr style=\"text-align: right;\">\n",
              "      <th></th>\n",
              "      <th>movieId</th>\n",
              "      <th>title</th>\n",
              "      <th>genres</th>\n",
              "    </tr>\n",
              "  </thead>\n",
              "  <tbody>\n",
              "    <tr>\n",
              "      <th>0</th>\n",
              "      <td>1</td>\n",
              "      <td>Toy Story (1995)</td>\n",
              "      <td>Adventure|Animation|Children|Comedy|Fantasy</td>\n",
              "    </tr>\n",
              "    <tr>\n",
              "      <th>1</th>\n",
              "      <td>2</td>\n",
              "      <td>Jumanji (1995)</td>\n",
              "      <td>Adventure|Children|Fantasy</td>\n",
              "    </tr>\n",
              "    <tr>\n",
              "      <th>2</th>\n",
              "      <td>3</td>\n",
              "      <td>Grumpier Old Men (1995)</td>\n",
              "      <td>Comedy|Romance</td>\n",
              "    </tr>\n",
              "    <tr>\n",
              "      <th>3</th>\n",
              "      <td>4</td>\n",
              "      <td>Waiting to Exhale (1995)</td>\n",
              "      <td>Comedy|Drama|Romance</td>\n",
              "    </tr>\n",
              "    <tr>\n",
              "      <th>4</th>\n",
              "      <td>5</td>\n",
              "      <td>Father of the Bride Part II (1995)</td>\n",
              "      <td>Comedy</td>\n",
              "    </tr>\n",
              "  </tbody>\n",
              "</table>\n",
              "</div>"
            ],
            "text/plain": [
              "   movieId  ...                                       genres\n",
              "0        1  ...  Adventure|Animation|Children|Comedy|Fantasy\n",
              "1        2  ...                   Adventure|Children|Fantasy\n",
              "2        3  ...                               Comedy|Romance\n",
              "3        4  ...                         Comedy|Drama|Romance\n",
              "4        5  ...                                       Comedy\n",
              "\n",
              "[5 rows x 3 columns]"
            ]
          },
          "metadata": {
            "tags": []
          },
          "execution_count": 362
        }
      ]
    },
    {
      "cell_type": "code",
      "metadata": {
        "id": "YN1gTlTPTnjb",
        "colab_type": "code",
        "colab": {}
      },
      "source": [
        "# # Categorize movies genres properly. Working later with +20MM rows of strings proved very resource consuming\n",
        "# genres_unique = pd.DataFrame(movies.genres.str.split('|').tolist()).stack().unique()\n",
        "# genres_unique = pd.DataFrame(genres_unique, columns=['genre']) # Format into DataFrame to store later\n",
        "# movies1 = movies.join(movies.genres.str.get_dummies().astype(bool))\n",
        "# movies1.drop('genres', inplace=True, axis=1)"
      ],
      "execution_count": 0,
      "outputs": []
    },
    {
      "cell_type": "code",
      "metadata": {
        "id": "EDv1wtV6Tqvh",
        "colab_type": "code",
        "outputId": "4110270f-4158-4ea5-c0f1-1202823a481a",
        "colab": {
          "base_uri": "https://localhost:8080/",
          "height": 391
        }
      },
      "source": [
        "movies.head()\n",
        "ratings.head()"
      ],
      "execution_count": 364,
      "outputs": [
        {
          "output_type": "execute_result",
          "data": {
            "text/html": [
              "<div>\n",
              "<style scoped>\n",
              "    .dataframe tbody tr th:only-of-type {\n",
              "        vertical-align: middle;\n",
              "    }\n",
              "\n",
              "    .dataframe tbody tr th {\n",
              "        vertical-align: top;\n",
              "    }\n",
              "\n",
              "    .dataframe thead th {\n",
              "        text-align: right;\n",
              "    }\n",
              "</style>\n",
              "<table border=\"1\" class=\"dataframe\">\n",
              "  <thead>\n",
              "    <tr style=\"text-align: right;\">\n",
              "      <th></th>\n",
              "      <th>movieId</th>\n",
              "      <th>title</th>\n",
              "      <th>genres</th>\n",
              "    </tr>\n",
              "  </thead>\n",
              "  <tbody>\n",
              "    <tr>\n",
              "      <th>0</th>\n",
              "      <td>1</td>\n",
              "      <td>Toy Story (1995)</td>\n",
              "      <td>Adventure|Animation|Children|Comedy|Fantasy</td>\n",
              "    </tr>\n",
              "    <tr>\n",
              "      <th>1</th>\n",
              "      <td>2</td>\n",
              "      <td>Jumanji (1995)</td>\n",
              "      <td>Adventure|Children|Fantasy</td>\n",
              "    </tr>\n",
              "    <tr>\n",
              "      <th>2</th>\n",
              "      <td>3</td>\n",
              "      <td>Grumpier Old Men (1995)</td>\n",
              "      <td>Comedy|Romance</td>\n",
              "    </tr>\n",
              "    <tr>\n",
              "      <th>3</th>\n",
              "      <td>4</td>\n",
              "      <td>Waiting to Exhale (1995)</td>\n",
              "      <td>Comedy|Drama|Romance</td>\n",
              "    </tr>\n",
              "    <tr>\n",
              "      <th>4</th>\n",
              "      <td>5</td>\n",
              "      <td>Father of the Bride Part II (1995)</td>\n",
              "      <td>Comedy</td>\n",
              "    </tr>\n",
              "  </tbody>\n",
              "</table>\n",
              "</div>"
            ],
            "text/plain": [
              "   movieId  ...                                       genres\n",
              "0        1  ...  Adventure|Animation|Children|Comedy|Fantasy\n",
              "1        2  ...                   Adventure|Children|Fantasy\n",
              "2        3  ...                               Comedy|Romance\n",
              "3        4  ...                         Comedy|Drama|Romance\n",
              "4        5  ...                                       Comedy\n",
              "\n",
              "[5 rows x 3 columns]"
            ]
          },
          "metadata": {
            "tags": []
          },
          "execution_count": 364
        },
        {
          "output_type": "execute_result",
          "data": {
            "text/html": [
              "<div>\n",
              "<style scoped>\n",
              "    .dataframe tbody tr th:only-of-type {\n",
              "        vertical-align: middle;\n",
              "    }\n",
              "\n",
              "    .dataframe tbody tr th {\n",
              "        vertical-align: top;\n",
              "    }\n",
              "\n",
              "    .dataframe thead th {\n",
              "        text-align: right;\n",
              "    }\n",
              "</style>\n",
              "<table border=\"1\" class=\"dataframe\">\n",
              "  <thead>\n",
              "    <tr style=\"text-align: right;\">\n",
              "      <th></th>\n",
              "      <th>userId</th>\n",
              "      <th>movieId</th>\n",
              "      <th>rating</th>\n",
              "      <th>timestamp</th>\n",
              "    </tr>\n",
              "  </thead>\n",
              "  <tbody>\n",
              "    <tr>\n",
              "      <th>0</th>\n",
              "      <td>1</td>\n",
              "      <td>1</td>\n",
              "      <td>4.0</td>\n",
              "      <td>30/07/2000 18:45:03</td>\n",
              "    </tr>\n",
              "    <tr>\n",
              "      <th>1</th>\n",
              "      <td>1</td>\n",
              "      <td>3</td>\n",
              "      <td>4.0</td>\n",
              "      <td>30/07/2000 18:20:47</td>\n",
              "    </tr>\n",
              "    <tr>\n",
              "      <th>2</th>\n",
              "      <td>1</td>\n",
              "      <td>6</td>\n",
              "      <td>4.0</td>\n",
              "      <td>30/07/2000 18:37:04</td>\n",
              "    </tr>\n",
              "    <tr>\n",
              "      <th>3</th>\n",
              "      <td>1</td>\n",
              "      <td>47</td>\n",
              "      <td>5.0</td>\n",
              "      <td>30/07/2000 19:03:35</td>\n",
              "    </tr>\n",
              "    <tr>\n",
              "      <th>4</th>\n",
              "      <td>1</td>\n",
              "      <td>50</td>\n",
              "      <td>5.0</td>\n",
              "      <td>30/07/2000 18:48:51</td>\n",
              "    </tr>\n",
              "  </tbody>\n",
              "</table>\n",
              "</div>"
            ],
            "text/plain": [
              "   userId  movieId  rating            timestamp\n",
              "0       1        1     4.0  30/07/2000 18:45:03\n",
              "1       1        3     4.0  30/07/2000 18:20:47\n",
              "2       1        6     4.0  30/07/2000 18:37:04\n",
              "3       1       47     5.0  30/07/2000 19:03:35\n",
              "4       1       50     5.0  30/07/2000 18:48:51"
            ]
          },
          "metadata": {
            "tags": []
          },
          "execution_count": 364
        }
      ]
    },
    {
      "cell_type": "code",
      "metadata": {
        "id": "gtjguw0RVSrX",
        "colab_type": "code",
        "colab": {
          "base_uri": "https://localhost:8080/",
          "height": 136
        },
        "outputId": "2cde8bdb-f260-439c-b2d4-428e4ee4734b"
      },
      "source": [
        "# movies1.head()\n",
        "print(\"Movies dataset:\\n Number of rows: {}\\n Number of columns: {}\"\n",
        ".format(movies.shape[0],movies.shape[1]))\n",
        "print(\"\\nRatings dataset:\\n Number of rows: {}\\n Number of columns: {}\"\n",
        ".format(ratings.shape[0],ratings.shape[1]))"
      ],
      "execution_count": 365,
      "outputs": [
        {
          "output_type": "stream",
          "text": [
            "Movies dataset:\n",
            " Number of rows: 9742\n",
            " Number of columns: 3\n",
            "\n",
            "Ratings dataset:\n",
            " Number of rows: 100836\n",
            " Number of columns: 4\n"
          ],
          "name": "stdout"
        }
      ]
    },
    {
      "cell_type": "code",
      "metadata": {
        "id": "htUkHre_aNQa",
        "colab_type": "code",
        "outputId": "a06fdd1e-d0e2-402f-efc7-4f9da7a2eaea",
        "colab": {
          "base_uri": "https://localhost:8080/",
          "height": 390
        }
      },
      "source": [
        "## Create a dataframe to store the results(Count) for each group of ratings(1-5)\n",
        "ratingCount = pd.DataFrame(ratings.groupby('rating').size(),columns=['Count'])\n",
        "ratingCount"
      ],
      "execution_count": 366,
      "outputs": [
        {
          "output_type": "execute_result",
          "data": {
            "text/html": [
              "<div>\n",
              "<style scoped>\n",
              "    .dataframe tbody tr th:only-of-type {\n",
              "        vertical-align: middle;\n",
              "    }\n",
              "\n",
              "    .dataframe tbody tr th {\n",
              "        vertical-align: top;\n",
              "    }\n",
              "\n",
              "    .dataframe thead th {\n",
              "        text-align: right;\n",
              "    }\n",
              "</style>\n",
              "<table border=\"1\" class=\"dataframe\">\n",
              "  <thead>\n",
              "    <tr style=\"text-align: right;\">\n",
              "      <th></th>\n",
              "      <th>Count</th>\n",
              "    </tr>\n",
              "    <tr>\n",
              "      <th>rating</th>\n",
              "      <th></th>\n",
              "    </tr>\n",
              "  </thead>\n",
              "  <tbody>\n",
              "    <tr>\n",
              "      <th>0.5</th>\n",
              "      <td>1370</td>\n",
              "    </tr>\n",
              "    <tr>\n",
              "      <th>1.0</th>\n",
              "      <td>2811</td>\n",
              "    </tr>\n",
              "    <tr>\n",
              "      <th>1.5</th>\n",
              "      <td>1791</td>\n",
              "    </tr>\n",
              "    <tr>\n",
              "      <th>2.0</th>\n",
              "      <td>7551</td>\n",
              "    </tr>\n",
              "    <tr>\n",
              "      <th>2.5</th>\n",
              "      <td>5550</td>\n",
              "    </tr>\n",
              "    <tr>\n",
              "      <th>3.0</th>\n",
              "      <td>20047</td>\n",
              "    </tr>\n",
              "    <tr>\n",
              "      <th>3.5</th>\n",
              "      <td>13136</td>\n",
              "    </tr>\n",
              "    <tr>\n",
              "      <th>4.0</th>\n",
              "      <td>26818</td>\n",
              "    </tr>\n",
              "    <tr>\n",
              "      <th>4.5</th>\n",
              "      <td>8551</td>\n",
              "    </tr>\n",
              "    <tr>\n",
              "      <th>5.0</th>\n",
              "      <td>13211</td>\n",
              "    </tr>\n",
              "  </tbody>\n",
              "</table>\n",
              "</div>"
            ],
            "text/plain": [
              "        Count\n",
              "rating       \n",
              "0.5      1370\n",
              "1.0      2811\n",
              "1.5      1791\n",
              "2.0      7551\n",
              "2.5      5550\n",
              "3.0     20047\n",
              "3.5     13136\n",
              "4.0     26818\n",
              "4.5      8551\n",
              "5.0     13211"
            ]
          },
          "metadata": {
            "tags": []
          },
          "execution_count": 366
        }
      ]
    },
    {
      "cell_type": "markdown",
      "metadata": {
        "id": "wPXclHv3aLGv",
        "colab_type": "text"
      },
      "source": [
        "We can see that above table does not include counts of zero rating score. So we need to add that in rating count dataframe as well"
      ]
    },
    {
      "cell_type": "code",
      "metadata": {
        "id": "TTFQ7J5raHb6",
        "colab_type": "code",
        "outputId": "71d8031a-b0ad-4f0d-a258-58c20eeefd6f",
        "colab": {
          "base_uri": "https://localhost:8080/",
          "height": 390
        }
      },
      "source": [
        "# The count for the rating of 0 is verey high \n",
        "total_cnt = num_users * num_movies\n",
        "rating_zero_cnt = total_cnt - ratings.shape[0]\n",
        "# append counts of zero rating to df_ratings_cnt\n",
        "df_ratings_cnt = ratingCount.append(\n",
        "    pd.DataFrame({'Count': rating_zero_cnt}, index=[0.0]),\n",
        "    verify_integrity=True,\n",
        ").sort_index()\n",
        "df_ratings_cnt"
      ],
      "execution_count": 367,
      "outputs": [
        {
          "output_type": "execute_result",
          "data": {
            "text/html": [
              "<div>\n",
              "<style scoped>\n",
              "    .dataframe tbody tr th:only-of-type {\n",
              "        vertical-align: middle;\n",
              "    }\n",
              "\n",
              "    .dataframe tbody tr th {\n",
              "        vertical-align: top;\n",
              "    }\n",
              "\n",
              "    .dataframe thead th {\n",
              "        text-align: right;\n",
              "    }\n",
              "</style>\n",
              "<table border=\"1\" class=\"dataframe\">\n",
              "  <thead>\n",
              "    <tr style=\"text-align: right;\">\n",
              "      <th></th>\n",
              "      <th>Count</th>\n",
              "    </tr>\n",
              "  </thead>\n",
              "  <tbody>\n",
              "    <tr>\n",
              "      <th>0.0</th>\n",
              "      <td>5830804</td>\n",
              "    </tr>\n",
              "    <tr>\n",
              "      <th>0.5</th>\n",
              "      <td>1370</td>\n",
              "    </tr>\n",
              "    <tr>\n",
              "      <th>1.0</th>\n",
              "      <td>2811</td>\n",
              "    </tr>\n",
              "    <tr>\n",
              "      <th>1.5</th>\n",
              "      <td>1791</td>\n",
              "    </tr>\n",
              "    <tr>\n",
              "      <th>2.0</th>\n",
              "      <td>7551</td>\n",
              "    </tr>\n",
              "    <tr>\n",
              "      <th>2.5</th>\n",
              "      <td>5550</td>\n",
              "    </tr>\n",
              "    <tr>\n",
              "      <th>3.0</th>\n",
              "      <td>20047</td>\n",
              "    </tr>\n",
              "    <tr>\n",
              "      <th>3.5</th>\n",
              "      <td>13136</td>\n",
              "    </tr>\n",
              "    <tr>\n",
              "      <th>4.0</th>\n",
              "      <td>26818</td>\n",
              "    </tr>\n",
              "    <tr>\n",
              "      <th>4.5</th>\n",
              "      <td>8551</td>\n",
              "    </tr>\n",
              "    <tr>\n",
              "      <th>5.0</th>\n",
              "      <td>13211</td>\n",
              "    </tr>\n",
              "  </tbody>\n",
              "</table>\n",
              "</div>"
            ],
            "text/plain": [
              "       Count\n",
              "0.0  5830804\n",
              "0.5     1370\n",
              "1.0     2811\n",
              "1.5     1791\n",
              "2.0     7551\n",
              "2.5     5550\n",
              "3.0    20047\n",
              "3.5    13136\n",
              "4.0    26818\n",
              "4.5     8551\n",
              "5.0    13211"
            ]
          },
          "metadata": {
            "tags": []
          },
          "execution_count": 367
        }
      ]
    },
    {
      "cell_type": "markdown",
      "metadata": {
        "id": "DiIioSKTS1h5",
        "colab_type": "text"
      },
      "source": [
        "### **Feature Scaling**"
      ]
    },
    {
      "cell_type": "markdown",
      "metadata": {
        "id": "z5cYQRPoaoQJ",
        "colab_type": "text"
      },
      "source": [
        "The count for zero rating score is too big to compare with the other rating score. Therefore, a log transformation is needed to scale the values to a smaller number for model optimization of productivity and efficiency.\n",
        "\n",
        "So let's take log transform for count values and then we can plot them to compare"
      ]
    },
    {
      "cell_type": "code",
      "metadata": {
        "id": "PE95_nyRaDuf",
        "colab_type": "code",
        "outputId": "c798c41a-d7d4-495e-95f0-bb01c8105b40",
        "colab": {
          "base_uri": "https://localhost:8080/",
          "height": 390
        }
      },
      "source": [
        "# Add log count to the dataframe containing the number of ratings for each \n",
        "# rating category\n",
        "df_ratings_cnt['log_count'] = np.log(df_ratings_cnt['Count'])\n",
        "df_ratings_cnt"
      ],
      "execution_count": 368,
      "outputs": [
        {
          "output_type": "execute_result",
          "data": {
            "text/html": [
              "<div>\n",
              "<style scoped>\n",
              "    .dataframe tbody tr th:only-of-type {\n",
              "        vertical-align: middle;\n",
              "    }\n",
              "\n",
              "    .dataframe tbody tr th {\n",
              "        vertical-align: top;\n",
              "    }\n",
              "\n",
              "    .dataframe thead th {\n",
              "        text-align: right;\n",
              "    }\n",
              "</style>\n",
              "<table border=\"1\" class=\"dataframe\">\n",
              "  <thead>\n",
              "    <tr style=\"text-align: right;\">\n",
              "      <th></th>\n",
              "      <th>Count</th>\n",
              "      <th>log_count</th>\n",
              "    </tr>\n",
              "  </thead>\n",
              "  <tbody>\n",
              "    <tr>\n",
              "      <th>0.0</th>\n",
              "      <td>5830804</td>\n",
              "      <td>15.578665</td>\n",
              "    </tr>\n",
              "    <tr>\n",
              "      <th>0.5</th>\n",
              "      <td>1370</td>\n",
              "      <td>7.222566</td>\n",
              "    </tr>\n",
              "    <tr>\n",
              "      <th>1.0</th>\n",
              "      <td>2811</td>\n",
              "      <td>7.941296</td>\n",
              "    </tr>\n",
              "    <tr>\n",
              "      <th>1.5</th>\n",
              "      <td>1791</td>\n",
              "      <td>7.490529</td>\n",
              "    </tr>\n",
              "    <tr>\n",
              "      <th>2.0</th>\n",
              "      <td>7551</td>\n",
              "      <td>8.929435</td>\n",
              "    </tr>\n",
              "    <tr>\n",
              "      <th>2.5</th>\n",
              "      <td>5550</td>\n",
              "      <td>8.621553</td>\n",
              "    </tr>\n",
              "    <tr>\n",
              "      <th>3.0</th>\n",
              "      <td>20047</td>\n",
              "      <td>9.905835</td>\n",
              "    </tr>\n",
              "    <tr>\n",
              "      <th>3.5</th>\n",
              "      <td>13136</td>\n",
              "      <td>9.483112</td>\n",
              "    </tr>\n",
              "    <tr>\n",
              "      <th>4.0</th>\n",
              "      <td>26818</td>\n",
              "      <td>10.196829</td>\n",
              "    </tr>\n",
              "    <tr>\n",
              "      <th>4.5</th>\n",
              "      <td>8551</td>\n",
              "      <td>9.053804</td>\n",
              "    </tr>\n",
              "    <tr>\n",
              "      <th>5.0</th>\n",
              "      <td>13211</td>\n",
              "      <td>9.488805</td>\n",
              "    </tr>\n",
              "  </tbody>\n",
              "</table>\n",
              "</div>"
            ],
            "text/plain": [
              "       Count  log_count\n",
              "0.0  5830804  15.578665\n",
              "0.5     1370   7.222566\n",
              "1.0     2811   7.941296\n",
              "1.5     1791   7.490529\n",
              "2.0     7551   8.929435\n",
              "2.5     5550   8.621553\n",
              "3.0    20047   9.905835\n",
              "3.5    13136   9.483112\n",
              "4.0    26818  10.196829\n",
              "4.5     8551   9.053804\n",
              "5.0    13211   9.488805"
            ]
          },
          "metadata": {
            "tags": []
          },
          "execution_count": 368
        }
      ]
    },
    {
      "cell_type": "markdown",
      "metadata": {
        "id": "4J8xuh-1asqa",
        "colab_type": "text"
      },
      "source": [
        "Plotting a Bar Graph to visualize information in 'df_ratings_cnt' dataframe where it contains information on the (unique) count of ratings in the dataset."
      ]
    },
    {
      "cell_type": "code",
      "metadata": {
        "id": "EoDC6rA3a2PI",
        "colab_type": "code",
        "outputId": "cf4e954c-88a5-4e8e-ad20-0a5f06868443",
        "colab": {
          "base_uri": "https://localhost:8080/",
          "height": 460
        }
      },
      "source": [
        "ax = df_ratings_cnt['Count'].reset_index().rename(columns={'index': 'rating score'}).plot(\n",
        "    x='rating score',\n",
        "    y='Count',\n",
        "    kind='bar',\n",
        "    figsize=(12, 8),\n",
        "    title='Count for Each Rating Score (in Log Scale)',\n",
        "    logy=True,\n",
        "    fontsize=12,\n",
        ")\n",
        "ax.set_xlabel(\"Movie Rating Score\")\n",
        "ax.set_ylabel(\"Number of Ratings\")\n",
        "plt.show();"
      ],
      "execution_count": 369,
      "outputs": [
        {
          "output_type": "display_data",
          "data": {
            "image/png": "[encoded data removed]",
            "text/plain": [
              "<Figure size 864x576 with 1 Axes>"
            ]
          },
          "metadata": {
            "tags": [],
            "needs_background": "light"
          }
        }
      ]
    },
    {
      "cell_type": "markdown",
      "metadata": {
        "id": "r0DK5JgUbSeO",
        "colab_type": "text"
      },
      "source": [
        "It is interesting to identify more reviews/ratings given a score of 3 and 4 compared to a rating of 5.\n",
        "\n",
        "It's interesting that there are more people giving rating score of 3 and 4 than other scores"
      ]
    },
    {
      "cell_type": "markdown",
      "metadata": {
        "id": "0uWBATCmZCsV",
        "colab_type": "text"
      },
      "source": [
        "## **Plot rating frequencies for all movies**"
      ]
    },
    {
      "cell_type": "markdown",
      "metadata": {
        "id": "lqTKDHCNTleG",
        "colab_type": "text"
      },
      "source": [
        "Creating a dataframe for the ratings of each movie in the dataset."
      ]
    },
    {
      "cell_type": "code",
      "metadata": {
        "id": "kqTDNa5l24mb",
        "colab_type": "code",
        "outputId": "a106055e-a939-4e26-9d10-124d8645d06f",
        "colab": {
          "base_uri": "https://localhost:8080/",
          "height": 235
        }
      },
      "source": [
        "df_movies_cnt = pd.DataFrame(ratings.groupby('movieId').size(),columns=['Count'])\n",
        "df_movies_cnt.head()"
      ],
      "execution_count": 370,
      "outputs": [
        {
          "output_type": "execute_result",
          "data": {
            "text/html": [
              "<div>\n",
              "<style scoped>\n",
              "    .dataframe tbody tr th:only-of-type {\n",
              "        vertical-align: middle;\n",
              "    }\n",
              "\n",
              "    .dataframe tbody tr th {\n",
              "        vertical-align: top;\n",
              "    }\n",
              "\n",
              "    .dataframe thead th {\n",
              "        text-align: right;\n",
              "    }\n",
              "</style>\n",
              "<table border=\"1\" class=\"dataframe\">\n",
              "  <thead>\n",
              "    <tr style=\"text-align: right;\">\n",
              "      <th></th>\n",
              "      <th>Count</th>\n",
              "    </tr>\n",
              "    <tr>\n",
              "      <th>movieId</th>\n",
              "      <th></th>\n",
              "    </tr>\n",
              "  </thead>\n",
              "  <tbody>\n",
              "    <tr>\n",
              "      <th>1</th>\n",
              "      <td>215</td>\n",
              "    </tr>\n",
              "    <tr>\n",
              "      <th>2</th>\n",
              "      <td>110</td>\n",
              "    </tr>\n",
              "    <tr>\n",
              "      <th>3</th>\n",
              "      <td>52</td>\n",
              "    </tr>\n",
              "    <tr>\n",
              "      <th>4</th>\n",
              "      <td>7</td>\n",
              "    </tr>\n",
              "    <tr>\n",
              "      <th>5</th>\n",
              "      <td>49</td>\n",
              "    </tr>\n",
              "  </tbody>\n",
              "</table>\n",
              "</div>"
            ],
            "text/plain": [
              "         Count\n",
              "movieId       \n",
              "1          215\n",
              "2          110\n",
              "3           52\n",
              "4            7\n",
              "5           49"
            ]
          },
          "metadata": {
            "tags": []
          },
          "execution_count": 370
        }
      ]
    },
    {
      "cell_type": "code",
      "metadata": {
        "id": "YoORGgbndHJi",
        "colab_type": "code",
        "outputId": "7bc55226-f2c0-43f6-a2bf-d4c42441b487",
        "colab": {
          "base_uri": "https://localhost:8080/",
          "height": 451
        }
      },
      "source": [
        "# plot rating frequency of all movies\n",
        "ax = df_movies_cnt \\\n",
        "    .sort_values('Count', ascending=False) \\\n",
        "    .reset_index(drop=True) \\\n",
        "    .plot(\n",
        "        figsize=(12, 8),\n",
        "        title='Number of Ratings(Rating Frequency) for All Movies',\n",
        "        fontsize=12\n",
        "    )\n",
        "ax.set_xlabel(\"Movie ID\")\n",
        "ax.set_ylabel(\"Number of Ratings\")\n",
        "plt.show();"
      ],
      "execution_count": 371,
      "outputs": [
        {
          "output_type": "display_data",
          "data": {
            "image/png": "[encoded data removed]",
            "text/plain": [
              "<Figure size 864x576 with 1 Axes>"
            ]
          },
          "metadata": {
            "tags": [],
            "needs_background": "light"
          }
        }
      ]
    },
    {
      "cell_type": "code",
      "metadata": {
        "id": "RyLi5MW0Y9pH",
        "colab_type": "code",
        "outputId": "80e7804e-a51c-46e3-98a3-95d6465f625c",
        "colab": {
          "base_uri": "https://localhost:8080/",
          "height": 452
        }
      },
      "source": [
        "# plot rating frequency of all movies in log scale\n",
        "ax = df_movies_cnt \\\n",
        "    .sort_values('Count', ascending=False) \\\n",
        "    .reset_index(drop=True) \\\n",
        "    .plot(\n",
        "        figsize=(12, 8),\n",
        "        title='Number of Ratings(Rating Frequency) for All Movies (in Log Scale)',\n",
        "        fontsize=12,\n",
        "        logy=True\n",
        "    )\n",
        "ax.set_xlabel(\"Movie ID\")\n",
        "ax.set_ylabel(\"Number of Ratings (Log Scale)\");"
      ],
      "execution_count": 372,
      "outputs": [
        {
          "output_type": "display_data",
          "data": {
            "image/png": "[encoded data removed]",
            "text/plain": [
              "<Figure size 864x576 with 1 Axes>"
            ]
          },
          "metadata": {
            "tags": [],
            "needs_background": "light"
          }
        }
      ]
    },
    {
      "cell_type": "markdown",
      "metadata": {
        "id": "Yh50z_TpVqDW",
        "colab_type": "text"
      },
      "source": [
        "Return the "
      ]
    },
    {
      "cell_type": "markdown",
      "metadata": {
        "id": "1sO6p1BqX357",
        "colab_type": "text"
      },
      "source": [
        "The code snippet below retrieves the number of ratings(Count) in the given quantile for the specified list of values passed in the 'np.arrange' function. The output would return values from the 65th quantile to 100th quantile with a hop/skip of 5."
      ]
    },
    {
      "cell_type": "code",
      "metadata": {
        "id": "FPlo0usbb0XU",
        "colab_type": "code",
        "outputId": "3ec27107-e028-40d0-a992-d335cce4e2dd",
        "colab": {
          "base_uri": "https://localhost:8080/",
          "height": 170
        }
      },
      "source": [
        "df_movies_cnt['Count'].quantile(np.arange(1, 0.6, -0.05))"
      ],
      "execution_count": 373,
      "outputs": [
        {
          "output_type": "execute_result",
          "data": {
            "text/plain": [
              "1.00    329.0\n",
              "0.95     47.0\n",
              "0.90     27.0\n",
              "0.85     17.0\n",
              "0.80     12.0\n",
              "0.75      9.0\n",
              "0.70      7.0\n",
              "0.65      5.0\n",
              "Name: Count, dtype: float64"
            ]
          },
          "metadata": {
            "tags": []
          },
          "execution_count": 373
        }
      ]
    },
    {
      "cell_type": "markdown",
      "metadata": {
        "id": "872jFf2jbuTr",
        "colab_type": "text"
      },
      "source": [
        "So about 1% of movies have roughly 329 or more ratings, 5% have 47 or more, and 20% have 12 or more. Since we have so many movies, we'll limit it to the top 25%. This is the arbitrary threshold for popularity, but it gives us about 13,500 different movies. We still have pretty good amount of movies for modeling. There are two reasons why we want to filter to roughly 13,500 movies in our dataset.\n",
        "\n",
        "Memory issue: we don't want to run into the “MemoryError” during model training Improve KNN performance: lesser known movies have ratings from fewer viewers, making the pattern more noisy. Droping out less known movies can improve recommendation quality. However, with this concept in mind, this method will only be used for this algorithm as it might exclude recently added movies or movies that have a smaller user-base which might make the system a bit outdated if deployed as the movies it recommends would need to have a considerable amount of review before it can amke it way up as a recommended movie."
      ]
    },
    {
      "cell_type": "code",
      "metadata": {
        "id": "sgWuTj_AvNWM",
        "colab_type": "code",
        "outputId": "64adeb50-df46-41f2-b37e-8b37b08492ce",
        "colab": {
          "base_uri": "https://localhost:8080/",
          "height": 170
        }
      },
      "source": [
        "### Summing up the number of ratings for each movie ###\n",
        "df_movies_cnt = pd.DataFrame(ratings.groupby('movieId').size(),columns=['Count'])\n",
        "print(df_movies_cnt.head())\n",
        "\n",
        "# filter data\n",
        "popularity_thres = 50\n",
        "### Keeping only movies with more than 50 reviews/ratings ###\n",
        "popular_movies = list(set(df_movies_cnt.query('Count >= @popularity_thres').index))\n",
        "df_ratings_drop_movies = ratings[ratings.movieId.isin(popular_movies)]\n",
        "print('shape of original ratings data: ', ratings.shape)\n",
        "print('shape of ratings data after dropping unpopular movies: ', df_ratings_drop_movies.shape)"
      ],
      "execution_count": 374,
      "outputs": [
        {
          "output_type": "stream",
          "text": [
            "         Count\n",
            "movieId       \n",
            "1          215\n",
            "2          110\n",
            "3           52\n",
            "4            7\n",
            "5           49\n",
            "shape of original ratings data:  (100836, 4)\n",
            "shape of ratings data after dropping unpopular movies:  (41360, 4)\n"
          ],
          "name": "stdout"
        }
      ]
    },
    {
      "cell_type": "markdown",
      "metadata": {
        "id": "cR1BP14Kbl5h",
        "colab_type": "text"
      },
      "source": [
        "After dropping about 41% of movies in our dataset, we still have a relatively large dataset. So next we can filter users to further reduce the size of data"
      ]
    },
    {
      "cell_type": "code",
      "metadata": {
        "id": "qbNkbG2KfQfF",
        "colab_type": "code",
        "outputId": "ed38ab41-d9ed-4323-d838-38bc8e736bed",
        "colab": {
          "base_uri": "https://localhost:8080/",
          "height": 224
        }
      },
      "source": [
        "# get number of ratings given by every user\n",
        "df_users_cnt = pd.DataFrame(df_ratings_drop_movies.groupby('userId').size(), columns=['Count'])\n",
        "print(df_users_cnt.head())\n",
        "print(df_users_cnt.count())\n",
        "\n",
        "# filter data\n",
        "ratings_thres = 50\n",
        "active_users = list(set(df_users_cnt.query('Count >= @ratings_thres').index))\n",
        "df_ratings_drop_users = df_ratings_drop_movies[df_ratings_drop_movies.userId.isin(active_users)]\n",
        "print('Shape of original Ratings data: ', ratings.shape)\n",
        "print('Shape of ratings data after dropping both unpopular movies and inactive users: ', df_ratings_drop_users.shape)"
      ],
      "execution_count": 375,
      "outputs": [
        {
          "output_type": "stream",
          "text": [
            "        Count\n",
            "userId       \n",
            "1         117\n",
            "2          15\n",
            "3           6\n",
            "4          84\n",
            "5          34\n",
            "Count    606\n",
            "dtype: int64\n",
            "Shape of original Ratings data:  (100836, 4)\n",
            "Shape of ratings data after dropping both unpopular movies and inactive users:  (32999, 4)\n"
          ],
          "name": "stdout"
        }
      ]
    },
    {
      "cell_type": "code",
      "metadata": {
        "id": "6OWAU7GIKfU3",
        "colab_type": "code",
        "colab": {}
      },
      "source": [
        ""
      ],
      "execution_count": 0,
      "outputs": []
    },
    {
      "cell_type": "markdown",
      "metadata": {
        "id": "iOvNfsEwZSVT",
        "colab_type": "text"
      },
      "source": [
        "### Rating Frequency of Users(Sum of ratings by User)"
      ]
    },
    {
      "cell_type": "markdown",
      "metadata": {
        "id": "sOjCOofAv-kj",
        "colab_type": "text"
      },
      "source": [
        "The code below plots a line graph of the total number of ratings given by every user in the dataset based on their user ID"
      ]
    },
    {
      "cell_type": "code",
      "metadata": {
        "id": "jrUFOKK-YvpI",
        "colab_type": "code",
        "outputId": "3ceae571-98a8-466e-ca44-5a532aade7b6",
        "colab": {
          "base_uri": "https://localhost:8080/",
          "height": 455
        }
      },
      "source": [
        "# plot rating frequency of all movies\n",
        "ax = df_users_cnt \\\n",
        "    .sort_values('Count', ascending=False) \\\n",
        "    .reset_index(drop=True) \\\n",
        "    .plot(\n",
        "        figsize=(12, 8),\n",
        "        title='Rating Frequency of All Users',\n",
        "        fontsize=12\n",
        "    )\n",
        "ax.set_xlabel(\"user Id\")\n",
        "ax.set_ylabel(\"number of ratings\");"
      ],
      "execution_count": 376,
      "outputs": [
        {
          "output_type": "display_data",
          "data": {
            "image/png": "[encoded data removed]",
            "text/plain": [
              "<Figure size 864x576 with 1 Axes>"
            ]
          },
          "metadata": {
            "tags": [],
            "needs_background": "light"
          }
        }
      ]
    },
    {
      "cell_type": "markdown",
      "metadata": {
        "id": "BGvx59VfxYLh",
        "colab_type": "text"
      },
      "source": [
        "The code below overwrites the available variable 'full' with the new merge of both the movies and ammended ratings dataset to allow for faster processing of the datasets."
      ]
    },
    {
      "cell_type": "code",
      "metadata": {
        "id": "YGeHIkS5w67P",
        "colab_type": "code",
        "outputId": "e486b7e7-b053-4f12-cc87-2b51cd0dc1e9",
        "colab": {
          "base_uri": "https://localhost:8080/",
          "height": 51
        }
      },
      "source": [
        "full = pd.merge(movies,df_ratings_drop_users,on='movieId')\n",
        "# full.shape\n",
        "print(\"Merge of two datasets(After Data Preparation):\\n Number of rows: {} | Number of columns: {}\".format(full.shape[0],full.shape[1]))"
      ],
      "execution_count": 377,
      "outputs": [
        {
          "output_type": "stream",
          "text": [
            "Merge of two datasets(After Data Preparation):\n",
            " Number of rows: 32999 | Number of columns: 6\n"
          ],
          "name": "stdout"
        }
      ]
    },
    {
      "cell_type": "markdown",
      "metadata": {
        "id": "3if-t3clfV7z",
        "colab_type": "text"
      },
      "source": [
        "## **Creating pivot table matrix**"
      ]
    },
    {
      "cell_type": "markdown",
      "metadata": {
        "id": "N1qXXbdJy4hi",
        "colab_type": "text"
      },
      "source": [
        "Next, I will proceed to create a reshaped dataframe organized by User and Movie ID with the ratings as values. The output would resemble a pivot table except that not all of the values(cells) are being filled. The reason/purpose for performing this step is to prepare the data for use in the Singular Vector Decomposition(SVD) Collaborative Filtering algorithm to return a list of recommended movies based on _____."
      ]
    },
    {
      "cell_type": "code",
      "metadata": {
        "id": "JTmapGvxfQhx",
        "colab_type": "code",
        "outputId": "e18bf7ac-794b-4ba8-c949-b416083ab17f",
        "colab": {
          "base_uri": "https://localhost:8080/",
          "height": 284
        }
      },
      "source": [
        "Ratings = ratings.pivot(index = 'userId', columns ='movieId', values = 'rating').fillna(0)\n",
        "Ratings.head()"
      ],
      "execution_count": 378,
      "outputs": [
        {
          "output_type": "execute_result",
          "data": {
            "text/html": [
              "<div>\n",
              "<style scoped>\n",
              "    .dataframe tbody tr th:only-of-type {\n",
              "        vertical-align: middle;\n",
              "    }\n",
              "\n",
              "    .dataframe tbody tr th {\n",
              "        vertical-align: top;\n",
              "    }\n",
              "\n",
              "    .dataframe thead th {\n",
              "        text-align: right;\n",
              "    }\n",
              "</style>\n",
              "<table border=\"1\" class=\"dataframe\">\n",
              "  <thead>\n",
              "    <tr style=\"text-align: right;\">\n",
              "      <th>movieId</th>\n",
              "      <th>1</th>\n",
              "      <th>2</th>\n",
              "      <th>3</th>\n",
              "      <th>4</th>\n",
              "      <th>5</th>\n",
              "      <th>6</th>\n",
              "      <th>7</th>\n",
              "      <th>8</th>\n",
              "      <th>9</th>\n",
              "      <th>10</th>\n",
              "      <th>11</th>\n",
              "      <th>12</th>\n",
              "      <th>13</th>\n",
              "      <th>14</th>\n",
              "      <th>15</th>\n",
              "      <th>16</th>\n",
              "      <th>17</th>\n",
              "      <th>18</th>\n",
              "      <th>19</th>\n",
              "      <th>20</th>\n",
              "      <th>21</th>\n",
              "      <th>22</th>\n",
              "      <th>23</th>\n",
              "      <th>24</th>\n",
              "      <th>25</th>\n",
              "      <th>26</th>\n",
              "      <th>27</th>\n",
              "      <th>28</th>\n",
              "      <th>29</th>\n",
              "      <th>30</th>\n",
              "      <th>31</th>\n",
              "      <th>32</th>\n",
              "      <th>34</th>\n",
              "      <th>36</th>\n",
              "      <th>38</th>\n",
              "      <th>39</th>\n",
              "      <th>40</th>\n",
              "      <th>41</th>\n",
              "      <th>42</th>\n",
              "      <th>43</th>\n",
              "      <th>...</th>\n",
              "      <th>185135</th>\n",
              "      <th>185435</th>\n",
              "      <th>185473</th>\n",
              "      <th>185585</th>\n",
              "      <th>186587</th>\n",
              "      <th>187031</th>\n",
              "      <th>187541</th>\n",
              "      <th>187593</th>\n",
              "      <th>187595</th>\n",
              "      <th>187717</th>\n",
              "      <th>188189</th>\n",
              "      <th>188301</th>\n",
              "      <th>188675</th>\n",
              "      <th>188751</th>\n",
              "      <th>188797</th>\n",
              "      <th>188833</th>\n",
              "      <th>189043</th>\n",
              "      <th>189111</th>\n",
              "      <th>189333</th>\n",
              "      <th>189381</th>\n",
              "      <th>189547</th>\n",
              "      <th>189713</th>\n",
              "      <th>190183</th>\n",
              "      <th>190207</th>\n",
              "      <th>190209</th>\n",
              "      <th>190213</th>\n",
              "      <th>190215</th>\n",
              "      <th>190219</th>\n",
              "      <th>190221</th>\n",
              "      <th>191005</th>\n",
              "      <th>193565</th>\n",
              "      <th>193567</th>\n",
              "      <th>193571</th>\n",
              "      <th>193573</th>\n",
              "      <th>193579</th>\n",
              "      <th>193581</th>\n",
              "      <th>193583</th>\n",
              "      <th>193585</th>\n",
              "      <th>193587</th>\n",
              "      <th>193609</th>\n",
              "    </tr>\n",
              "    <tr>\n",
              "      <th>userId</th>\n",
              "      <th></th>\n",
              "      <th></th>\n",
              "      <th></th>\n",
              "      <th></th>\n",
              "      <th></th>\n",
              "      <th></th>\n",
              "      <th></th>\n",
              "      <th></th>\n",
              "      <th></th>\n",
              "      <th></th>\n",
              "      <th></th>\n",
              "      <th></th>\n",
              "      <th></th>\n",
              "      <th></th>\n",
              "      <th></th>\n",
              "      <th></th>\n",
              "      <th></th>\n",
              "      <th></th>\n",
              "      <th></th>\n",
              "      <th></th>\n",
              "      <th></th>\n",
              "      <th></th>\n",
              "      <th></th>\n",
              "      <th></th>\n",
              "      <th></th>\n",
              "      <th></th>\n",
              "      <th></th>\n",
              "      <th></th>\n",
              "      <th></th>\n",
              "      <th></th>\n",
              "      <th></th>\n",
              "      <th></th>\n",
              "      <th></th>\n",
              "      <th></th>\n",
              "      <th></th>\n",
              "      <th></th>\n",
              "      <th></th>\n",
              "      <th></th>\n",
              "      <th></th>\n",
              "      <th></th>\n",
              "      <th></th>\n",
              "      <th></th>\n",
              "      <th></th>\n",
              "      <th></th>\n",
              "      <th></th>\n",
              "      <th></th>\n",
              "      <th></th>\n",
              "      <th></th>\n",
              "      <th></th>\n",
              "      <th></th>\n",
              "      <th></th>\n",
              "      <th></th>\n",
              "      <th></th>\n",
              "      <th></th>\n",
              "      <th></th>\n",
              "      <th></th>\n",
              "      <th></th>\n",
              "      <th></th>\n",
              "      <th></th>\n",
              "      <th></th>\n",
              "      <th></th>\n",
              "      <th></th>\n",
              "      <th></th>\n",
              "      <th></th>\n",
              "      <th></th>\n",
              "      <th></th>\n",
              "      <th></th>\n",
              "      <th></th>\n",
              "      <th></th>\n",
              "      <th></th>\n",
              "      <th></th>\n",
              "      <th></th>\n",
              "      <th></th>\n",
              "      <th></th>\n",
              "      <th></th>\n",
              "      <th></th>\n",
              "      <th></th>\n",
              "      <th></th>\n",
              "      <th></th>\n",
              "      <th></th>\n",
              "      <th></th>\n",
              "    </tr>\n",
              "  </thead>\n",
              "  <tbody>\n",
              "    <tr>\n",
              "      <th>1</th>\n",
              "      <td>4.0</td>\n",
              "      <td>0.0</td>\n",
              "      <td>4.0</td>\n",
              "      <td>0.0</td>\n",
              "      <td>0.0</td>\n",
              "      <td>4.0</td>\n",
              "      <td>0.0</td>\n",
              "      <td>0.0</td>\n",
              "      <td>0.0</td>\n",
              "      <td>0.0</td>\n",
              "      <td>0.0</td>\n",
              "      <td>0.0</td>\n",
              "      <td>0.0</td>\n",
              "      <td>0.0</td>\n",
              "      <td>0.0</td>\n",
              "      <td>0.0</td>\n",
              "      <td>0.0</td>\n",
              "      <td>0.0</td>\n",
              "      <td>0.0</td>\n",
              "      <td>0.0</td>\n",
              "      <td>0.0</td>\n",
              "      <td>0.0</td>\n",
              "      <td>0.0</td>\n",
              "      <td>0.0</td>\n",
              "      <td>0.0</td>\n",
              "      <td>0.0</td>\n",
              "      <td>0.0</td>\n",
              "      <td>0.0</td>\n",
              "      <td>0.0</td>\n",
              "      <td>0.0</td>\n",
              "      <td>0.0</td>\n",
              "      <td>0.0</td>\n",
              "      <td>0.0</td>\n",
              "      <td>0.0</td>\n",
              "      <td>0.0</td>\n",
              "      <td>0.0</td>\n",
              "      <td>0.0</td>\n",
              "      <td>0.0</td>\n",
              "      <td>0.0</td>\n",
              "      <td>0.0</td>\n",
              "      <td>...</td>\n",
              "      <td>0.0</td>\n",
              "      <td>0.0</td>\n",
              "      <td>0.0</td>\n",
              "      <td>0.0</td>\n",
              "      <td>0.0</td>\n",
              "      <td>0.0</td>\n",
              "      <td>0.0</td>\n",
              "      <td>0.0</td>\n",
              "      <td>0.0</td>\n",
              "      <td>0.0</td>\n",
              "      <td>0.0</td>\n",
              "      <td>0.0</td>\n",
              "      <td>0.0</td>\n",
              "      <td>0.0</td>\n",
              "      <td>0.0</td>\n",
              "      <td>0.0</td>\n",
              "      <td>0.0</td>\n",
              "      <td>0.0</td>\n",
              "      <td>0.0</td>\n",
              "      <td>0.0</td>\n",
              "      <td>0.0</td>\n",
              "      <td>0.0</td>\n",
              "      <td>0.0</td>\n",
              "      <td>0.0</td>\n",
              "      <td>0.0</td>\n",
              "      <td>0.0</td>\n",
              "      <td>0.0</td>\n",
              "      <td>0.0</td>\n",
              "      <td>0.0</td>\n",
              "      <td>0.0</td>\n",
              "      <td>0.0</td>\n",
              "      <td>0.0</td>\n",
              "      <td>0.0</td>\n",
              "      <td>0.0</td>\n",
              "      <td>0.0</td>\n",
              "      <td>0.0</td>\n",
              "      <td>0.0</td>\n",
              "      <td>0.0</td>\n",
              "      <td>0.0</td>\n",
              "      <td>0.0</td>\n",
              "    </tr>\n",
              "    <tr>\n",
              "      <th>2</th>\n",
              "      <td>0.0</td>\n",
              "      <td>0.0</td>\n",
              "      <td>0.0</td>\n",
              "      <td>0.0</td>\n",
              "      <td>0.0</td>\n",
              "      <td>0.0</td>\n",
              "      <td>0.0</td>\n",
              "      <td>0.0</td>\n",
              "      <td>0.0</td>\n",
              "      <td>0.0</td>\n",
              "      <td>0.0</td>\n",
              "      <td>0.0</td>\n",
              "      <td>0.0</td>\n",
              "      <td>0.0</td>\n",
              "      <td>0.0</td>\n",
              "      <td>0.0</td>\n",
              "      <td>0.0</td>\n",
              "      <td>0.0</td>\n",
              "      <td>0.0</td>\n",
              "      <td>0.0</td>\n",
              "      <td>0.0</td>\n",
              "      <td>0.0</td>\n",
              "      <td>0.0</td>\n",
              "      <td>0.0</td>\n",
              "      <td>0.0</td>\n",
              "      <td>0.0</td>\n",
              "      <td>0.0</td>\n",
              "      <td>0.0</td>\n",
              "      <td>0.0</td>\n",
              "      <td>0.0</td>\n",
              "      <td>0.0</td>\n",
              "      <td>0.0</td>\n",
              "      <td>0.0</td>\n",
              "      <td>0.0</td>\n",
              "      <td>0.0</td>\n",
              "      <td>0.0</td>\n",
              "      <td>0.0</td>\n",
              "      <td>0.0</td>\n",
              "      <td>0.0</td>\n",
              "      <td>0.0</td>\n",
              "      <td>...</td>\n",
              "      <td>0.0</td>\n",
              "      <td>0.0</td>\n",
              "      <td>0.0</td>\n",
              "      <td>0.0</td>\n",
              "      <td>0.0</td>\n",
              "      <td>0.0</td>\n",
              "      <td>0.0</td>\n",
              "      <td>0.0</td>\n",
              "      <td>0.0</td>\n",
              "      <td>0.0</td>\n",
              "      <td>0.0</td>\n",
              "      <td>0.0</td>\n",
              "      <td>0.0</td>\n",
              "      <td>0.0</td>\n",
              "      <td>0.0</td>\n",
              "      <td>0.0</td>\n",
              "      <td>0.0</td>\n",
              "      <td>0.0</td>\n",
              "      <td>0.0</td>\n",
              "      <td>0.0</td>\n",
              "      <td>0.0</td>\n",
              "      <td>0.0</td>\n",
              "      <td>0.0</td>\n",
              "      <td>0.0</td>\n",
              "      <td>0.0</td>\n",
              "      <td>0.0</td>\n",
              "      <td>0.0</td>\n",
              "      <td>0.0</td>\n",
              "      <td>0.0</td>\n",
              "      <td>0.0</td>\n",
              "      <td>0.0</td>\n",
              "      <td>0.0</td>\n",
              "      <td>0.0</td>\n",
              "      <td>0.0</td>\n",
              "      <td>0.0</td>\n",
              "      <td>0.0</td>\n",
              "      <td>0.0</td>\n",
              "      <td>0.0</td>\n",
              "      <td>0.0</td>\n",
              "      <td>0.0</td>\n",
              "    </tr>\n",
              "    <tr>\n",
              "      <th>3</th>\n",
              "      <td>0.0</td>\n",
              "      <td>0.0</td>\n",
              "      <td>0.0</td>\n",
              "      <td>0.0</td>\n",
              "      <td>0.0</td>\n",
              "      <td>0.0</td>\n",
              "      <td>0.0</td>\n",
              "      <td>0.0</td>\n",
              "      <td>0.0</td>\n",
              "      <td>0.0</td>\n",
              "      <td>0.0</td>\n",
              "      <td>0.0</td>\n",
              "      <td>0.0</td>\n",
              "      <td>0.0</td>\n",
              "      <td>0.0</td>\n",
              "      <td>0.0</td>\n",
              "      <td>0.0</td>\n",
              "      <td>0.0</td>\n",
              "      <td>0.0</td>\n",
              "      <td>0.0</td>\n",
              "      <td>0.0</td>\n",
              "      <td>0.0</td>\n",
              "      <td>0.0</td>\n",
              "      <td>0.0</td>\n",
              "      <td>0.0</td>\n",
              "      <td>0.0</td>\n",
              "      <td>0.0</td>\n",
              "      <td>0.0</td>\n",
              "      <td>0.0</td>\n",
              "      <td>0.0</td>\n",
              "      <td>0.5</td>\n",
              "      <td>0.0</td>\n",
              "      <td>0.0</td>\n",
              "      <td>0.0</td>\n",
              "      <td>0.0</td>\n",
              "      <td>0.0</td>\n",
              "      <td>0.0</td>\n",
              "      <td>0.0</td>\n",
              "      <td>0.0</td>\n",
              "      <td>0.0</td>\n",
              "      <td>...</td>\n",
              "      <td>0.0</td>\n",
              "      <td>0.0</td>\n",
              "      <td>0.0</td>\n",
              "      <td>0.0</td>\n",
              "      <td>0.0</td>\n",
              "      <td>0.0</td>\n",
              "      <td>0.0</td>\n",
              "      <td>0.0</td>\n",
              "      <td>0.0</td>\n",
              "      <td>0.0</td>\n",
              "      <td>0.0</td>\n",
              "      <td>0.0</td>\n",
              "      <td>0.0</td>\n",
              "      <td>0.0</td>\n",
              "      <td>0.0</td>\n",
              "      <td>0.0</td>\n",
              "      <td>0.0</td>\n",
              "      <td>0.0</td>\n",
              "      <td>0.0</td>\n",
              "      <td>0.0</td>\n",
              "      <td>0.0</td>\n",
              "      <td>0.0</td>\n",
              "      <td>0.0</td>\n",
              "      <td>0.0</td>\n",
              "      <td>0.0</td>\n",
              "      <td>0.0</td>\n",
              "      <td>0.0</td>\n",
              "      <td>0.0</td>\n",
              "      <td>0.0</td>\n",
              "      <td>0.0</td>\n",
              "      <td>0.0</td>\n",
              "      <td>0.0</td>\n",
              "      <td>0.0</td>\n",
              "      <td>0.0</td>\n",
              "      <td>0.0</td>\n",
              "      <td>0.0</td>\n",
              "      <td>0.0</td>\n",
              "      <td>0.0</td>\n",
              "      <td>0.0</td>\n",
              "      <td>0.0</td>\n",
              "    </tr>\n",
              "    <tr>\n",
              "      <th>4</th>\n",
              "      <td>0.0</td>\n",
              "      <td>0.0</td>\n",
              "      <td>0.0</td>\n",
              "      <td>0.0</td>\n",
              "      <td>0.0</td>\n",
              "      <td>0.0</td>\n",
              "      <td>0.0</td>\n",
              "      <td>0.0</td>\n",
              "      <td>0.0</td>\n",
              "      <td>0.0</td>\n",
              "      <td>0.0</td>\n",
              "      <td>0.0</td>\n",
              "      <td>0.0</td>\n",
              "      <td>0.0</td>\n",
              "      <td>0.0</td>\n",
              "      <td>0.0</td>\n",
              "      <td>0.0</td>\n",
              "      <td>0.0</td>\n",
              "      <td>0.0</td>\n",
              "      <td>0.0</td>\n",
              "      <td>3.0</td>\n",
              "      <td>0.0</td>\n",
              "      <td>0.0</td>\n",
              "      <td>0.0</td>\n",
              "      <td>0.0</td>\n",
              "      <td>0.0</td>\n",
              "      <td>0.0</td>\n",
              "      <td>0.0</td>\n",
              "      <td>0.0</td>\n",
              "      <td>0.0</td>\n",
              "      <td>0.0</td>\n",
              "      <td>2.0</td>\n",
              "      <td>0.0</td>\n",
              "      <td>0.0</td>\n",
              "      <td>0.0</td>\n",
              "      <td>0.0</td>\n",
              "      <td>0.0</td>\n",
              "      <td>0.0</td>\n",
              "      <td>0.0</td>\n",
              "      <td>0.0</td>\n",
              "      <td>...</td>\n",
              "      <td>0.0</td>\n",
              "      <td>0.0</td>\n",
              "      <td>0.0</td>\n",
              "      <td>0.0</td>\n",
              "      <td>0.0</td>\n",
              "      <td>0.0</td>\n",
              "      <td>0.0</td>\n",
              "      <td>0.0</td>\n",
              "      <td>0.0</td>\n",
              "      <td>0.0</td>\n",
              "      <td>0.0</td>\n",
              "      <td>0.0</td>\n",
              "      <td>0.0</td>\n",
              "      <td>0.0</td>\n",
              "      <td>0.0</td>\n",
              "      <td>0.0</td>\n",
              "      <td>0.0</td>\n",
              "      <td>0.0</td>\n",
              "      <td>0.0</td>\n",
              "      <td>0.0</td>\n",
              "      <td>0.0</td>\n",
              "      <td>0.0</td>\n",
              "      <td>0.0</td>\n",
              "      <td>0.0</td>\n",
              "      <td>0.0</td>\n",
              "      <td>0.0</td>\n",
              "      <td>0.0</td>\n",
              "      <td>0.0</td>\n",
              "      <td>0.0</td>\n",
              "      <td>0.0</td>\n",
              "      <td>0.0</td>\n",
              "      <td>0.0</td>\n",
              "      <td>0.0</td>\n",
              "      <td>0.0</td>\n",
              "      <td>0.0</td>\n",
              "      <td>0.0</td>\n",
              "      <td>0.0</td>\n",
              "      <td>0.0</td>\n",
              "      <td>0.0</td>\n",
              "      <td>0.0</td>\n",
              "    </tr>\n",
              "    <tr>\n",
              "      <th>5</th>\n",
              "      <td>4.0</td>\n",
              "      <td>0.0</td>\n",
              "      <td>0.0</td>\n",
              "      <td>0.0</td>\n",
              "      <td>0.0</td>\n",
              "      <td>0.0</td>\n",
              "      <td>0.0</td>\n",
              "      <td>0.0</td>\n",
              "      <td>0.0</td>\n",
              "      <td>0.0</td>\n",
              "      <td>0.0</td>\n",
              "      <td>0.0</td>\n",
              "      <td>0.0</td>\n",
              "      <td>0.0</td>\n",
              "      <td>0.0</td>\n",
              "      <td>0.0</td>\n",
              "      <td>0.0</td>\n",
              "      <td>0.0</td>\n",
              "      <td>0.0</td>\n",
              "      <td>0.0</td>\n",
              "      <td>4.0</td>\n",
              "      <td>0.0</td>\n",
              "      <td>0.0</td>\n",
              "      <td>0.0</td>\n",
              "      <td>0.0</td>\n",
              "      <td>0.0</td>\n",
              "      <td>0.0</td>\n",
              "      <td>0.0</td>\n",
              "      <td>0.0</td>\n",
              "      <td>0.0</td>\n",
              "      <td>0.0</td>\n",
              "      <td>0.0</td>\n",
              "      <td>4.0</td>\n",
              "      <td>4.0</td>\n",
              "      <td>0.0</td>\n",
              "      <td>3.0</td>\n",
              "      <td>0.0</td>\n",
              "      <td>0.0</td>\n",
              "      <td>0.0</td>\n",
              "      <td>0.0</td>\n",
              "      <td>...</td>\n",
              "      <td>0.0</td>\n",
              "      <td>0.0</td>\n",
              "      <td>0.0</td>\n",
              "      <td>0.0</td>\n",
              "      <td>0.0</td>\n",
              "      <td>0.0</td>\n",
              "      <td>0.0</td>\n",
              "      <td>0.0</td>\n",
              "      <td>0.0</td>\n",
              "      <td>0.0</td>\n",
              "      <td>0.0</td>\n",
              "      <td>0.0</td>\n",
              "      <td>0.0</td>\n",
              "      <td>0.0</td>\n",
              "      <td>0.0</td>\n",
              "      <td>0.0</td>\n",
              "      <td>0.0</td>\n",
              "      <td>0.0</td>\n",
              "      <td>0.0</td>\n",
              "      <td>0.0</td>\n",
              "      <td>0.0</td>\n",
              "      <td>0.0</td>\n",
              "      <td>0.0</td>\n",
              "      <td>0.0</td>\n",
              "      <td>0.0</td>\n",
              "      <td>0.0</td>\n",
              "      <td>0.0</td>\n",
              "      <td>0.0</td>\n",
              "      <td>0.0</td>\n",
              "      <td>0.0</td>\n",
              "      <td>0.0</td>\n",
              "      <td>0.0</td>\n",
              "      <td>0.0</td>\n",
              "      <td>0.0</td>\n",
              "      <td>0.0</td>\n",
              "      <td>0.0</td>\n",
              "      <td>0.0</td>\n",
              "      <td>0.0</td>\n",
              "      <td>0.0</td>\n",
              "      <td>0.0</td>\n",
              "    </tr>\n",
              "  </tbody>\n",
              "</table>\n",
              "<p>5 rows × 9724 columns</p>\n",
              "</div>"
            ],
            "text/plain": [
              "movieId  1       2       3       4       ...  193583  193585  193587  193609\n",
              "userId                                   ...                                \n",
              "1           4.0     0.0     4.0     0.0  ...     0.0     0.0     0.0     0.0\n",
              "2           0.0     0.0     0.0     0.0  ...     0.0     0.0     0.0     0.0\n",
              "3           0.0     0.0     0.0     0.0  ...     0.0     0.0     0.0     0.0\n",
              "4           0.0     0.0     0.0     0.0  ...     0.0     0.0     0.0     0.0\n",
              "5           4.0     0.0     0.0     0.0  ...     0.0     0.0     0.0     0.0\n",
              "\n",
              "[5 rows x 9724 columns]"
            ]
          },
          "metadata": {
            "tags": []
          },
          "execution_count": 378
        }
      ]
    },
    {
      "cell_type": "markdown",
      "metadata": {
        "id": "2fORdeKIffKL",
        "colab_type": "text"
      },
      "source": [
        "Last but not least, I need to de-normalize the data (normalize by each users mean) and convert it from a dataframe to a numpy array."
      ]
    },
    {
      "cell_type": "code",
      "metadata": {
        "id": "o1-Bcs3PfQlU",
        "colab_type": "code",
        "colab": {}
      },
      "source": [
        "R = Ratings.values\n",
        "user_ratings_mean = np.mean(R, axis = 1) # Numpy array containing the average rating for every user\n",
        "Ratings_demeaned = R - user_ratings_mean.reshape(-1, 1)"
      ],
      "execution_count": 0,
      "outputs": []
    },
    {
      "cell_type": "code",
      "metadata": {
        "id": "6pjd46sl04bE",
        "colab_type": "code",
        "colab": {
          "base_uri": "https://localhost:8080/",
          "height": 238
        },
        "outputId": "fd7cefe4-eadc-4095-ee68-ada223fb916b"
      },
      "source": [
        "Ratings_demeaned"
      ],
      "execution_count": 380,
      "outputs": [
        {
          "output_type": "execute_result",
          "data": {
            "text/plain": [
              "array([[ 3.89582476, -0.10417524,  3.89582476, ..., -0.10417524,\n",
              "        -0.10417524, -0.10417524],\n",
              "       [-0.01177499, -0.01177499, -0.01177499, ..., -0.01177499,\n",
              "        -0.01177499, -0.01177499],\n",
              "       [-0.00976964, -0.00976964, -0.00976964, ..., -0.00976964,\n",
              "        -0.00976964, -0.00976964],\n",
              "       ...,\n",
              "       [ 2.23215755,  1.73215755,  1.73215755, ..., -0.26784245,\n",
              "        -0.26784245, -0.26784245],\n",
              "       [ 2.98755656, -0.01244344, -0.01244344, ..., -0.01244344,\n",
              "        -0.01244344, -0.01244344],\n",
              "       [ 4.50611888, -0.49388112, -0.49388112, ..., -0.49388112,\n",
              "        -0.49388112, -0.49388112]])"
            ]
          },
          "metadata": {
            "tags": []
          },
          "execution_count": 380
        }
      ]
    },
    {
      "cell_type": "markdown",
      "metadata": {
        "id": "orDmecnl6fIv",
        "colab_type": "text"
      },
      "source": [
        "# **Data Modelling/Model Building**"
      ]
    },
    {
      "cell_type": "markdown",
      "metadata": {
        "id": "7caokOpUfnPj",
        "colab_type": "text"
      },
      "source": [
        "# **Model-Based Collaborative Filtering**¶\n",
        "Model-based Collaborative Filtering is based on matrix factorization (MF) which has received greater exposure, mainly as an unsupervised learning method for latent variable decomposition and dimensionality reduction. Matrix factorization is widely used for recommender systems where it can deal better with scalability and sparsity than Memory-based CF:\n",
        "\n",
        "The goal of MF is to learn the latent preferences of users and the latent attributes of items from known ratings (learn features that describe the characteristics of ratings) to then predict the unknown ratings through the dot product of the latent features of users and items. When you have a very sparse matrix, with a lot of dimensions, by doing matrix factorization, you can restructure the user-item matrix into low-rank structure, and you can represent the matrix by the multiplication of two low-rank matrices, where the rows contain the latent vector. You fit this matrix to approximate your original matrix, as closely as possible, by multiplying the low-rank matrices together, which fills in the entries missing in the original matrix. For example, let's check the sparsity of the ratings dataset:"
      ]
    },
    {
      "cell_type": "code",
      "metadata": {
        "id": "9lxWSQFQfQn9",
        "colab_type": "code",
        "outputId": "73e5bfe2-a198-4f6b-e5d0-d4ae71cc4e81",
        "colab": {
          "base_uri": "https://localhost:8080/",
          "height": 34
        }
      },
      "source": [
        "sparsity = round(1.0 - len(ratings) / float(num_users * num_movies), 3)\n",
        "print('The sparsity level of MovieLens1M dataset is ' +  str(sparsity * 100) + '%')"
      ],
      "execution_count": 381,
      "outputs": [
        {
          "output_type": "stream",
          "text": [
            "The sparsity level of MovieLens1M dataset is 98.3%\n"
          ],
          "name": "stdout"
        }
      ]
    },
    {
      "cell_type": "markdown",
      "metadata": {
        "id": "bKXNnT5EfxZF",
        "colab_type": "text"
      },
      "source": [
        "## **Setting Up SVD** Revisit later\n",
        "Scipy and Numpy both have functions to do the singular value decomposition. I'm going to use the Scipy function svds because it let's me choose how many latent factors I want to use to approximate the original ratings matrix (instead of having to truncate it after)."
      ]
    },
    {
      "cell_type": "code",
      "metadata": {
        "id": "z43pGxU3fQrG",
        "colab_type": "code",
        "colab": {}
      },
      "source": [
        "from scipy.sparse.linalg import svds\n",
        "U, sigma, Vt = svds(Ratings_demeaned, k = 50)"
      ],
      "execution_count": 0,
      "outputs": []
    },
    {
      "cell_type": "markdown",
      "metadata": {
        "id": "0h-WJYiKf4o7",
        "colab_type": "text"
      },
      "source": [
        "As I'm going to leverage matrix multiplication to get predictions, I'll convert the  ΣΣ  (now are values) to the diagonal matrix form."
      ]
    },
    {
      "cell_type": "code",
      "metadata": {
        "id": "yTvuo-NJfQwr",
        "colab_type": "code",
        "colab": {}
      },
      "source": [
        "sigma = np.diag(sigma)"
      ],
      "execution_count": 0,
      "outputs": []
    },
    {
      "cell_type": "markdown",
      "metadata": {
        "id": "eNapBiCNgE1G",
        "colab_type": "text"
      },
      "source": [
        "## **Making Predictions from the Decomposed Matrices** (Input UserID, output movies)\n",
        "I now have everything I need to make movie ratings predictions for every user. I can do it all at once by following the math and matrix multiply  UU ,  ΣΣ , and  VTVT  back to get the rank  k=50k=50  approximation of  AA .\n",
        "\n",
        "But first, I need to add the user means back to get the actual star ratings prediction."
      ]
    },
    {
      "cell_type": "code",
      "metadata": {
        "id": "icB-UCalfQ1Q",
        "colab_type": "code",
        "colab": {}
      },
      "source": [
        "all_user_predicted_ratings = np.dot(np.dot(U, sigma), Vt) + user_ratings_mean.reshape(-1, 1)"
      ],
      "execution_count": 0,
      "outputs": []
    },
    {
      "cell_type": "markdown",
      "metadata": {
        "id": "pDu2JUCIgLMv",
        "colab_type": "text"
      },
      "source": [
        "With the predictions matrix for every user, I can build a function to recommend movies for any user. I return the list of movies the user has already rated, for the sake of comparison."
      ]
    },
    {
      "cell_type": "code",
      "metadata": {
        "id": "nfn4DYuagHqG",
        "colab_type": "code",
        "outputId": "b270608a-a571-430d-f49b-34c3af404f9e",
        "colab": {
          "base_uri": "https://localhost:8080/",
          "height": 253
        }
      },
      "source": [
        "preds = pd.DataFrame(all_user_predicted_ratings, columns = Ratings.columns)\n",
        "preds.head()"
      ],
      "execution_count": 385,
      "outputs": [
        {
          "output_type": "execute_result",
          "data": {
            "text/html": [
              "<div>\n",
              "<style scoped>\n",
              "    .dataframe tbody tr th:only-of-type {\n",
              "        vertical-align: middle;\n",
              "    }\n",
              "\n",
              "    .dataframe tbody tr th {\n",
              "        vertical-align: top;\n",
              "    }\n",
              "\n",
              "    .dataframe thead th {\n",
              "        text-align: right;\n",
              "    }\n",
              "</style>\n",
              "<table border=\"1\" class=\"dataframe\">\n",
              "  <thead>\n",
              "    <tr style=\"text-align: right;\">\n",
              "      <th>movieId</th>\n",
              "      <th>1</th>\n",
              "      <th>2</th>\n",
              "      <th>3</th>\n",
              "      <th>4</th>\n",
              "      <th>5</th>\n",
              "      <th>6</th>\n",
              "      <th>7</th>\n",
              "      <th>8</th>\n",
              "      <th>9</th>\n",
              "      <th>10</th>\n",
              "      <th>11</th>\n",
              "      <th>12</th>\n",
              "      <th>13</th>\n",
              "      <th>14</th>\n",
              "      <th>15</th>\n",
              "      <th>16</th>\n",
              "      <th>17</th>\n",
              "      <th>18</th>\n",
              "      <th>19</th>\n",
              "      <th>20</th>\n",
              "      <th>21</th>\n",
              "      <th>22</th>\n",
              "      <th>23</th>\n",
              "      <th>24</th>\n",
              "      <th>25</th>\n",
              "      <th>26</th>\n",
              "      <th>27</th>\n",
              "      <th>28</th>\n",
              "      <th>29</th>\n",
              "      <th>30</th>\n",
              "      <th>31</th>\n",
              "      <th>32</th>\n",
              "      <th>34</th>\n",
              "      <th>36</th>\n",
              "      <th>38</th>\n",
              "      <th>39</th>\n",
              "      <th>40</th>\n",
              "      <th>41</th>\n",
              "      <th>42</th>\n",
              "      <th>43</th>\n",
              "      <th>...</th>\n",
              "      <th>185135</th>\n",
              "      <th>185435</th>\n",
              "      <th>185473</th>\n",
              "      <th>185585</th>\n",
              "      <th>186587</th>\n",
              "      <th>187031</th>\n",
              "      <th>187541</th>\n",
              "      <th>187593</th>\n",
              "      <th>187595</th>\n",
              "      <th>187717</th>\n",
              "      <th>188189</th>\n",
              "      <th>188301</th>\n",
              "      <th>188675</th>\n",
              "      <th>188751</th>\n",
              "      <th>188797</th>\n",
              "      <th>188833</th>\n",
              "      <th>189043</th>\n",
              "      <th>189111</th>\n",
              "      <th>189333</th>\n",
              "      <th>189381</th>\n",
              "      <th>189547</th>\n",
              "      <th>189713</th>\n",
              "      <th>190183</th>\n",
              "      <th>190207</th>\n",
              "      <th>190209</th>\n",
              "      <th>190213</th>\n",
              "      <th>190215</th>\n",
              "      <th>190219</th>\n",
              "      <th>190221</th>\n",
              "      <th>191005</th>\n",
              "      <th>193565</th>\n",
              "      <th>193567</th>\n",
              "      <th>193571</th>\n",
              "      <th>193573</th>\n",
              "      <th>193579</th>\n",
              "      <th>193581</th>\n",
              "      <th>193583</th>\n",
              "      <th>193585</th>\n",
              "      <th>193587</th>\n",
              "      <th>193609</th>\n",
              "    </tr>\n",
              "  </thead>\n",
              "  <tbody>\n",
              "    <tr>\n",
              "      <th>0</th>\n",
              "      <td>2.167328</td>\n",
              "      <td>0.402751</td>\n",
              "      <td>0.840184</td>\n",
              "      <td>-0.076281</td>\n",
              "      <td>-0.551337</td>\n",
              "      <td>2.504091</td>\n",
              "      <td>-0.890114</td>\n",
              "      <td>-0.026443</td>\n",
              "      <td>0.196974</td>\n",
              "      <td>1.593259</td>\n",
              "      <td>-0.474160</td>\n",
              "      <td>0.237581</td>\n",
              "      <td>0.346021</td>\n",
              "      <td>0.053504</td>\n",
              "      <td>-0.108999</td>\n",
              "      <td>1.355739</td>\n",
              "      <td>-0.426912</td>\n",
              "      <td>-0.077438</td>\n",
              "      <td>0.284485</td>\n",
              "      <td>0.417117</td>\n",
              "      <td>0.245054</td>\n",
              "      <td>0.362827</td>\n",
              "      <td>-0.139144</td>\n",
              "      <td>0.255003</td>\n",
              "      <td>0.067873</td>\n",
              "      <td>-0.220421</td>\n",
              "      <td>-0.033781</td>\n",
              "      <td>0.076522</td>\n",
              "      <td>-0.159481</td>\n",
              "      <td>-0.072023</td>\n",
              "      <td>-0.318595</td>\n",
              "      <td>0.774845</td>\n",
              "      <td>1.631756</td>\n",
              "      <td>-0.336022</td>\n",
              "      <td>0.139459</td>\n",
              "      <td>0.739682</td>\n",
              "      <td>-0.014906</td>\n",
              "      <td>0.084650</td>\n",
              "      <td>0.541279</td>\n",
              "      <td>0.134242</td>\n",
              "      <td>...</td>\n",
              "      <td>-0.178088</td>\n",
              "      <td>0.082812</td>\n",
              "      <td>0.039631</td>\n",
              "      <td>0.069620</td>\n",
              "      <td>0.039631</td>\n",
              "      <td>0.033760</td>\n",
              "      <td>0.016202</td>\n",
              "      <td>0.151717</td>\n",
              "      <td>0.036710</td>\n",
              "      <td>-0.172538</td>\n",
              "      <td>-0.155189</td>\n",
              "      <td>-0.121909</td>\n",
              "      <td>0.070459</td>\n",
              "      <td>0.038139</td>\n",
              "      <td>0.052525</td>\n",
              "      <td>0.090319</td>\n",
              "      <td>0.010978</td>\n",
              "      <td>0.012984</td>\n",
              "      <td>-0.018321</td>\n",
              "      <td>0.050599</td>\n",
              "      <td>-0.008879</td>\n",
              "      <td>-0.085795</td>\n",
              "      <td>-0.013370</td>\n",
              "      <td>0.006966</td>\n",
              "      <td>0.016995</td>\n",
              "      <td>0.004960</td>\n",
              "      <td>0.006966</td>\n",
              "      <td>0.004960</td>\n",
              "      <td>0.004960</td>\n",
              "      <td>-0.030425</td>\n",
              "      <td>-0.023453</td>\n",
              "      <td>-0.019967</td>\n",
              "      <td>-0.026939</td>\n",
              "      <td>-0.026939</td>\n",
              "      <td>-0.023453</td>\n",
              "      <td>-0.026939</td>\n",
              "      <td>-0.023453</td>\n",
              "      <td>-0.023453</td>\n",
              "      <td>-0.023453</td>\n",
              "      <td>-0.058732</td>\n",
              "    </tr>\n",
              "    <tr>\n",
              "      <th>1</th>\n",
              "      <td>0.211459</td>\n",
              "      <td>0.006658</td>\n",
              "      <td>0.033455</td>\n",
              "      <td>0.017419</td>\n",
              "      <td>0.183430</td>\n",
              "      <td>-0.062473</td>\n",
              "      <td>0.083037</td>\n",
              "      <td>0.024158</td>\n",
              "      <td>0.049330</td>\n",
              "      <td>-0.152530</td>\n",
              "      <td>0.077881</td>\n",
              "      <td>0.064805</td>\n",
              "      <td>0.005182</td>\n",
              "      <td>-0.001014</td>\n",
              "      <td>0.045648</td>\n",
              "      <td>0.096822</td>\n",
              "      <td>-0.027822</td>\n",
              "      <td>-0.004426</td>\n",
              "      <td>0.108646</td>\n",
              "      <td>-0.008286</td>\n",
              "      <td>-0.077978</td>\n",
              "      <td>0.016521</td>\n",
              "      <td>0.009482</td>\n",
              "      <td>0.023615</td>\n",
              "      <td>-0.212386</td>\n",
              "      <td>0.040676</td>\n",
              "      <td>-0.001671</td>\n",
              "      <td>-0.021906</td>\n",
              "      <td>-0.174248</td>\n",
              "      <td>0.013497</td>\n",
              "      <td>0.031743</td>\n",
              "      <td>-0.202221</td>\n",
              "      <td>-0.163632</td>\n",
              "      <td>0.030075</td>\n",
              "      <td>0.000392</td>\n",
              "      <td>-0.033238</td>\n",
              "      <td>0.000224</td>\n",
              "      <td>0.017713</td>\n",
              "      <td>0.009105</td>\n",
              "      <td>0.033852</td>\n",
              "      <td>...</td>\n",
              "      <td>0.107281</td>\n",
              "      <td>-0.026524</td>\n",
              "      <td>0.027091</td>\n",
              "      <td>0.011932</td>\n",
              "      <td>0.027091</td>\n",
              "      <td>0.016864</td>\n",
              "      <td>0.051425</td>\n",
              "      <td>0.069516</td>\n",
              "      <td>0.057564</td>\n",
              "      <td>-0.006654</td>\n",
              "      <td>-0.005944</td>\n",
              "      <td>0.014142</td>\n",
              "      <td>-0.002021</td>\n",
              "      <td>0.038409</td>\n",
              "      <td>0.035970</td>\n",
              "      <td>-0.002728</td>\n",
              "      <td>0.002845</td>\n",
              "      <td>0.003324</td>\n",
              "      <td>0.019168</td>\n",
              "      <td>-0.001314</td>\n",
              "      <td>-0.001049</td>\n",
              "      <td>-0.003101</td>\n",
              "      <td>0.009848</td>\n",
              "      <td>0.001888</td>\n",
              "      <td>0.004281</td>\n",
              "      <td>0.001410</td>\n",
              "      <td>0.001888</td>\n",
              "      <td>0.001410</td>\n",
              "      <td>0.001410</td>\n",
              "      <td>0.024940</td>\n",
              "      <td>0.019498</td>\n",
              "      <td>0.016777</td>\n",
              "      <td>0.022219</td>\n",
              "      <td>0.022219</td>\n",
              "      <td>0.019498</td>\n",
              "      <td>0.022219</td>\n",
              "      <td>0.019498</td>\n",
              "      <td>0.019498</td>\n",
              "      <td>0.019498</td>\n",
              "      <td>0.032281</td>\n",
              "    </tr>\n",
              "    <tr>\n",
              "      <th>2</th>\n",
              "      <td>0.003588</td>\n",
              "      <td>0.030518</td>\n",
              "      <td>0.046393</td>\n",
              "      <td>0.008176</td>\n",
              "      <td>-0.006247</td>\n",
              "      <td>0.107328</td>\n",
              "      <td>-0.012416</td>\n",
              "      <td>0.003779</td>\n",
              "      <td>0.007297</td>\n",
              "      <td>-0.059362</td>\n",
              "      <td>-0.005484</td>\n",
              "      <td>0.031175</td>\n",
              "      <td>0.019045</td>\n",
              "      <td>-0.008570</td>\n",
              "      <td>0.009015</td>\n",
              "      <td>0.029135</td>\n",
              "      <td>-0.021266</td>\n",
              "      <td>0.017135</td>\n",
              "      <td>-0.058321</td>\n",
              "      <td>-0.012562</td>\n",
              "      <td>-0.076699</td>\n",
              "      <td>0.011520</td>\n",
              "      <td>-0.014717</td>\n",
              "      <td>0.041779</td>\n",
              "      <td>-0.040655</td>\n",
              "      <td>-0.004429</td>\n",
              "      <td>-0.009282</td>\n",
              "      <td>-0.009510</td>\n",
              "      <td>0.071715</td>\n",
              "      <td>0.010940</td>\n",
              "      <td>0.023559</td>\n",
              "      <td>0.023674</td>\n",
              "      <td>-0.001701</td>\n",
              "      <td>0.006543</td>\n",
              "      <td>0.006831</td>\n",
              "      <td>0.067326</td>\n",
              "      <td>0.007865</td>\n",
              "      <td>-0.001794</td>\n",
              "      <td>0.011360</td>\n",
              "      <td>0.001821</td>\n",
              "      <td>...</td>\n",
              "      <td>0.010848</td>\n",
              "      <td>-0.005258</td>\n",
              "      <td>0.012808</td>\n",
              "      <td>0.017701</td>\n",
              "      <td>0.012808</td>\n",
              "      <td>0.012132</td>\n",
              "      <td>0.009292</td>\n",
              "      <td>0.002576</td>\n",
              "      <td>0.012102</td>\n",
              "      <td>-0.001268</td>\n",
              "      <td>-0.000341</td>\n",
              "      <td>0.020286</td>\n",
              "      <td>0.014689</td>\n",
              "      <td>0.004859</td>\n",
              "      <td>0.014408</td>\n",
              "      <td>0.016599</td>\n",
              "      <td>0.008085</td>\n",
              "      <td>0.008100</td>\n",
              "      <td>0.003702</td>\n",
              "      <td>0.012780</td>\n",
              "      <td>0.007564</td>\n",
              "      <td>0.003369</td>\n",
              "      <td>0.005910</td>\n",
              "      <td>0.008053</td>\n",
              "      <td>0.008131</td>\n",
              "      <td>0.008038</td>\n",
              "      <td>0.008053</td>\n",
              "      <td>0.008038</td>\n",
              "      <td>0.008038</td>\n",
              "      <td>0.005310</td>\n",
              "      <td>0.005909</td>\n",
              "      <td>0.006209</td>\n",
              "      <td>0.005610</td>\n",
              "      <td>0.005610</td>\n",
              "      <td>0.005909</td>\n",
              "      <td>0.005610</td>\n",
              "      <td>0.005909</td>\n",
              "      <td>0.005909</td>\n",
              "      <td>0.005909</td>\n",
              "      <td>0.008004</td>\n",
              "    </tr>\n",
              "    <tr>\n",
              "      <th>3</th>\n",
              "      <td>2.051549</td>\n",
              "      <td>-0.387104</td>\n",
              "      <td>-0.252199</td>\n",
              "      <td>0.087562</td>\n",
              "      <td>0.130465</td>\n",
              "      <td>0.270210</td>\n",
              "      <td>0.477835</td>\n",
              "      <td>0.040313</td>\n",
              "      <td>0.025858</td>\n",
              "      <td>-0.017365</td>\n",
              "      <td>0.637032</td>\n",
              "      <td>-0.092990</td>\n",
              "      <td>0.280611</td>\n",
              "      <td>0.268450</td>\n",
              "      <td>-0.027183</td>\n",
              "      <td>0.161275</td>\n",
              "      <td>1.801845</td>\n",
              "      <td>-0.258694</td>\n",
              "      <td>-0.035952</td>\n",
              "      <td>0.131731</td>\n",
              "      <td>1.912042</td>\n",
              "      <td>-0.169062</td>\n",
              "      <td>-0.034940</td>\n",
              "      <td>0.063111</td>\n",
              "      <td>1.661501</td>\n",
              "      <td>0.158679</td>\n",
              "      <td>0.026145</td>\n",
              "      <td>0.551609</td>\n",
              "      <td>0.492758</td>\n",
              "      <td>0.256954</td>\n",
              "      <td>-0.220697</td>\n",
              "      <td>2.094105</td>\n",
              "      <td>1.940568</td>\n",
              "      <td>0.880095</td>\n",
              "      <td>-0.077526</td>\n",
              "      <td>1.327586</td>\n",
              "      <td>0.003094</td>\n",
              "      <td>0.087768</td>\n",
              "      <td>0.102798</td>\n",
              "      <td>0.069933</td>\n",
              "      <td>...</td>\n",
              "      <td>-0.288689</td>\n",
              "      <td>0.111226</td>\n",
              "      <td>0.004181</td>\n",
              "      <td>0.059797</td>\n",
              "      <td>0.004181</td>\n",
              "      <td>0.006699</td>\n",
              "      <td>-0.011445</td>\n",
              "      <td>0.190691</td>\n",
              "      <td>-0.072316</td>\n",
              "      <td>0.121225</td>\n",
              "      <td>0.109122</td>\n",
              "      <td>-0.003448</td>\n",
              "      <td>-0.019439</td>\n",
              "      <td>0.049429</td>\n",
              "      <td>0.005512</td>\n",
              "      <td>-0.025047</td>\n",
              "      <td>-0.002677</td>\n",
              "      <td>-0.003250</td>\n",
              "      <td>0.010189</td>\n",
              "      <td>-0.013831</td>\n",
              "      <td>0.002714</td>\n",
              "      <td>0.060707</td>\n",
              "      <td>-0.022289</td>\n",
              "      <td>-0.001531</td>\n",
              "      <td>-0.004396</td>\n",
              "      <td>-0.000958</td>\n",
              "      <td>-0.001531</td>\n",
              "      <td>-0.000958</td>\n",
              "      <td>-0.000958</td>\n",
              "      <td>0.006164</td>\n",
              "      <td>0.004836</td>\n",
              "      <td>0.004172</td>\n",
              "      <td>0.005500</td>\n",
              "      <td>0.005500</td>\n",
              "      <td>0.004836</td>\n",
              "      <td>0.005500</td>\n",
              "      <td>0.004836</td>\n",
              "      <td>0.004836</td>\n",
              "      <td>0.004836</td>\n",
              "      <td>-0.023311</td>\n",
              "    </tr>\n",
              "    <tr>\n",
              "      <th>4</th>\n",
              "      <td>1.344738</td>\n",
              "      <td>0.778511</td>\n",
              "      <td>0.065749</td>\n",
              "      <td>0.111744</td>\n",
              "      <td>0.273144</td>\n",
              "      <td>0.584426</td>\n",
              "      <td>0.254930</td>\n",
              "      <td>0.128788</td>\n",
              "      <td>-0.085541</td>\n",
              "      <td>1.023455</td>\n",
              "      <td>0.974908</td>\n",
              "      <td>-0.070313</td>\n",
              "      <td>0.135688</td>\n",
              "      <td>0.237220</td>\n",
              "      <td>0.208138</td>\n",
              "      <td>0.552464</td>\n",
              "      <td>0.771266</td>\n",
              "      <td>-0.049298</td>\n",
              "      <td>0.326467</td>\n",
              "      <td>0.082279</td>\n",
              "      <td>1.158006</td>\n",
              "      <td>0.332666</td>\n",
              "      <td>0.156395</td>\n",
              "      <td>0.109681</td>\n",
              "      <td>0.861100</td>\n",
              "      <td>0.242800</td>\n",
              "      <td>0.033883</td>\n",
              "      <td>0.124262</td>\n",
              "      <td>0.044031</td>\n",
              "      <td>-0.000574</td>\n",
              "      <td>0.465793</td>\n",
              "      <td>1.254308</td>\n",
              "      <td>1.893785</td>\n",
              "      <td>0.999793</td>\n",
              "      <td>-0.017239</td>\n",
              "      <td>1.256341</td>\n",
              "      <td>-0.011412</td>\n",
              "      <td>0.111539</td>\n",
              "      <td>-0.012218</td>\n",
              "      <td>0.110956</td>\n",
              "      <td>...</td>\n",
              "      <td>-0.007826</td>\n",
              "      <td>0.023460</td>\n",
              "      <td>-0.006995</td>\n",
              "      <td>-0.012447</td>\n",
              "      <td>-0.006995</td>\n",
              "      <td>-0.004094</td>\n",
              "      <td>-0.009139</td>\n",
              "      <td>0.025778</td>\n",
              "      <td>0.004529</td>\n",
              "      <td>-0.017096</td>\n",
              "      <td>-0.015755</td>\n",
              "      <td>-0.002459</td>\n",
              "      <td>-0.006417</td>\n",
              "      <td>-0.003125</td>\n",
              "      <td>-0.008097</td>\n",
              "      <td>-0.007197</td>\n",
              "      <td>0.003527</td>\n",
              "      <td>0.004970</td>\n",
              "      <td>-0.009438</td>\n",
              "      <td>-0.005636</td>\n",
              "      <td>-0.003344</td>\n",
              "      <td>-0.010391</td>\n",
              "      <td>-0.018666</td>\n",
              "      <td>0.000642</td>\n",
              "      <td>0.007855</td>\n",
              "      <td>-0.000801</td>\n",
              "      <td>0.000642</td>\n",
              "      <td>-0.000801</td>\n",
              "      <td>-0.000801</td>\n",
              "      <td>-0.009286</td>\n",
              "      <td>-0.008042</td>\n",
              "      <td>-0.007419</td>\n",
              "      <td>-0.008664</td>\n",
              "      <td>-0.008664</td>\n",
              "      <td>-0.008042</td>\n",
              "      <td>-0.008664</td>\n",
              "      <td>-0.008042</td>\n",
              "      <td>-0.008042</td>\n",
              "      <td>-0.008042</td>\n",
              "      <td>-0.010127</td>\n",
              "    </tr>\n",
              "  </tbody>\n",
              "</table>\n",
              "<p>5 rows × 9724 columns</p>\n",
              "</div>"
            ],
            "text/plain": [
              "movieId    1         2         3       ...    193585    193587    193609\n",
              "0        2.167328  0.402751  0.840184  ... -0.023453 -0.023453 -0.058732\n",
              "1        0.211459  0.006658  0.033455  ...  0.019498  0.019498  0.032281\n",
              "2        0.003588  0.030518  0.046393  ...  0.005909  0.005909  0.008004\n",
              "3        2.051549 -0.387104 -0.252199  ...  0.004836  0.004836 -0.023311\n",
              "4        1.344738  0.778511  0.065749  ... -0.008042 -0.008042 -0.010127\n",
              "\n",
              "[5 rows x 9724 columns]"
            ]
          },
          "metadata": {
            "tags": []
          },
          "execution_count": 385
        }
      ]
    },
    {
      "cell_type": "markdown",
      "metadata": {
        "id": "i-ITy1uggO_A",
        "colab_type": "text"
      },
      "source": [
        "Now I write a function to return the movies with the highest predicted rating that the specified user hasn't already rated. Though I didn't use any explicit movie content features (such as genre or title), I'll merge in that information to get a more complete picture of the recommendations."
      ]
    },
    {
      "cell_type": "code",
      "metadata": {
        "id": "hUnmiWgHgHt0",
        "colab_type": "code",
        "colab": {}
      },
      "source": [
        "def recommend_movies(predictions, userID, movies, original_ratings, num_recommendations):\n",
        "    \n",
        "    # Get and sort the user's predictions\n",
        "    user_row_number = userID - 1 # User ID starts at 1, not 0\n",
        "    sorted_user_predictions = preds.iloc[user_row_number].sort_values(ascending=False) # User ID starts at 1\n",
        "    \n",
        "    # Get the user's data and merge in the movie information.\n",
        "    user_data = original_ratings[original_ratings.userId == (userID)]\n",
        "    user_full = (user_data.merge(movies, how = 'left', left_on = 'movieId', right_on = 'movieId').\n",
        "                     sort_values(['rating'], ascending=False)\n",
        "                 )\n",
        "\n",
        "    print('User {0} has already rated {1} movies.'.format(userID, user_full.shape[0]))\n",
        "    print('Recommending highest {0} predicted ratings movies not already rated.'.format(num_recommendations))\n",
        "    \n",
        "    # Recommend the highest predicted rating movies that the user hasn't seen yet.\n",
        "    recommendations = (movies[~movies['movieId'].isin(user_full['movieId'])].\n",
        "         merge(pd.DataFrame(sorted_user_predictions).reset_index(), how = 'left',\n",
        "               left_on = 'movieId',\n",
        "               right_on = 'movieId').\n",
        "         rename(columns = {user_row_number: 'Predictions'}).\n",
        "         sort_values('Predictions', ascending = False).\n",
        "                       iloc[:num_recommendations, :-1]\n",
        "                      )\n",
        "\n",
        "    return user_full, recommendations"
      ],
      "execution_count": 0,
      "outputs": []
    },
    {
      "cell_type": "markdown",
      "metadata": {
        "id": "tR9KXNA7gacS",
        "colab_type": "text"
      },
      "source": [
        "Let's try to recommend 20 movies for user with ID 10."
      ]
    },
    {
      "cell_type": "code",
      "metadata": {
        "id": "Tv_RLNl0gHzm",
        "colab_type": "code",
        "outputId": "06b26db8-619e-417b-ab81-d2e089959c99",
        "colab": {
          "base_uri": "https://localhost:8080/",
          "height": 924
        }
      },
      "source": [
        "already_rated, predictions = recommend_movies(preds, 10, movies, ratings, 20)\n",
        "# Top 20 movies that User 10 hopefully will enjoy\n",
        "predictions"
      ],
      "execution_count": 387,
      "outputs": [
        {
          "output_type": "stream",
          "text": [
            "User 10 has already rated 140 movies.\n",
            "Recommending highest 20 predicted ratings movies not already rated.\n"
          ],
          "name": "stdout"
        },
        {
          "output_type": "execute_result",
          "data": {
            "text/html": [
              "<div>\n",
              "<style scoped>\n",
              "    .dataframe tbody tr th:only-of-type {\n",
              "        vertical-align: middle;\n",
              "    }\n",
              "\n",
              "    .dataframe tbody tr th {\n",
              "        vertical-align: top;\n",
              "    }\n",
              "\n",
              "    .dataframe thead th {\n",
              "        text-align: right;\n",
              "    }\n",
              "</style>\n",
              "<table border=\"1\" class=\"dataframe\">\n",
              "  <thead>\n",
              "    <tr style=\"text-align: right;\">\n",
              "      <th></th>\n",
              "      <th>movieId</th>\n",
              "      <th>title</th>\n",
              "      <th>genres</th>\n",
              "    </tr>\n",
              "  </thead>\n",
              "  <tbody>\n",
              "    <tr>\n",
              "      <th>4394</th>\n",
              "      <td>6539</td>\n",
              "      <td>Pirates of the Caribbean: The Curse of the Bla...</td>\n",
              "      <td>Action|Adventure|Comedy|Fantasy</td>\n",
              "    </tr>\n",
              "    <tr>\n",
              "      <th>7274</th>\n",
              "      <td>79132</td>\n",
              "      <td>Inception (2010)</td>\n",
              "      <td>Action|Crime|Drama|Mystery|Sci-Fi|Thriller|IMAX</td>\n",
              "    </tr>\n",
              "    <tr>\n",
              "      <th>5123</th>\n",
              "      <td>8368</td>\n",
              "      <td>Harry Potter and the Prisoner of Azkaban (2004)</td>\n",
              "      <td>Adventure|Fantasy|IMAX</td>\n",
              "    </tr>\n",
              "    <tr>\n",
              "      <th>3553</th>\n",
              "      <td>4896</td>\n",
              "      <td>Harry Potter and the Sorcerer's Stone (a.k.a. ...</td>\n",
              "      <td>Adventure|Children|Fantasy</td>\n",
              "    </tr>\n",
              "    <tr>\n",
              "      <th>3547</th>\n",
              "      <td>4886</td>\n",
              "      <td>Monsters, Inc. (2001)</td>\n",
              "      <td>Adventure|Animation|Children|Comedy|Fantasy</td>\n",
              "    </tr>\n",
              "    <tr>\n",
              "      <th>3593</th>\n",
              "      <td>4963</td>\n",
              "      <td>Ocean's Eleven (2001)</td>\n",
              "      <td>Crime|Thriller</td>\n",
              "    </tr>\n",
              "    <tr>\n",
              "      <th>4050</th>\n",
              "      <td>5816</td>\n",
              "      <td>Harry Potter and the Chamber of Secrets (2002)</td>\n",
              "      <td>Adventure|Fantasy</td>\n",
              "    </tr>\n",
              "    <tr>\n",
              "      <th>7207</th>\n",
              "      <td>76093</td>\n",
              "      <td>How to Train Your Dragon (2010)</td>\n",
              "      <td>Adventure|Animation|Children|Fantasy|IMAX</td>\n",
              "    </tr>\n",
              "    <tr>\n",
              "      <th>3601</th>\n",
              "      <td>4973</td>\n",
              "      <td>Amelie (Fabuleux destin d'AmÃ©lie Poulain, Le)...</td>\n",
              "      <td>Comedy|Romance</td>\n",
              "    </tr>\n",
              "    <tr>\n",
              "      <th>6003</th>\n",
              "      <td>40815</td>\n",
              "      <td>Harry Potter and the Goblet of Fire (2005)</td>\n",
              "      <td>Adventure|Fantasy|Thriller|IMAX</td>\n",
              "    </tr>\n",
              "    <tr>\n",
              "      <th>276</th>\n",
              "      <td>318</td>\n",
              "      <td>Shawshank Redemption, The (1994)</td>\n",
              "      <td>Crime|Drama</td>\n",
              "    </tr>\n",
              "    <tr>\n",
              "      <th>6455</th>\n",
              "      <td>54001</td>\n",
              "      <td>Harry Potter and the Order of the Phoenix (2007)</td>\n",
              "      <td>Adventure|Drama|Fantasy|IMAX</td>\n",
              "    </tr>\n",
              "    <tr>\n",
              "      <th>7365</th>\n",
              "      <td>81834</td>\n",
              "      <td>Harry Potter and the Deathly Hallows: Part 1 (...</td>\n",
              "      <td>Action|Adventure|Fantasy|IMAX</td>\n",
              "    </tr>\n",
              "    <tr>\n",
              "      <th>6808</th>\n",
              "      <td>63082</td>\n",
              "      <td>Slumdog Millionaire (2008)</td>\n",
              "      <td>Crime|Drama|Romance</td>\n",
              "    </tr>\n",
              "    <tr>\n",
              "      <th>6341</th>\n",
              "      <td>50872</td>\n",
              "      <td>Ratatouille (2007)</td>\n",
              "      <td>Animation|Children|Drama</td>\n",
              "    </tr>\n",
              "    <tr>\n",
              "      <th>4130</th>\n",
              "      <td>5989</td>\n",
              "      <td>Catch Me If You Can (2002)</td>\n",
              "      <td>Crime|Drama</td>\n",
              "    </tr>\n",
              "    <tr>\n",
              "      <th>6159</th>\n",
              "      <td>45720</td>\n",
              "      <td>Devil Wears Prada, The (2006)</td>\n",
              "      <td>Comedy|Drama</td>\n",
              "    </tr>\n",
              "    <tr>\n",
              "      <th>7537</th>\n",
              "      <td>88125</td>\n",
              "      <td>Harry Potter and the Deathly Hallows: Part 2 (...</td>\n",
              "      <td>Action|Adventure|Drama|Fantasy|Mystery|IMAX</td>\n",
              "    </tr>\n",
              "    <tr>\n",
              "      <th>1928</th>\n",
              "      <td>2572</td>\n",
              "      <td>10 Things I Hate About You (1999)</td>\n",
              "      <td>Comedy|Romance</td>\n",
              "    </tr>\n",
              "    <tr>\n",
              "      <th>6698</th>\n",
              "      <td>60069</td>\n",
              "      <td>WALLÂ·E (2008)</td>\n",
              "      <td>Adventure|Animation|Children|Romance|Sci-Fi</td>\n",
              "    </tr>\n",
              "  </tbody>\n",
              "</table>\n",
              "</div>"
            ],
            "text/plain": [
              "      movieId  ...                                           genres\n",
              "4394     6539  ...                  Action|Adventure|Comedy|Fantasy\n",
              "7274    79132  ...  Action|Crime|Drama|Mystery|Sci-Fi|Thriller|IMAX\n",
              "5123     8368  ...                           Adventure|Fantasy|IMAX\n",
              "3553     4896  ...                       Adventure|Children|Fantasy\n",
              "3547     4886  ...      Adventure|Animation|Children|Comedy|Fantasy\n",
              "3593     4963  ...                                   Crime|Thriller\n",
              "4050     5816  ...                                Adventure|Fantasy\n",
              "7207    76093  ...        Adventure|Animation|Children|Fantasy|IMAX\n",
              "3601     4973  ...                                   Comedy|Romance\n",
              "6003    40815  ...                  Adventure|Fantasy|Thriller|IMAX\n",
              "276       318  ...                                      Crime|Drama\n",
              "6455    54001  ...                     Adventure|Drama|Fantasy|IMAX\n",
              "7365    81834  ...                    Action|Adventure|Fantasy|IMAX\n",
              "6808    63082  ...                              Crime|Drama|Romance\n",
              "6341    50872  ...                         Animation|Children|Drama\n",
              "4130     5989  ...                                      Crime|Drama\n",
              "6159    45720  ...                                     Comedy|Drama\n",
              "7537    88125  ...      Action|Adventure|Drama|Fantasy|Mystery|IMAX\n",
              "1928     2572  ...                                   Comedy|Romance\n",
              "6698    60069  ...      Adventure|Animation|Children|Romance|Sci-Fi\n",
              "\n",
              "[20 rows x 3 columns]"
            ]
          },
          "metadata": {
            "tags": []
          },
          "execution_count": 387
        }
      ]
    },
    {
      "cell_type": "code",
      "metadata": {
        "id": "sF8xBW_TgH82",
        "colab_type": "code",
        "outputId": "3ec7c9c3-8b58-4838-ed7e-e6de0ec2c394",
        "colab": {
          "base_uri": "https://localhost:8080/",
          "height": 1000
        }
      },
      "source": [
        "# Top 20 movies that User 10 has rated \n",
        "already_rated.head(20)"
      ],
      "execution_count": 388,
      "outputs": [
        {
          "output_type": "execute_result",
          "data": {
            "text/html": [
              "<div>\n",
              "<style scoped>\n",
              "    .dataframe tbody tr th:only-of-type {\n",
              "        vertical-align: middle;\n",
              "    }\n",
              "\n",
              "    .dataframe tbody tr th {\n",
              "        vertical-align: top;\n",
              "    }\n",
              "\n",
              "    .dataframe thead th {\n",
              "        text-align: right;\n",
              "    }\n",
              "</style>\n",
              "<table border=\"1\" class=\"dataframe\">\n",
              "  <thead>\n",
              "    <tr style=\"text-align: right;\">\n",
              "      <th></th>\n",
              "      <th>userId</th>\n",
              "      <th>movieId</th>\n",
              "      <th>rating</th>\n",
              "      <th>timestamp</th>\n",
              "      <th>title</th>\n",
              "      <th>genres</th>\n",
              "    </tr>\n",
              "  </thead>\n",
              "  <tbody>\n",
              "    <tr>\n",
              "      <th>139</th>\n",
              "      <td>10</td>\n",
              "      <td>140110</td>\n",
              "      <td>5.0</td>\n",
              "      <td>13/02/2016 09:46:16</td>\n",
              "      <td>The Intern (2015)</td>\n",
              "      <td>Comedy</td>\n",
              "    </tr>\n",
              "    <tr>\n",
              "      <th>48</th>\n",
              "      <td>10</td>\n",
              "      <td>8869</td>\n",
              "      <td>5.0</td>\n",
              "      <td>12/02/2016 18:51:04</td>\n",
              "      <td>First Daughter (2004)</td>\n",
              "      <td>Comedy|Romance</td>\n",
              "    </tr>\n",
              "    <tr>\n",
              "      <th>117</th>\n",
              "      <td>10</td>\n",
              "      <td>96079</td>\n",
              "      <td>5.0</td>\n",
              "      <td>12/02/2016 18:36:12</td>\n",
              "      <td>Skyfall (2012)</td>\n",
              "      <td>Action|Adventure|Thriller|IMAX</td>\n",
              "    </tr>\n",
              "    <tr>\n",
              "      <th>110</th>\n",
              "      <td>10</td>\n",
              "      <td>91529</td>\n",
              "      <td>5.0</td>\n",
              "      <td>12/02/2016 18:35:20</td>\n",
              "      <td>Dark Knight Rises, The (2012)</td>\n",
              "      <td>Action|Adventure|Crime|IMAX</td>\n",
              "    </tr>\n",
              "    <tr>\n",
              "      <th>42</th>\n",
              "      <td>10</td>\n",
              "      <td>7458</td>\n",
              "      <td>5.0</td>\n",
              "      <td>13/02/2016 09:44:16</td>\n",
              "      <td>Troy (2004)</td>\n",
              "      <td>Action|Adventure|Drama|War</td>\n",
              "    </tr>\n",
              "    <tr>\n",
              "      <th>100</th>\n",
              "      <td>10</td>\n",
              "      <td>81845</td>\n",
              "      <td>5.0</td>\n",
              "      <td>12/02/2016 18:43:11</td>\n",
              "      <td>King's Speech, The (2010)</td>\n",
              "      <td>Drama</td>\n",
              "    </tr>\n",
              "    <tr>\n",
              "      <th>44</th>\n",
              "      <td>10</td>\n",
              "      <td>8533</td>\n",
              "      <td>5.0</td>\n",
              "      <td>12/02/2016 18:30:47</td>\n",
              "      <td>Notebook, The (2004)</td>\n",
              "      <td>Drama|Romance</td>\n",
              "    </tr>\n",
              "    <tr>\n",
              "      <th>97</th>\n",
              "      <td>10</td>\n",
              "      <td>79091</td>\n",
              "      <td>5.0</td>\n",
              "      <td>12/02/2016 19:42:04</td>\n",
              "      <td>Despicable Me (2010)</td>\n",
              "      <td>Animation|Children|Comedy|Crime</td>\n",
              "    </tr>\n",
              "    <tr>\n",
              "      <th>86</th>\n",
              "      <td>10</td>\n",
              "      <td>71579</td>\n",
              "      <td>5.0</td>\n",
              "      <td>12/02/2016 18:31:09</td>\n",
              "      <td>Education, An (2009)</td>\n",
              "      <td>Drama|Romance</td>\n",
              "    </tr>\n",
              "    <tr>\n",
              "      <th>57</th>\n",
              "      <td>10</td>\n",
              "      <td>33794</td>\n",
              "      <td>5.0</td>\n",
              "      <td>12/02/2016 18:33:51</td>\n",
              "      <td>Batman Begins (2005)</td>\n",
              "      <td>Action|Crime|IMAX</td>\n",
              "    </tr>\n",
              "    <tr>\n",
              "      <th>137</th>\n",
              "      <td>10</td>\n",
              "      <td>136020</td>\n",
              "      <td>5.0</td>\n",
              "      <td>12/02/2016 18:36:32</td>\n",
              "      <td>Spectre (2015)</td>\n",
              "      <td>Action|Adventure|Crime</td>\n",
              "    </tr>\n",
              "    <tr>\n",
              "      <th>62</th>\n",
              "      <td>10</td>\n",
              "      <td>49272</td>\n",
              "      <td>5.0</td>\n",
              "      <td>12/02/2016 18:36:02</td>\n",
              "      <td>Casino Royale (2006)</td>\n",
              "      <td>Action|Adventure|Thriller</td>\n",
              "    </tr>\n",
              "    <tr>\n",
              "      <th>63</th>\n",
              "      <td>10</td>\n",
              "      <td>49286</td>\n",
              "      <td>5.0</td>\n",
              "      <td>13/02/2016 09:58:22</td>\n",
              "      <td>Holiday, The (2006)</td>\n",
              "      <td>Comedy|Romance</td>\n",
              "    </tr>\n",
              "    <tr>\n",
              "      <th>111</th>\n",
              "      <td>10</td>\n",
              "      <td>92259</td>\n",
              "      <td>5.0</td>\n",
              "      <td>12/02/2016 18:25:53</td>\n",
              "      <td>Intouchables (2011)</td>\n",
              "      <td>Comedy|Drama</td>\n",
              "    </tr>\n",
              "    <tr>\n",
              "      <th>82</th>\n",
              "      <td>10</td>\n",
              "      <td>69406</td>\n",
              "      <td>4.5</td>\n",
              "      <td>12/02/2016 18:45:47</td>\n",
              "      <td>Proposal, The (2009)</td>\n",
              "      <td>Comedy|Romance</td>\n",
              "    </tr>\n",
              "    <tr>\n",
              "      <th>112</th>\n",
              "      <td>10</td>\n",
              "      <td>94070</td>\n",
              "      <td>4.5</td>\n",
              "      <td>13/02/2016 09:56:27</td>\n",
              "      <td>Best Exotic Marigold Hotel, The (2011)</td>\n",
              "      <td>Comedy|Drama</td>\n",
              "    </tr>\n",
              "    <tr>\n",
              "      <th>54</th>\n",
              "      <td>10</td>\n",
              "      <td>31685</td>\n",
              "      <td>4.5</td>\n",
              "      <td>13/02/2016 10:00:02</td>\n",
              "      <td>Hitch (2005)</td>\n",
              "      <td>Comedy|Romance</td>\n",
              "    </tr>\n",
              "    <tr>\n",
              "      <th>78</th>\n",
              "      <td>10</td>\n",
              "      <td>63992</td>\n",
              "      <td>4.5</td>\n",
              "      <td>13/02/2016 09:47:43</td>\n",
              "      <td>Twilight (2008)</td>\n",
              "      <td>Drama|Fantasy|Romance|Thriller</td>\n",
              "    </tr>\n",
              "    <tr>\n",
              "      <th>71</th>\n",
              "      <td>10</td>\n",
              "      <td>58559</td>\n",
              "      <td>4.5</td>\n",
              "      <td>12/02/2016 18:35:13</td>\n",
              "      <td>Dark Knight, The (2008)</td>\n",
              "      <td>Action|Crime|Drama|IMAX</td>\n",
              "    </tr>\n",
              "    <tr>\n",
              "      <th>38</th>\n",
              "      <td>10</td>\n",
              "      <td>7169</td>\n",
              "      <td>4.5</td>\n",
              "      <td>12/02/2016 18:50:46</td>\n",
              "      <td>Chasing Liberty (2004)</td>\n",
              "      <td>Comedy|Romance</td>\n",
              "    </tr>\n",
              "  </tbody>\n",
              "</table>\n",
              "</div>"
            ],
            "text/plain": [
              "     userId  ...                           genres\n",
              "139      10  ...                           Comedy\n",
              "48       10  ...                   Comedy|Romance\n",
              "117      10  ...   Action|Adventure|Thriller|IMAX\n",
              "110      10  ...      Action|Adventure|Crime|IMAX\n",
              "42       10  ...       Action|Adventure|Drama|War\n",
              "100      10  ...                            Drama\n",
              "44       10  ...                    Drama|Romance\n",
              "97       10  ...  Animation|Children|Comedy|Crime\n",
              "86       10  ...                    Drama|Romance\n",
              "57       10  ...                Action|Crime|IMAX\n",
              "137      10  ...           Action|Adventure|Crime\n",
              "62       10  ...        Action|Adventure|Thriller\n",
              "63       10  ...                   Comedy|Romance\n",
              "111      10  ...                     Comedy|Drama\n",
              "82       10  ...                   Comedy|Romance\n",
              "112      10  ...                     Comedy|Drama\n",
              "54       10  ...                   Comedy|Romance\n",
              "78       10  ...   Drama|Fantasy|Romance|Thriller\n",
              "71       10  ...          Action|Crime|Drama|IMAX\n",
              "38       10  ...                   Comedy|Romance\n",
              "\n",
              "[20 rows x 6 columns]"
            ]
          },
          "metadata": {
            "tags": []
          },
          "execution_count": 388
        }
      ]
    },
    {
      "cell_type": "markdown",
      "metadata": {
        "id": "c3XJ2Pkxgkzt",
        "colab_type": "text"
      },
      "source": [
        "These look like pretty good recommendations. It's good to see that, although I didn't actually use the genre of the movie as a feature, the truncated matrix factorization features \"picked up\" on the underlying tastes and preferences of the user. I've recommended some comedy, drama, and romance movies - all of which were genres of some of this user's top rated movies."
      ]
    },
    {
      "cell_type": "markdown",
      "metadata": {
        "id": "exxcqFA3gpVP",
        "colab_type": "text"
      },
      "source": [
        "## **Model Evaluation**\n",
        "Can't forget to evaluate our model, can we?\n",
        "\n",
        "Instead of doing manually like the last time, I will use the Surprise library that provided various ready-to-use powerful prediction algorithms including (SVD) to evaluate its RMSE (Root Mean Squared Error) on the MovieLens dataset. It is a Python scikit building and analyzing recommender systems."
      ]
    },
    {
      "cell_type": "code",
      "metadata": {
        "id": "NXrD2sZefQuY",
        "colab_type": "code",
        "outputId": "401aa9a0-aa4c-4500-d5fc-55322a3332ea",
        "colab": {
          "base_uri": "https://localhost:8080/",
          "height": 411
        }
      },
      "source": [
        "# Import libraries from Surprise package\n",
        "!pip install surprise\n",
        "!pip install scikit-surprise\n",
        "import surprise\n",
        "from surprise import SVD\n",
        "from surprise import Dataset\n",
        "from surprise.model_selection import cross_validate\n",
        "from surprise import Reader\n",
        "\n",
        "# Load Reader library\n",
        "reader = Reader()\n",
        "\n",
        "# Load ratings dataset with Dataset library\n",
        "data = Dataset.load_from_df(ratings[['userId', 'movieId', 'rating']], reader)\n",
        "\n",
        "# Use the SVD algorithm.\n",
        "svd = SVD()\n",
        "\n",
        "# Split the dataset for 5-fold evaluation\n",
        "cross_validate(svd,data,measures=['RMSE'],cv=5)#verbose=True\n",
        "# data.split(cv=5)"
      ],
      "execution_count": 389,
      "outputs": [
        {
          "output_type": "stream",
          "text": [
            "Requirement already satisfied: surprise in /usr/local/lib/python3.6/dist-packages (0.1)\n",
            "Requirement already satisfied: scikit-surprise in /usr/local/lib/python3.6/dist-packages (from surprise) (1.1.0)\n",
            "Requirement already satisfied: joblib>=0.11 in /usr/local/lib/python3.6/dist-packages (from scikit-surprise->surprise) (0.15.1)\n",
            "Requirement already satisfied: scipy>=1.0.0 in /usr/local/lib/python3.6/dist-packages (from scikit-surprise->surprise) (1.4.1)\n",
            "Requirement already satisfied: six>=1.10.0 in /usr/local/lib/python3.6/dist-packages (from scikit-surprise->surprise) (1.12.0)\n",
            "Requirement already satisfied: numpy>=1.11.2 in /usr/local/lib/python3.6/dist-packages (from scikit-surprise->surprise) (1.18.4)\n",
            "Requirement already satisfied: scikit-surprise in /usr/local/lib/python3.6/dist-packages (1.1.0)\n",
            "Requirement already satisfied: joblib>=0.11 in /usr/local/lib/python3.6/dist-packages (from scikit-surprise) (0.15.1)\n",
            "Requirement already satisfied: numpy>=1.11.2 in /usr/local/lib/python3.6/dist-packages (from scikit-surprise) (1.18.4)\n",
            "Requirement already satisfied: scipy>=1.0.0 in /usr/local/lib/python3.6/dist-packages (from scikit-surprise) (1.4.1)\n",
            "Requirement already satisfied: six>=1.10.0 in /usr/local/lib/python3.6/dist-packages (from scikit-surprise) (1.12.0)\n"
          ],
          "name": "stdout"
        },
        {
          "output_type": "execute_result",
          "data": {
            "text/plain": [
              "{'fit_time': (4.882619619369507,\n",
              "  4.851840496063232,\n",
              "  4.914399862289429,\n",
              "  4.843437910079956,\n",
              "  4.906903982162476),\n",
              " 'test_rmse': array([0.88178173, 0.87192497, 0.86609864, 0.87266625, 0.87722113]),\n",
              " 'test_time': (0.1416006088256836,\n",
              "  0.13962101936340332,\n",
              "  0.37824392318725586,\n",
              "  0.16575956344604492,\n",
              "  0.13855385780334473)}"
            ]
          },
          "metadata": {
            "tags": []
          },
          "execution_count": 389
        }
      ]
    },
    {
      "cell_type": "markdown",
      "metadata": {
        "id": "4G7y0mtuku-4",
        "colab_type": "text"
      },
      "source": [
        "I get a mean Root Mean Square Error of 0.8736 which is pretty good. Let's now train on the dataset and arrive at predictions."
      ]
    },
    {
      "cell_type": "code",
      "metadata": {
        "id": "0EfpD0F7gmfu",
        "colab_type": "code",
        "outputId": "b772babe-57ba-49da-8df6-20b08c443cda",
        "colab": {
          "base_uri": "https://localhost:8080/",
          "height": 34
        }
      },
      "source": [
        "trainset = data.build_full_trainset()\n",
        "svd.fit(trainset)"
      ],
      "execution_count": 390,
      "outputs": [
        {
          "output_type": "execute_result",
          "data": {
            "text/plain": [
              "<surprise.prediction_algorithms.matrix_factorization.SVD at 0x7fba1e164780>"
            ]
          },
          "metadata": {
            "tags": []
          },
          "execution_count": 390
        }
      ]
    },
    {
      "cell_type": "markdown",
      "metadata": {
        "id": "hEzY3Zg-mn7p",
        "colab_type": "text"
      },
      "source": [
        "I'll pick again user with ID 1310 and check the ratings he has given."
      ]
    },
    {
      "cell_type": "code",
      "metadata": {
        "id": "I_nlAeXKgmiu",
        "colab_type": "code",
        "outputId": "a3015395-e6e0-4fac-ae99-656e16e9bad9",
        "colab": {
          "base_uri": "https://localhost:8080/",
          "height": 419
        }
      },
      "source": [
        "ratings[ratings['userId']==10]"
      ],
      "execution_count": 391,
      "outputs": [
        {
          "output_type": "execute_result",
          "data": {
            "text/html": [
              "<div>\n",
              "<style scoped>\n",
              "    .dataframe tbody tr th:only-of-type {\n",
              "        vertical-align: middle;\n",
              "    }\n",
              "\n",
              "    .dataframe tbody tr th {\n",
              "        vertical-align: top;\n",
              "    }\n",
              "\n",
              "    .dataframe thead th {\n",
              "        text-align: right;\n",
              "    }\n",
              "</style>\n",
              "<table border=\"1\" class=\"dataframe\">\n",
              "  <thead>\n",
              "    <tr style=\"text-align: right;\">\n",
              "      <th></th>\n",
              "      <th>userId</th>\n",
              "      <th>movieId</th>\n",
              "      <th>rating</th>\n",
              "      <th>timestamp</th>\n",
              "    </tr>\n",
              "  </thead>\n",
              "  <tbody>\n",
              "    <tr>\n",
              "      <th>1119</th>\n",
              "      <td>10</td>\n",
              "      <td>296</td>\n",
              "      <td>1.0</td>\n",
              "      <td>12/02/2016 18:56:27</td>\n",
              "    </tr>\n",
              "    <tr>\n",
              "      <th>1120</th>\n",
              "      <td>10</td>\n",
              "      <td>356</td>\n",
              "      <td>3.5</td>\n",
              "      <td>12/02/2016 18:28:05</td>\n",
              "    </tr>\n",
              "    <tr>\n",
              "      <th>1121</th>\n",
              "      <td>10</td>\n",
              "      <td>588</td>\n",
              "      <td>4.0</td>\n",
              "      <td>12/02/2016 19:42:53</td>\n",
              "    </tr>\n",
              "    <tr>\n",
              "      <th>1122</th>\n",
              "      <td>10</td>\n",
              "      <td>597</td>\n",
              "      <td>3.5</td>\n",
              "      <td>13/02/2016 10:00:45</td>\n",
              "    </tr>\n",
              "    <tr>\n",
              "      <th>1123</th>\n",
              "      <td>10</td>\n",
              "      <td>912</td>\n",
              "      <td>4.0</td>\n",
              "      <td>12/02/2016 18:37:34</td>\n",
              "    </tr>\n",
              "    <tr>\n",
              "      <th>...</th>\n",
              "      <td>...</td>\n",
              "      <td>...</td>\n",
              "      <td>...</td>\n",
              "      <td>...</td>\n",
              "    </tr>\n",
              "    <tr>\n",
              "      <th>1254</th>\n",
              "      <td>10</td>\n",
              "      <td>119145</td>\n",
              "      <td>1.0</td>\n",
              "      <td>12/02/2016 18:44:10</td>\n",
              "    </tr>\n",
              "    <tr>\n",
              "      <th>1255</th>\n",
              "      <td>10</td>\n",
              "      <td>129428</td>\n",
              "      <td>3.5</td>\n",
              "      <td>13/02/2016 09:56:24</td>\n",
              "    </tr>\n",
              "    <tr>\n",
              "      <th>1256</th>\n",
              "      <td>10</td>\n",
              "      <td>136020</td>\n",
              "      <td>5.0</td>\n",
              "      <td>12/02/2016 18:36:32</td>\n",
              "    </tr>\n",
              "    <tr>\n",
              "      <th>1257</th>\n",
              "      <td>10</td>\n",
              "      <td>137595</td>\n",
              "      <td>4.0</td>\n",
              "      <td>13/02/2016 09:48:18</td>\n",
              "    </tr>\n",
              "    <tr>\n",
              "      <th>1258</th>\n",
              "      <td>10</td>\n",
              "      <td>140110</td>\n",
              "      <td>5.0</td>\n",
              "      <td>13/02/2016 09:46:16</td>\n",
              "    </tr>\n",
              "  </tbody>\n",
              "</table>\n",
              "<p>140 rows × 4 columns</p>\n",
              "</div>"
            ],
            "text/plain": [
              "      userId  movieId  rating            timestamp\n",
              "1119      10      296     1.0  12/02/2016 18:56:27\n",
              "1120      10      356     3.5  12/02/2016 18:28:05\n",
              "1121      10      588     4.0  12/02/2016 19:42:53\n",
              "1122      10      597     3.5  13/02/2016 10:00:45\n",
              "1123      10      912     4.0  12/02/2016 18:37:34\n",
              "...      ...      ...     ...                  ...\n",
              "1254      10   119145     1.0  12/02/2016 18:44:10\n",
              "1255      10   129428     3.5  13/02/2016 09:56:24\n",
              "1256      10   136020     5.0  12/02/2016 18:36:32\n",
              "1257      10   137595     4.0  13/02/2016 09:48:18\n",
              "1258      10   140110     5.0  13/02/2016 09:46:16\n",
              "\n",
              "[140 rows x 4 columns]"
            ]
          },
          "metadata": {
            "tags": []
          },
          "execution_count": 391
        }
      ]
    },
    {
      "cell_type": "markdown",
      "metadata": {
        "id": "7B5_8wPbm17o",
        "colab_type": "text"
      },
      "source": [
        "Now let's use SVD to predict the rating that User with ID 1310 will give to a random movie (let's say with Movie ID 1994)."
      ]
    },
    {
      "cell_type": "code",
      "metadata": {
        "id": "nE_wGYfOm0uF",
        "colab_type": "code",
        "outputId": "49a2863c-d53f-4043-e7fc-113b520d755b",
        "colab": {
          "base_uri": "https://localhost:8080/",
          "height": 54
        }
      },
      "source": [
        "svd.predict(10,597)"
      ],
      "execution_count": 392,
      "outputs": [
        {
          "output_type": "execute_result",
          "data": {
            "text/plain": [
              "Prediction(uid=10, iid=597, r_ui=None, est=3.650973473148014, details={'was_impossible': False})"
            ]
          },
          "metadata": {
            "tags": []
          },
          "execution_count": 392
        }
      ]
    },
    {
      "cell_type": "markdown",
      "metadata": {
        "id": "IjCCsVMnnO5N",
        "colab_type": "text"
      },
      "source": [
        "\n",
        "For movie with ID 1994, I get an estimated prediction of 3.754. The recommender system works purely on the basis of an assigned movie ID and tries to predict ratings based on how the other users have predicted the movie."
      ]
    },
    {
      "cell_type": "markdown",
      "metadata": {
        "id": "wM8hFGyRnSlL",
        "colab_type": "text"
      },
      "source": [
        "## **Conclusion**\n",
        "In this notebook, I attempted to build a **model-based Collaborative Filtering movie recommendation sytem** based on latent features from a low rank matrix factorization method called SVD. As it captures the underlying features driving the raw data, it can scale significantly better to massive datasets as well as make better recommendations based on user's tastes.\n",
        "\n",
        "However, we still likely lose some meaningful signals by using a low-rank approximation. Specifically, there's an interpretability problem as a singular vector specifies a linear combination of all input columns or rows. There's also a lack of sparsity when the singular vectors are quite dense. Thus, SVD approach is limited to linear projections."
      ]
    },
    {
      "cell_type": "markdown",
      "metadata": {
        "id": "lKV78PGjnlDM",
        "colab_type": "text"
      },
      "source": [
        "## **Feature Selection**"
      ]
    },
    {
      "cell_type": "markdown",
      "metadata": {
        "id": "oR9NQsL2kQqZ",
        "colab_type": "text"
      },
      "source": [
        "### **Multiple Model Training**"
      ]
    },
    {
      "cell_type": "code",
      "metadata": {
        "id": "WMAj4v4QnXwL",
        "colab_type": "code",
        "outputId": "7d839ddf-c91a-4d1a-94fd-5d6454cf2817",
        "colab": {
          "base_uri": "https://localhost:8080/",
          "height": 224
        }
      },
      "source": [
        "# from sklearn.model_selection import train_test_split\n",
        "# from sklearn import ensemble\n",
        "# from sklearn.metrics import mean_absolute_error\n",
        "# from sklearn.externals import joblib\n",
        "# # del features_df\n",
        "# print(full.columns)\n",
        "# # array = full.values\n",
        "# features_df = pd.get_dummies(full,columns=['title','genres'])\n",
        "# del features_df['rating']\n",
        "# features_df.columns\n",
        "# del features_df['timestamp']\n",
        "# array = features_df.values\n",
        "# # del features_df\n",
        "# X = features_df.to_numpy()\n",
        "# Y = full['rating'].to_numpy()\n",
        "\n",
        "from sklearn.model_selection import train_test_split\n",
        "from sklearn import ensemble\n",
        "from sklearn.metrics import mean_absolute_error\n",
        "from sklearn.externals import joblib\n",
        "# del features_df\n",
        "print(full.columns)\n",
        "features_df = pd.get_dummies(full,columns=['title','genres'])\n",
        "features_df.columns\n",
        "del features_df['timestamp']\n",
        "del features_df['rating']\n",
        "\n",
        "# del features_df\n",
        "X = features_df.values\n",
        "Y = full['rating'].values"
      ],
      "execution_count": 393,
      "outputs": [
        {
          "output_type": "stream",
          "text": [
            "Index(['movieId', 'title', 'genres', 'userId', 'rating', 'timestamp'], dtype='object')\n"
          ],
          "name": "stdout"
        },
        {
          "output_type": "execute_result",
          "data": {
            "text/plain": [
              "Index(['movieId', 'userId', 'rating', 'timestamp',\n",
              "       'title_10 Things I Hate About You (1999)', 'title_12 Angry Men (1957)',\n",
              "       'title_2001: A Space Odyssey (1968)', 'title_28 Days Later (2002)',\n",
              "       'title_300 (2007)', 'title_40-Year-Old Virgin, The (2005)',\n",
              "       ...\n",
              "       'genres_Fantasy|Sci-Fi', 'genres_Horror', 'genres_Horror|Mystery',\n",
              "       'genres_Horror|Sci-Fi', 'genres_Horror|Sci-Fi|Thriller',\n",
              "       'genres_Musical|Romance', 'genres_Mystery|Sci-Fi|Thriller',\n",
              "       'genres_Mystery|Thriller', 'genres_Sci-Fi|IMAX', 'genres_Thriller'],\n",
              "      dtype='object', length=658)"
            ]
          },
          "metadata": {
            "tags": []
          },
          "execution_count": 393
        }
      ]
    },
    {
      "cell_type": "code",
      "metadata": {
        "id": "xCA1SypSZY2a",
        "colab_type": "code",
        "colab": {
          "base_uri": "https://localhost:8080/",
          "height": 374
        },
        "outputId": "f8edf8e3-ebf7-4522-8dd3-892a21a30c2c"
      },
      "source": [
        "# # Categorize movies genres properly. Working later with +20MM rows of strings proved very resource consuming\n",
        "genres_unique = pd.DataFrame(movies.genres.str.split('|').tolist()).stack().unique()\n",
        "genres_unique = pd.DataFrame(genres_unique, columns=['genre']) # Format into DataFrame to store later\n",
        "movies1 = movies.join(movies.genres.str.get_dummies().astype(bool))\n",
        "movies1.drop('genres', inplace=True, axis=1)\n",
        "print(movies1.head())\n",
        "print(movies1.columns)\n",
        "full1 = pd.merge(movies1,df_ratings_drop_users,on='movieId')\n",
        "features_df1 = pd.get_dummies(full1,columns=['Crime', 'Drama',\n",
        "       'Mystery','Thriller', 'War'])\n",
        "del features_df1['timestamp']\n",
        "del features_df1['title'] # Remvoing this feature/column as the moviedId will be sufficient in identifying the movies\n",
        "del features_df1['rating']\n",
        "print(features_df1.head())\n",
        "### Split the dataset into training(70%) and testing(30%) set ###\n",
        "X_Train, X_Test, Y_Train, Y_Test=train_test_split(X1,Y1, test_size=0.3)"
      ],
      "execution_count": 394,
      "outputs": [
        {
          "output_type": "stream",
          "text": [
            "   movieId                               title  ...    War  Western\n",
            "0        1                    Toy Story (1995)  ...  False    False\n",
            "1        2                      Jumanji (1995)  ...  False    False\n",
            "2        3             Grumpier Old Men (1995)  ...  False    False\n",
            "3        4            Waiting to Exhale (1995)  ...  False    False\n",
            "4        5  Father of the Bride Part II (1995)  ...  False    False\n",
            "\n",
            "[5 rows x 22 columns]\n",
            "Index(['movieId', 'title', '(no genres listed)', 'Action', 'Adventure',\n",
            "       'Animation', 'Children', 'Comedy', 'Crime', 'Documentary', 'Drama',\n",
            "       'Fantasy', 'Film-Noir', 'Horror', 'IMAX', 'Musical', 'Mystery',\n",
            "       'Romance', 'Sci-Fi', 'Thriller', 'War', 'Western'],\n",
            "      dtype='object')\n",
            "   movieId  (no genres listed)  Action  ...  Thriller_True  War_False  War_True\n",
            "0        1               False   False  ...              0          1         0\n",
            "1        1               False   False  ...              0          1         0\n",
            "2        1               False   False  ...              0          1         0\n",
            "3        1               False   False  ...              0          1         0\n",
            "4        1               False   False  ...              0          1         0\n",
            "\n",
            "[5 rows x 27 columns]\n"
          ],
          "name": "stdout"
        }
      ]
    },
    {
      "cell_type": "code",
      "metadata": {
        "id": "IKwiaXIK0RMQ",
        "colab_type": "code",
        "outputId": "aa4576ee-bafc-4af9-fe34-700b3dbf759c",
        "colab": {
          "base_uri": "https://localhost:8080/",
          "height": 525
        }
      },
      "source": [
        "features_df.columns\n",
        "# print(X.size)\n",
        "print(Y)\n",
        "features_df.head()\n",
        "# print(full.columns)"
      ],
      "execution_count": 395,
      "outputs": [
        {
          "output_type": "execute_result",
          "data": {
            "text/plain": [
              "Index(['movieId', 'userId', 'title_10 Things I Hate About You (1999)',\n",
              "       'title_12 Angry Men (1957)', 'title_2001: A Space Odyssey (1968)',\n",
              "       'title_28 Days Later (2002)', 'title_300 (2007)',\n",
              "       'title_40-Year-Old Virgin, The (2005)',\n",
              "       'title_A.I. Artificial Intelligence (2001)', 'title_Abyss, The (1989)',\n",
              "       ...\n",
              "       'genres_Fantasy|Sci-Fi', 'genres_Horror', 'genres_Horror|Mystery',\n",
              "       'genres_Horror|Sci-Fi', 'genres_Horror|Sci-Fi|Thriller',\n",
              "       'genres_Musical|Romance', 'genres_Mystery|Sci-Fi|Thriller',\n",
              "       'genres_Mystery|Thriller', 'genres_Sci-Fi|IMAX', 'genres_Thriller'],\n",
              "      dtype='object', length=656)"
            ]
          },
          "metadata": {
            "tags": []
          },
          "execution_count": 395
        },
        {
          "output_type": "stream",
          "text": [
            "[4.  4.5 2.5 ... 4.  3.5 3. ]\n"
          ],
          "name": "stdout"
        },
        {
          "output_type": "execute_result",
          "data": {
            "text/html": [
              "<div>\n",
              "<style scoped>\n",
              "    .dataframe tbody tr th:only-of-type {\n",
              "        vertical-align: middle;\n",
              "    }\n",
              "\n",
              "    .dataframe tbody tr th {\n",
              "        vertical-align: top;\n",
              "    }\n",
              "\n",
              "    .dataframe thead th {\n",
              "        text-align: right;\n",
              "    }\n",
              "</style>\n",
              "<table border=\"1\" class=\"dataframe\">\n",
              "  <thead>\n",
              "    <tr style=\"text-align: right;\">\n",
              "      <th></th>\n",
              "      <th>movieId</th>\n",
              "      <th>userId</th>\n",
              "      <th>title_10 Things I Hate About You (1999)</th>\n",
              "      <th>title_12 Angry Men (1957)</th>\n",
              "      <th>title_2001: A Space Odyssey (1968)</th>\n",
              "      <th>title_28 Days Later (2002)</th>\n",
              "      <th>title_300 (2007)</th>\n",
              "      <th>title_40-Year-Old Virgin, The (2005)</th>\n",
              "      <th>title_A.I. Artificial Intelligence (2001)</th>\n",
              "      <th>title_Abyss, The (1989)</th>\n",
              "      <th>title_Ace Ventura: Pet Detective (1994)</th>\n",
              "      <th>title_Ace Ventura: When Nature Calls (1995)</th>\n",
              "      <th>title_Addams Family Values (1993)</th>\n",
              "      <th>title_Air Force One (1997)</th>\n",
              "      <th>title_Airplane! (1980)</th>\n",
              "      <th>title_Aladdin (1992)</th>\n",
              "      <th>title_Alien (1979)</th>\n",
              "      <th>title_Aliens (1986)</th>\n",
              "      <th>title_Almost Famous (2000)</th>\n",
              "      <th>title_Amadeus (1984)</th>\n",
              "      <th>title_Amelie (Fabuleux destin d'AmÃ©lie Poulain, Le) (2001)</th>\n",
              "      <th>title_American Beauty (1999)</th>\n",
              "      <th>title_American History X (1998)</th>\n",
              "      <th>title_American Pie (1999)</th>\n",
              "      <th>title_American President, The (1995)</th>\n",
              "      <th>title_American Psycho (2000)</th>\n",
              "      <th>title_Anchorman: The Legend of Ron Burgundy (2004)</th>\n",
              "      <th>title_Animal House (1978)</th>\n",
              "      <th>title_Annie Hall (1977)</th>\n",
              "      <th>title_Apocalypse Now (1979)</th>\n",
              "      <th>title_Apollo 13 (1995)</th>\n",
              "      <th>title_Arachnophobia (1990)</th>\n",
              "      <th>title_Armageddon (1998)</th>\n",
              "      <th>title_Army of Darkness (1993)</th>\n",
              "      <th>title_As Good as It Gets (1997)</th>\n",
              "      <th>title_Austin Powers in Goldmember (2002)</th>\n",
              "      <th>title_Austin Powers: International Man of Mystery (1997)</th>\n",
              "      <th>title_Austin Powers: The Spy Who Shagged Me (1999)</th>\n",
              "      <th>title_Avatar (2009)</th>\n",
              "      <th>title_Avengers, The (2012)</th>\n",
              "      <th>...</th>\n",
              "      <th>genres_Crime|Drama|Sci-Fi|Thriller</th>\n",
              "      <th>genres_Crime|Drama|Thriller</th>\n",
              "      <th>genres_Crime|Film-Noir|Mystery|Thriller</th>\n",
              "      <th>genres_Crime|Horror</th>\n",
              "      <th>genres_Crime|Horror|Mystery|Thriller</th>\n",
              "      <th>genres_Crime|Horror|Thriller</th>\n",
              "      <th>genres_Crime|Mystery|Thriller</th>\n",
              "      <th>genres_Crime|Thriller</th>\n",
              "      <th>genres_Documentary</th>\n",
              "      <th>genres_Drama</th>\n",
              "      <th>genres_Drama|Fantasy|Romance</th>\n",
              "      <th>genres_Drama|Fantasy|Thriller</th>\n",
              "      <th>genres_Drama|Horror</th>\n",
              "      <th>genres_Drama|Horror|Mystery</th>\n",
              "      <th>genres_Drama|Horror|Mystery|Thriller</th>\n",
              "      <th>genres_Drama|Horror|Thriller</th>\n",
              "      <th>genres_Drama|Musical|Romance</th>\n",
              "      <th>genres_Drama|Mystery</th>\n",
              "      <th>genres_Drama|Mystery|Romance|Thriller</th>\n",
              "      <th>genres_Drama|Mystery|Sci-Fi|Thriller</th>\n",
              "      <th>genres_Drama|Mystery|Thriller</th>\n",
              "      <th>genres_Drama|Romance</th>\n",
              "      <th>genres_Drama|Romance|Sci-Fi</th>\n",
              "      <th>genres_Drama|Romance|War|Western</th>\n",
              "      <th>genres_Drama|Sci-Fi</th>\n",
              "      <th>genres_Drama|Sci-Fi|Thriller</th>\n",
              "      <th>genres_Drama|Thriller</th>\n",
              "      <th>genres_Drama|Thriller|War</th>\n",
              "      <th>genres_Drama|War</th>\n",
              "      <th>genres_Fantasy|Horror|Mystery|Romance</th>\n",
              "      <th>genres_Fantasy|Sci-Fi</th>\n",
              "      <th>genres_Horror</th>\n",
              "      <th>genres_Horror|Mystery</th>\n",
              "      <th>genres_Horror|Sci-Fi</th>\n",
              "      <th>genres_Horror|Sci-Fi|Thriller</th>\n",
              "      <th>genres_Musical|Romance</th>\n",
              "      <th>genres_Mystery|Sci-Fi|Thriller</th>\n",
              "      <th>genres_Mystery|Thriller</th>\n",
              "      <th>genres_Sci-Fi|IMAX</th>\n",
              "      <th>genres_Thriller</th>\n",
              "    </tr>\n",
              "  </thead>\n",
              "  <tbody>\n",
              "    <tr>\n",
              "      <th>0</th>\n",
              "      <td>1</td>\n",
              "      <td>1</td>\n",
              "      <td>0</td>\n",
              "      <td>0</td>\n",
              "      <td>0</td>\n",
              "      <td>0</td>\n",
              "      <td>0</td>\n",
              "      <td>0</td>\n",
              "      <td>0</td>\n",
              "      <td>0</td>\n",
              "      <td>0</td>\n",
              "      <td>0</td>\n",
              "      <td>0</td>\n",
              "      <td>0</td>\n",
              "      <td>0</td>\n",
              "      <td>0</td>\n",
              "      <td>0</td>\n",
              "      <td>0</td>\n",
              "      <td>0</td>\n",
              "      <td>0</td>\n",
              "      <td>0</td>\n",
              "      <td>0</td>\n",
              "      <td>0</td>\n",
              "      <td>0</td>\n",
              "      <td>0</td>\n",
              "      <td>0</td>\n",
              "      <td>0</td>\n",
              "      <td>0</td>\n",
              "      <td>0</td>\n",
              "      <td>0</td>\n",
              "      <td>0</td>\n",
              "      <td>0</td>\n",
              "      <td>0</td>\n",
              "      <td>0</td>\n",
              "      <td>0</td>\n",
              "      <td>0</td>\n",
              "      <td>0</td>\n",
              "      <td>0</td>\n",
              "      <td>0</td>\n",
              "      <td>0</td>\n",
              "      <td>...</td>\n",
              "      <td>0</td>\n",
              "      <td>0</td>\n",
              "      <td>0</td>\n",
              "      <td>0</td>\n",
              "      <td>0</td>\n",
              "      <td>0</td>\n",
              "      <td>0</td>\n",
              "      <td>0</td>\n",
              "      <td>0</td>\n",
              "      <td>0</td>\n",
              "      <td>0</td>\n",
              "      <td>0</td>\n",
              "      <td>0</td>\n",
              "      <td>0</td>\n",
              "      <td>0</td>\n",
              "      <td>0</td>\n",
              "      <td>0</td>\n",
              "      <td>0</td>\n",
              "      <td>0</td>\n",
              "      <td>0</td>\n",
              "      <td>0</td>\n",
              "      <td>0</td>\n",
              "      <td>0</td>\n",
              "      <td>0</td>\n",
              "      <td>0</td>\n",
              "      <td>0</td>\n",
              "      <td>0</td>\n",
              "      <td>0</td>\n",
              "      <td>0</td>\n",
              "      <td>0</td>\n",
              "      <td>0</td>\n",
              "      <td>0</td>\n",
              "      <td>0</td>\n",
              "      <td>0</td>\n",
              "      <td>0</td>\n",
              "      <td>0</td>\n",
              "      <td>0</td>\n",
              "      <td>0</td>\n",
              "      <td>0</td>\n",
              "      <td>0</td>\n",
              "    </tr>\n",
              "    <tr>\n",
              "      <th>1</th>\n",
              "      <td>1</td>\n",
              "      <td>7</td>\n",
              "      <td>0</td>\n",
              "      <td>0</td>\n",
              "      <td>0</td>\n",
              "      <td>0</td>\n",
              "      <td>0</td>\n",
              "      <td>0</td>\n",
              "      <td>0</td>\n",
              "      <td>0</td>\n",
              "      <td>0</td>\n",
              "      <td>0</td>\n",
              "      <td>0</td>\n",
              "      <td>0</td>\n",
              "      <td>0</td>\n",
              "      <td>0</td>\n",
              "      <td>0</td>\n",
              "      <td>0</td>\n",
              "      <td>0</td>\n",
              "      <td>0</td>\n",
              "      <td>0</td>\n",
              "      <td>0</td>\n",
              "      <td>0</td>\n",
              "      <td>0</td>\n",
              "      <td>0</td>\n",
              "      <td>0</td>\n",
              "      <td>0</td>\n",
              "      <td>0</td>\n",
              "      <td>0</td>\n",
              "      <td>0</td>\n",
              "      <td>0</td>\n",
              "      <td>0</td>\n",
              "      <td>0</td>\n",
              "      <td>0</td>\n",
              "      <td>0</td>\n",
              "      <td>0</td>\n",
              "      <td>0</td>\n",
              "      <td>0</td>\n",
              "      <td>0</td>\n",
              "      <td>0</td>\n",
              "      <td>...</td>\n",
              "      <td>0</td>\n",
              "      <td>0</td>\n",
              "      <td>0</td>\n",
              "      <td>0</td>\n",
              "      <td>0</td>\n",
              "      <td>0</td>\n",
              "      <td>0</td>\n",
              "      <td>0</td>\n",
              "      <td>0</td>\n",
              "      <td>0</td>\n",
              "      <td>0</td>\n",
              "      <td>0</td>\n",
              "      <td>0</td>\n",
              "      <td>0</td>\n",
              "      <td>0</td>\n",
              "      <td>0</td>\n",
              "      <td>0</td>\n",
              "      <td>0</td>\n",
              "      <td>0</td>\n",
              "      <td>0</td>\n",
              "      <td>0</td>\n",
              "      <td>0</td>\n",
              "      <td>0</td>\n",
              "      <td>0</td>\n",
              "      <td>0</td>\n",
              "      <td>0</td>\n",
              "      <td>0</td>\n",
              "      <td>0</td>\n",
              "      <td>0</td>\n",
              "      <td>0</td>\n",
              "      <td>0</td>\n",
              "      <td>0</td>\n",
              "      <td>0</td>\n",
              "      <td>0</td>\n",
              "      <td>0</td>\n",
              "      <td>0</td>\n",
              "      <td>0</td>\n",
              "      <td>0</td>\n",
              "      <td>0</td>\n",
              "      <td>0</td>\n",
              "    </tr>\n",
              "    <tr>\n",
              "      <th>2</th>\n",
              "      <td>1</td>\n",
              "      <td>15</td>\n",
              "      <td>0</td>\n",
              "      <td>0</td>\n",
              "      <td>0</td>\n",
              "      <td>0</td>\n",
              "      <td>0</td>\n",
              "      <td>0</td>\n",
              "      <td>0</td>\n",
              "      <td>0</td>\n",
              "      <td>0</td>\n",
              "      <td>0</td>\n",
              "      <td>0</td>\n",
              "      <td>0</td>\n",
              "      <td>0</td>\n",
              "      <td>0</td>\n",
              "      <td>0</td>\n",
              "      <td>0</td>\n",
              "      <td>0</td>\n",
              "      <td>0</td>\n",
              "      <td>0</td>\n",
              "      <td>0</td>\n",
              "      <td>0</td>\n",
              "      <td>0</td>\n",
              "      <td>0</td>\n",
              "      <td>0</td>\n",
              "      <td>0</td>\n",
              "      <td>0</td>\n",
              "      <td>0</td>\n",
              "      <td>0</td>\n",
              "      <td>0</td>\n",
              "      <td>0</td>\n",
              "      <td>0</td>\n",
              "      <td>0</td>\n",
              "      <td>0</td>\n",
              "      <td>0</td>\n",
              "      <td>0</td>\n",
              "      <td>0</td>\n",
              "      <td>0</td>\n",
              "      <td>0</td>\n",
              "      <td>...</td>\n",
              "      <td>0</td>\n",
              "      <td>0</td>\n",
              "      <td>0</td>\n",
              "      <td>0</td>\n",
              "      <td>0</td>\n",
              "      <td>0</td>\n",
              "      <td>0</td>\n",
              "      <td>0</td>\n",
              "      <td>0</td>\n",
              "      <td>0</td>\n",
              "      <td>0</td>\n",
              "      <td>0</td>\n",
              "      <td>0</td>\n",
              "      <td>0</td>\n",
              "      <td>0</td>\n",
              "      <td>0</td>\n",
              "      <td>0</td>\n",
              "      <td>0</td>\n",
              "      <td>0</td>\n",
              "      <td>0</td>\n",
              "      <td>0</td>\n",
              "      <td>0</td>\n",
              "      <td>0</td>\n",
              "      <td>0</td>\n",
              "      <td>0</td>\n",
              "      <td>0</td>\n",
              "      <td>0</td>\n",
              "      <td>0</td>\n",
              "      <td>0</td>\n",
              "      <td>0</td>\n",
              "      <td>0</td>\n",
              "      <td>0</td>\n",
              "      <td>0</td>\n",
              "      <td>0</td>\n",
              "      <td>0</td>\n",
              "      <td>0</td>\n",
              "      <td>0</td>\n",
              "      <td>0</td>\n",
              "      <td>0</td>\n",
              "      <td>0</td>\n",
              "    </tr>\n",
              "    <tr>\n",
              "      <th>3</th>\n",
              "      <td>1</td>\n",
              "      <td>17</td>\n",
              "      <td>0</td>\n",
              "      <td>0</td>\n",
              "      <td>0</td>\n",
              "      <td>0</td>\n",
              "      <td>0</td>\n",
              "      <td>0</td>\n",
              "      <td>0</td>\n",
              "      <td>0</td>\n",
              "      <td>0</td>\n",
              "      <td>0</td>\n",
              "      <td>0</td>\n",
              "      <td>0</td>\n",
              "      <td>0</td>\n",
              "      <td>0</td>\n",
              "      <td>0</td>\n",
              "      <td>0</td>\n",
              "      <td>0</td>\n",
              "      <td>0</td>\n",
              "      <td>0</td>\n",
              "      <td>0</td>\n",
              "      <td>0</td>\n",
              "      <td>0</td>\n",
              "      <td>0</td>\n",
              "      <td>0</td>\n",
              "      <td>0</td>\n",
              "      <td>0</td>\n",
              "      <td>0</td>\n",
              "      <td>0</td>\n",
              "      <td>0</td>\n",
              "      <td>0</td>\n",
              "      <td>0</td>\n",
              "      <td>0</td>\n",
              "      <td>0</td>\n",
              "      <td>0</td>\n",
              "      <td>0</td>\n",
              "      <td>0</td>\n",
              "      <td>0</td>\n",
              "      <td>0</td>\n",
              "      <td>...</td>\n",
              "      <td>0</td>\n",
              "      <td>0</td>\n",
              "      <td>0</td>\n",
              "      <td>0</td>\n",
              "      <td>0</td>\n",
              "      <td>0</td>\n",
              "      <td>0</td>\n",
              "      <td>0</td>\n",
              "      <td>0</td>\n",
              "      <td>0</td>\n",
              "      <td>0</td>\n",
              "      <td>0</td>\n",
              "      <td>0</td>\n",
              "      <td>0</td>\n",
              "      <td>0</td>\n",
              "      <td>0</td>\n",
              "      <td>0</td>\n",
              "      <td>0</td>\n",
              "      <td>0</td>\n",
              "      <td>0</td>\n",
              "      <td>0</td>\n",
              "      <td>0</td>\n",
              "      <td>0</td>\n",
              "      <td>0</td>\n",
              "      <td>0</td>\n",
              "      <td>0</td>\n",
              "      <td>0</td>\n",
              "      <td>0</td>\n",
              "      <td>0</td>\n",
              "      <td>0</td>\n",
              "      <td>0</td>\n",
              "      <td>0</td>\n",
              "      <td>0</td>\n",
              "      <td>0</td>\n",
              "      <td>0</td>\n",
              "      <td>0</td>\n",
              "      <td>0</td>\n",
              "      <td>0</td>\n",
              "      <td>0</td>\n",
              "      <td>0</td>\n",
              "    </tr>\n",
              "    <tr>\n",
              "      <th>4</th>\n",
              "      <td>1</td>\n",
              "      <td>18</td>\n",
              "      <td>0</td>\n",
              "      <td>0</td>\n",
              "      <td>0</td>\n",
              "      <td>0</td>\n",
              "      <td>0</td>\n",
              "      <td>0</td>\n",
              "      <td>0</td>\n",
              "      <td>0</td>\n",
              "      <td>0</td>\n",
              "      <td>0</td>\n",
              "      <td>0</td>\n",
              "      <td>0</td>\n",
              "      <td>0</td>\n",
              "      <td>0</td>\n",
              "      <td>0</td>\n",
              "      <td>0</td>\n",
              "      <td>0</td>\n",
              "      <td>0</td>\n",
              "      <td>0</td>\n",
              "      <td>0</td>\n",
              "      <td>0</td>\n",
              "      <td>0</td>\n",
              "      <td>0</td>\n",
              "      <td>0</td>\n",
              "      <td>0</td>\n",
              "      <td>0</td>\n",
              "      <td>0</td>\n",
              "      <td>0</td>\n",
              "      <td>0</td>\n",
              "      <td>0</td>\n",
              "      <td>0</td>\n",
              "      <td>0</td>\n",
              "      <td>0</td>\n",
              "      <td>0</td>\n",
              "      <td>0</td>\n",
              "      <td>0</td>\n",
              "      <td>0</td>\n",
              "      <td>0</td>\n",
              "      <td>...</td>\n",
              "      <td>0</td>\n",
              "      <td>0</td>\n",
              "      <td>0</td>\n",
              "      <td>0</td>\n",
              "      <td>0</td>\n",
              "      <td>0</td>\n",
              "      <td>0</td>\n",
              "      <td>0</td>\n",
              "      <td>0</td>\n",
              "      <td>0</td>\n",
              "      <td>0</td>\n",
              "      <td>0</td>\n",
              "      <td>0</td>\n",
              "      <td>0</td>\n",
              "      <td>0</td>\n",
              "      <td>0</td>\n",
              "      <td>0</td>\n",
              "      <td>0</td>\n",
              "      <td>0</td>\n",
              "      <td>0</td>\n",
              "      <td>0</td>\n",
              "      <td>0</td>\n",
              "      <td>0</td>\n",
              "      <td>0</td>\n",
              "      <td>0</td>\n",
              "      <td>0</td>\n",
              "      <td>0</td>\n",
              "      <td>0</td>\n",
              "      <td>0</td>\n",
              "      <td>0</td>\n",
              "      <td>0</td>\n",
              "      <td>0</td>\n",
              "      <td>0</td>\n",
              "      <td>0</td>\n",
              "      <td>0</td>\n",
              "      <td>0</td>\n",
              "      <td>0</td>\n",
              "      <td>0</td>\n",
              "      <td>0</td>\n",
              "      <td>0</td>\n",
              "    </tr>\n",
              "  </tbody>\n",
              "</table>\n",
              "<p>5 rows × 656 columns</p>\n",
              "</div>"
            ],
            "text/plain": [
              "   movieId  userId  ...  genres_Sci-Fi|IMAX  genres_Thriller\n",
              "0        1       1  ...                   0                0\n",
              "1        1       7  ...                   0                0\n",
              "2        1      15  ...                   0                0\n",
              "3        1      17  ...                   0                0\n",
              "4        1      18  ...                   0                0\n",
              "\n",
              "[5 rows x 656 columns]"
            ]
          },
          "metadata": {
            "tags": []
          },
          "execution_count": 395
        }
      ]
    },
    {
      "cell_type": "code",
      "metadata": {
        "id": "FvMssDbQnXou",
        "colab_type": "code",
        "colab": {}
      },
      "source": [
        "### Split the dataset into training(70%) and testing(30%) set ###\n",
        "X_Train, X_Test, Y_Train, Y_Test=train_test_split(X,Y, test_size=0.3)"
      ],
      "execution_count": 0,
      "outputs": []
    },
    {
      "cell_type": "code",
      "metadata": {
        "id": "OrbHtDgFkbss",
        "colab_type": "code",
        "colab": {}
      },
      "source": [
        "# Determine the accuracy of the model, to find out how accurate the model can predict the values of the Iris dataset based on the training data fed\n",
        "# Test options and evaluation metric\n",
        "seed = 7\n",
        "scoring = \"accuracy\""
      ],
      "execution_count": 0,
      "outputs": []
    },
    {
      "cell_type": "code",
      "metadata": {
        "id": "n4DVt_ZukfR4",
        "colab_type": "code",
        "colab": {}
      },
      "source": [
        "# from sklearn import model_selection\n",
        "# from sklearn.tree import DecisionTreeClassifier\n",
        "# from sklearn.neighbors import KNeighborsClassifier\n",
        "# from sklearn.naive_bayes import GaussianNB\n",
        "\n",
        "# # Spot Check Algorithms\n",
        "# models = []\n",
        "# # models.append(('LR', LogisticRegression(solver='lbfgs', multi_class='multinomial', max_iter=200)))\n",
        "# # models.append(('LDA', LinearDiscriminantAnalysis()))\n",
        "# models.append(('KNN', KNeighborsClassifier()))\n",
        "# models.append(('CART', DecisionTreeClassifier()))\n",
        "# models.append(('NB', GaussianNB()))\n",
        "# # models.append(('SVM',SVC(gamma='auto')))\n",
        "\n",
        "\n",
        "# # evaluate each model in turn\n",
        "# results = []\n",
        "# names = []\n",
        "# for name, model in models:    \n",
        "#     kfold = model_selection.KFold(n_splits=10, random_state=seed)    \n",
        "#     cv_results = model_selection.cross_val_score(model, X_Train, Y_Train, cv=kfold, scoring=scoring)       \n",
        "#     results.append(cv_results)    \n",
        "#     names.append(name)    \n",
        "#     msg = \"%s: %f (%f)\" % (name, cv_results.mean(), cv_results.std())    \n",
        "#     print(msg)"
      ],
      "execution_count": 0,
      "outputs": []
    },
    {
      "cell_type": "markdown",
      "metadata": {
        "id": "7KzNu8fUmBWG",
        "colab_type": "text"
      },
      "source": [
        "#### Gradient Boosting Regressor"
      ]
    },
    {
      "cell_type": "markdown",
      "metadata": {
        "id": "p20h8nocHZFU",
        "colab_type": "text"
      },
      "source": [
        "The second model that I will be using for this project is the Gradient Boosting Regressor which is a type of inductively generated tree ensemble model where the previous negative gradient of the loss function is used as the input for the next Decision Tree."
      ]
    },
    {
      "cell_type": "code",
      "metadata": {
        "id": "lEkHlRlhnXfA",
        "colab_type": "code",
        "outputId": "5afc0a7b-e706-4cde-dced-de4a071b6426",
        "colab": {
          "base_uri": "https://localhost:8080/",
          "height": 170
        }
      },
      "source": [
        "## Fitting the regression model ##\n",
        "model = ensemble.GradientBoostingRegressor(\n",
        "    n_estimators=1000, # Number of decision trees to build\n",
        "    learning_rate=0.1, # How much decision trees influence overall prediction\n",
        "    max_depth=6,\n",
        "    min_samples_leaf=9,\n",
        "    max_features=0.1,\n",
        "    loss='huber',\n",
        "    random_state=7)\n",
        "model.fit(X_Train,Y_Train)"
      ],
      "execution_count": 399,
      "outputs": [
        {
          "output_type": "execute_result",
          "data": {
            "text/plain": [
              "GradientBoostingRegressor(alpha=0.9, ccp_alpha=0.0, criterion='friedman_mse',\n",
              "                          init=None, learning_rate=0.1, loss='huber',\n",
              "                          max_depth=6, max_features=0.1, max_leaf_nodes=None,\n",
              "                          min_impurity_decrease=0.0, min_impurity_split=None,\n",
              "                          min_samples_leaf=9, min_samples_split=2,\n",
              "                          min_weight_fraction_leaf=0.0, n_estimators=1000,\n",
              "                          n_iter_no_change=None, presort='deprecated',\n",
              "                          random_state=7, subsample=1.0, tol=0.0001,\n",
              "                          validation_fraction=0.1, verbose=0, warm_start=False)"
            ]
          },
          "metadata": {
            "tags": []
          },
          "execution_count": 399
        }
      ]
    },
    {
      "cell_type": "code",
      "metadata": {
        "id": "P2RBfAB7yfJo",
        "colab_type": "code",
        "outputId": "3db7a479-1b2d-4f3c-9f55-7793e1aed0ec",
        "colab": {
          "base_uri": "https://localhost:8080/",
          "height": 34
        }
      },
      "source": [
        "joblib.dump(model,'models//GradientBoostRegressor.pkl')"
      ],
      "execution_count": 400,
      "outputs": [
        {
          "output_type": "execute_result",
          "data": {
            "text/plain": [
              "['models//GradientBoostRegressor.pkl']"
            ]
          },
          "metadata": {
            "tags": []
          },
          "execution_count": 400
        }
      ]
    },
    {
      "cell_type": "markdown",
      "metadata": {
        "id": "mcmocLz4z2iR",
        "colab_type": "text"
      },
      "source": [
        "##### **Measuring Accuracy**"
      ]
    },
    {
      "cell_type": "code",
      "metadata": {
        "id": "sMgOW0_gupbb",
        "colab_type": "code",
        "colab": {}
      },
      "source": [
        "### Not using IsolationForest\n",
        "# ## Fitting the regression model ##\n",
        "# model = ensemble.IsolationForest(\n",
        "#     n_estimators=100) # Number of decision trees to build)\n",
        "# model.fit(X_Train,Y_Train)\n",
        "# x_pred = model.predict(X_Train)\n",
        "\n",
        "# ### Check the accuracy using actual and predicted values.\n",
        "# #Import scikit-learn metrics module for accuracy calculation\n",
        "# from sklearn import metrics\n",
        "# # Model Accuracy, how often is the classifier correct?\n",
        "# print(\"Accuracy:\",metrics.accuracy_score(X_Test, x_pred))"
      ],
      "execution_count": 0,
      "outputs": []
    },
    {
      "cell_type": "code",
      "metadata": {
        "id": "HHlH3KOZz0WK",
        "colab_type": "code",
        "outputId": "a278b251-b11d-479d-f3fe-78ac5dc3c8c8",
        "colab": {
          "base_uri": "https://localhost:8080/",
          "height": 119
        }
      },
      "source": [
        "#Find the error rate on the training set\n",
        "mae = mean_absolute_error(Y_Train, model.predict(X_Train))\n",
        "mse = mean_squared_error(Y_Train, model.predict(X_Train))\n",
        "print(\"Training set Analysis:\\n Gradient Boosting Regressor Training set Mean Absolute Error: %.4f\" % mae)\n",
        "print(\"Training Set Mean Square Error: %.4f\" % mse)\n",
        "\n",
        "#Find the error rate on the training set\n",
        "mae1=mean_absolute_error(Y_Test, model.predict(X_Test))\n",
        "mse1 = mean_squared_error(Y_Test, model.predict(X_Test))\n",
        "print(\"\\nGradient Boosting Regressor Testing set Mean Absolute Error: %.4f\" % mae1)\n",
        "print(\"Testing Set Mean Square Error: %.4f\" % mse1)"
      ],
      "execution_count": 402,
      "outputs": [
        {
          "output_type": "stream",
          "text": [
            "Training set Analysis:\n",
            " Gradient Boosting Regressor Training set Mean Absolute Error: 0.6044\n",
            "Training Set Mean Square Error: 0.6465\n",
            "\n",
            "Gradient Boosting Regressor Testing set Mean Absolute Error: 0.6886\n",
            "Testing Set Mean Square Error: 0.8164\n"
          ],
          "name": "stdout"
        }
      ]
    },
    {
      "cell_type": "markdown",
      "metadata": {
        "id": "KihklQiN_r6y",
        "colab_type": "text"
      },
      "source": [
        "#### **Bagging Regressor**"
      ]
    },
    {
      "cell_type": "markdown",
      "metadata": {
        "id": "pO-r2XPXADXD",
        "colab_type": "text"
      },
      "source": [
        "The cod below utilizes the Bagging Regressor to train a model for prediction and return the Mean Absolute Error(MAE) of both the training and testing dataset. The advantage and reason for using the Bagging Regressor is that it reduces variance when training the model which in turns avoid overfitting of the model. However, it should be used with caution/ as the process can be computationally expensive depending on the use case and size of the dataset."
      ]
    },
    {
      "cell_type": "code",
      "metadata": {
        "id": "zRwolXBT_oy8",
        "colab_type": "code",
        "outputId": "9617125a-f51f-42a5-c63c-061f69580398",
        "colab": {
          "base_uri": "https://localhost:8080/",
          "height": 85
        }
      },
      "source": [
        "# lr = LogisticRegression()\n",
        "# clf = OneVsRestClassifier(lr)\n",
        "# clf.fit(X_Train,Y_Train)\n",
        "model2 = ensemble.BaggingRegressor(n_estimators=1000,max_samples=9,\n",
        "                                  max_features=0.1,random_state=7)\n",
        "model2.fit(X_Train,Y_Train)\n",
        "y_pred = model2.predict(X_Test)"
      ],
      "execution_count": 403,
      "outputs": [
        {
          "output_type": "execute_result",
          "data": {
            "text/plain": [
              "BaggingRegressor(base_estimator=None, bootstrap=True, bootstrap_features=False,\n",
              "                 max_features=0.1, max_samples=9, n_estimators=1000,\n",
              "                 n_jobs=None, oob_score=False, random_state=7, verbose=0,\n",
              "                 warm_start=False)"
            ]
          },
          "metadata": {
            "tags": []
          },
          "execution_count": 403
        }
      ]
    },
    {
      "cell_type": "markdown",
      "metadata": {
        "id": "Rkf2HZNK6INa",
        "colab_type": "text"
      },
      "source": [
        "##### **Measuring Accuracy**"
      ]
    },
    {
      "cell_type": "code",
      "metadata": {
        "id": "R_pwROo56GjE",
        "colab_type": "code",
        "colab": {
          "base_uri": "https://localhost:8080/",
          "height": 119
        },
        "outputId": "4916a8cf-a5df-4078-f8fb-b725bbffb34f"
      },
      "source": [
        "#Find the error rate on the training set\n",
        "mae2=mean_absolute_error(Y_Train, model2.predict(X_Train))\n",
        "mse2 = mean_squared_error(Y_Train, model2.predict(X_Train))\n",
        "print(\"Training set Analysis:\\n Bagging Regressor Training set Mean Absolute Error: %.4f\" % mae2)\n",
        "print(\"Training Set Mean Square Error: %.4f\" % mse2)\n",
        "\n",
        "#Find the error rate on the training set\n",
        "mae3 = mean_absolute_error(Y_Test, model2.predict(X_Test))# *\n",
        "mse3 = mean_squared_error(Y_Test, model2.predict(X_Test))\n",
        "print(\"\\nBagging Regressor Testing set Mean Absolute Error: %.4f\" % mae2)\n",
        "print(\"Testing Set Mean Square Error: %.4f\" % mse2)"
      ],
      "execution_count": 404,
      "outputs": [
        {
          "output_type": "stream",
          "text": [
            "Training set Analysis:\n",
            " Bagging Regressor Training set Mean Absolute Error: 0.7752\n",
            "Training Set Mean Square Error: 0.9484\n",
            "\n",
            "Bagging Regressor Testing set Mean Absolute Error: 0.7752\n",
            "Testing Set Mean Square Error: 0.9484\n"
          ],
          "name": "stdout"
        }
      ]
    },
    {
      "cell_type": "code",
      "metadata": {
        "id": "VpnYSrkpLSHh",
        "colab_type": "code",
        "outputId": "d7ff1735-4809-4673-d2ee-b564a8380edb",
        "colab": {
          "base_uri": "https://localhost:8080/",
          "height": 34
        }
      },
      "source": [
        "# How do you calculate error rate in classification?\n",
        "model2.fit(X_Train, Y_Train).score(X_Train, Y_Train)"
      ],
      "execution_count": 405,
      "outputs": [
        {
          "output_type": "execute_result",
          "data": {
            "text/plain": [
              "0.004973380952153494"
            ]
          },
          "metadata": {
            "tags": []
          },
          "execution_count": 405
        }
      ]
    },
    {
      "cell_type": "code",
      "metadata": {
        "id": "hT6ov9Tw7vNx",
        "colab_type": "code",
        "colab": {}
      },
      "source": [
        "# print(classification_report(Y_Train, y_pred, target_names=Y_Test))"
      ],
      "execution_count": 0,
      "outputs": []
    },
    {
      "cell_type": "markdown",
      "metadata": {
        "id": "P4xKAzjJl6aG",
        "colab_type": "text"
      },
      "source": [
        "#### **Random Forest Regressor**"
      ]
    },
    {
      "cell_type": "code",
      "metadata": {
        "id": "XghiN3LPk2nt",
        "colab_type": "code",
        "outputId": "c9920719-3507-4c39-d1e2-db476a419805",
        "colab": {
          "base_uri": "https://localhost:8080/",
          "height": 136
        }
      },
      "source": [
        "## Fitting the regression model ##\n",
        "model1 = ensemble.RandomForestRegressor(\n",
        "    n_estimators=1000, # Number of decision trees to build\n",
        "    criterion='mse',\n",
        "    min_samples_leaf=9,\n",
        "    max_depth=6,\n",
        "    max_features=0.1,\n",
        "  random_state=7)\n",
        "model1.fit(X_Train,Y_Train)"
      ],
      "execution_count": 407,
      "outputs": [
        {
          "output_type": "execute_result",
          "data": {
            "text/plain": [
              "RandomForestRegressor(bootstrap=True, ccp_alpha=0.0, criterion='mse',\n",
              "                      max_depth=6, max_features=0.1, max_leaf_nodes=None,\n",
              "                      max_samples=None, min_impurity_decrease=0.0,\n",
              "                      min_impurity_split=None, min_samples_leaf=9,\n",
              "                      min_samples_split=2, min_weight_fraction_leaf=0.0,\n",
              "                      n_estimators=1000, n_jobs=None, oob_score=False,\n",
              "                      random_state=7, verbose=0, warm_start=False)"
            ]
          },
          "metadata": {
            "tags": []
          },
          "execution_count": 407
        }
      ]
    },
    {
      "cell_type": "markdown",
      "metadata": {
        "id": "spxQiWe_vYN9",
        "colab_type": "text"
      },
      "source": [
        "##### Measuring Accuracy"
      ]
    },
    {
      "cell_type": "code",
      "metadata": {
        "id": "t5bFYQz8lzA-",
        "colab_type": "code",
        "outputId": "68d059fa-2ba2-4888-f59b-0b514870e3e6",
        "colab": {
          "base_uri": "https://localhost:8080/",
          "height": 306
        }
      },
      "source": [
        "#Find the error rate on the training set\n",
        "mae4=mean_absolute_error(Y_Train, model1.predict(X_Train))\n",
        "mse4 = mean_squared_error(Y_Train, model1.predict(X_Train))\n",
        "print(\"Training set Analysis:\\n Bagging Regressor Training set Mean Absolute Error: %.4f\" % mae4)\n",
        "print(\"Training Set Mean Square Error: %.4f\" % mse4)\n",
        "\n",
        "#Find the error rate on the testing set\n",
        "mae5=mean_absolute_error(Y_Test, model1.predict(X_Test))# *\n",
        "mse5 = mean_squared_error(Y_Test, model1.predict(X_Test))\n",
        "print(\"\\nTesting set Analysis:\\nBagging Regressor Testing set Mean Squared Error: %.4f\" % mae5)\n",
        "print(\"Testing Set Mean Square Error: %.4f\" % mse5)\n",
        "\n",
        "print(\"\\nFinal Training Analysis:\\n GBR Training MAE: %.4f\" % mae,\"| GBR Training MSE: %.4f\" % mse,\n",
        "      \"\\nBagging Training MAE: %.4f\" % mae2,\"| Bagging Training MSE: %.4f\" % mse2,\n",
        "      \"\\nRandom Forest Training MAE: %.4f\" % mae4,\"| Random Forest Training MSE: %.4f\" % mse4)\n",
        "\n",
        "print(\"\\nFinal Testing Analysis:\\n GBR Testing MAE: %.4f\" % mae1,\"| GBR Testing MSE: %.4f\" % mse1,\n",
        "      \"\\nBagging Testing MAE: %.4f\" % mae2,\"| Bagging Testing MSE: %.4f\" % mse2,\n",
        "      \"\\nRandom Forest Testing MAE: %.4f\" % mae5,\"| Random Forest Testing MSE: %.4f\" % mse5)"
      ],
      "execution_count": 408,
      "outputs": [
        {
          "output_type": "stream",
          "text": [
            "Training set Analysis:\n",
            " Bagging Regressor Training set Mean Absolute Error: 0.7585\n",
            "Training Set Mean Square Error: 0.9154\n",
            "\n",
            "Testing set Analysis:\n",
            "Bagging Regressor Testing set Mean Squared Error: 0.7639\n",
            "Testing Set Mean Square Error: 0.9364\n",
            "\n",
            "Final Training Analysis:\n",
            " GBR Training MAE: 0.6044 | GBR Training MSE: 0.6465 \n",
            "Bagging Training MAE: 0.7752 | Bagging Training MSE: 0.9484 \n",
            "Random Forest Training MAE: 0.7585 | Random Forest Training MSE: 0.9154\n",
            "\n",
            "Final Testing Analysis:\n",
            " GBR Testing MAE: 0.6886 | GBR Testing MSE: 0.8164 \n",
            "Bagging Testing MAE: 0.7752 | Bagging Testing MSE: 0.9484 \n",
            "Random Forest Testing MAE: 0.7639 | Random Forest Testing MSE: 0.9364\n"
          ],
          "name": "stdout"
        }
      ]
    },
    {
      "cell_type": "markdown",
      "metadata": {
        "id": "dZMBFLe5v2XN",
        "colab_type": "text"
      },
      "source": [
        "# **Random Search(Replace Grid Search)**\n",
        "For this section, I am using Random Search instead of Grid Search as Random search is better than grid search as it is able to take into account more unique values of each hyperparameter. This is important because some hyperparamters are more important than others."
      ]
    },
    {
      "cell_type": "code",
      "metadata": {
        "id": "MUUVfC_knf9Y",
        "colab_type": "code",
        "colab": {
          "base_uri": "https://localhost:8080/",
          "height": 428
        },
        "outputId": "e123e55a-96f2-4d13-c425-1b95c047e41e"
      },
      "source": [
        "# Parameters we want to try\n",
        "param_grid = {\n",
        "    'n_estimators': [100, 500, 1000],\n",
        "    'max_depth': [4, 6],\n",
        "    'min_samples_leaf': [3, 5, 9, 17],\n",
        "    'learning_rate': [0.1, 0.05, 0.02, 0.01],\n",
        "    'max_features': [1.0, 0.3, 0.1],\n",
        "    'loss': ['ls', 'lad', 'huber']\n",
        "}\n",
        "\n",
        "from sklearn.model_selection import RandomizedSearchCV\n",
        "randomizedsearch = RandomizedSearchCV(model, param_grid,verbose=20)\n",
        "best_model_random = randomizedsearch.fit(X_Train, Y_Train)\n",
        "print(best_model_random.best_estimator_)"
      ],
      "execution_count": 410,
      "outputs": [
        {
          "output_type": "stream",
          "text": [
            "Fitting 5 folds for each of 10 candidates, totalling 50 fits\n",
            "[CV] n_estimators=100, min_samples_leaf=9, max_features=1.0, max_depth=6, loss=lad, learning_rate=0.1 \n"
          ],
          "name": "stdout"
        },
        {
          "output_type": "stream",
          "text": [
            "[Parallel(n_jobs=1)]: Using backend SequentialBackend with 1 concurrent workers.\n"
          ],
          "name": "stderr"
        },
        {
          "output_type": "error",
          "ename": "KeyboardInterrupt",
          "evalue": "ignored",
          "traceback": [
            "\u001b[0;31m---------------------------------------------------------------------------\u001b[0m",
            "\u001b[0;31mKeyboardInterrupt\u001b[0m                         Traceback (most recent call last)",
            "\u001b[0;32m<ipython-input-410-ce6f153fc8c1>\u001b[0m in \u001b[0;36m<module>\u001b[0;34m()\u001b[0m\n\u001b[1;32m     11\u001b[0m \u001b[0;32mfrom\u001b[0m \u001b[0msklearn\u001b[0m\u001b[0;34m.\u001b[0m\u001b[0mmodel_selection\u001b[0m \u001b[0;32mimport\u001b[0m \u001b[0mRandomizedSearchCV\u001b[0m\u001b[0;34m\u001b[0m\u001b[0;34m\u001b[0m\u001b[0m\n\u001b[1;32m     12\u001b[0m \u001b[0mrandomizedsearch\u001b[0m \u001b[0;34m=\u001b[0m \u001b[0mRandomizedSearchCV\u001b[0m\u001b[0;34m(\u001b[0m\u001b[0mmodel\u001b[0m\u001b[0;34m,\u001b[0m \u001b[0mparam_grid\u001b[0m\u001b[0;34m,\u001b[0m\u001b[0mverbose\u001b[0m\u001b[0;34m=\u001b[0m\u001b[0;36m20\u001b[0m\u001b[0;34m)\u001b[0m\u001b[0;34m\u001b[0m\u001b[0;34m\u001b[0m\u001b[0m\n\u001b[0;32m---> 13\u001b[0;31m \u001b[0mbest_model_random\u001b[0m \u001b[0;34m=\u001b[0m \u001b[0mrandomizedsearch\u001b[0m\u001b[0;34m.\u001b[0m\u001b[0mfit\u001b[0m\u001b[0;34m(\u001b[0m\u001b[0mX_Train\u001b[0m\u001b[0;34m,\u001b[0m \u001b[0mY_Train\u001b[0m\u001b[0;34m)\u001b[0m\u001b[0;34m\u001b[0m\u001b[0;34m\u001b[0m\u001b[0m\n\u001b[0m\u001b[1;32m     14\u001b[0m \u001b[0mprint\u001b[0m\u001b[0;34m(\u001b[0m\u001b[0mbest_model_random\u001b[0m\u001b[0;34m.\u001b[0m\u001b[0mbest_estimator_\u001b[0m\u001b[0;34m)\u001b[0m\u001b[0;34m\u001b[0m\u001b[0;34m\u001b[0m\u001b[0m\n",
            "\u001b[0;32m/usr/local/lib/python3.6/dist-packages/sklearn/model_selection/_search.py\u001b[0m in \u001b[0;36mfit\u001b[0;34m(self, X, y, groups, **fit_params)\u001b[0m\n\u001b[1;32m    708\u001b[0m                 \u001b[0;32mreturn\u001b[0m \u001b[0mresults\u001b[0m\u001b[0;34m\u001b[0m\u001b[0;34m\u001b[0m\u001b[0m\n\u001b[1;32m    709\u001b[0m \u001b[0;34m\u001b[0m\u001b[0m\n\u001b[0;32m--> 710\u001b[0;31m             \u001b[0mself\u001b[0m\u001b[0;34m.\u001b[0m\u001b[0m_run_search\u001b[0m\u001b[0;34m(\u001b[0m\u001b[0mevaluate_candidates\u001b[0m\u001b[0;34m)\u001b[0m\u001b[0;34m\u001b[0m\u001b[0;34m\u001b[0m\u001b[0m\n\u001b[0m\u001b[1;32m    711\u001b[0m \u001b[0;34m\u001b[0m\u001b[0m\n\u001b[1;32m    712\u001b[0m         \u001b[0;31m# For multi-metric evaluation, store the best_index_, best_params_ and\u001b[0m\u001b[0;34m\u001b[0m\u001b[0;34m\u001b[0m\u001b[0;34m\u001b[0m\u001b[0m\n",
            "\u001b[0;32m/usr/local/lib/python3.6/dist-packages/sklearn/model_selection/_search.py\u001b[0m in \u001b[0;36m_run_search\u001b[0;34m(self, evaluate_candidates)\u001b[0m\n\u001b[1;32m   1482\u001b[0m         evaluate_candidates(ParameterSampler(\n\u001b[1;32m   1483\u001b[0m             \u001b[0mself\u001b[0m\u001b[0;34m.\u001b[0m\u001b[0mparam_distributions\u001b[0m\u001b[0;34m,\u001b[0m \u001b[0mself\u001b[0m\u001b[0;34m.\u001b[0m\u001b[0mn_iter\u001b[0m\u001b[0;34m,\u001b[0m\u001b[0;34m\u001b[0m\u001b[0;34m\u001b[0m\u001b[0m\n\u001b[0;32m-> 1484\u001b[0;31m             random_state=self.random_state))\n\u001b[0m",
            "\u001b[0;32m/usr/local/lib/python3.6/dist-packages/sklearn/model_selection/_search.py\u001b[0m in \u001b[0;36mevaluate_candidates\u001b[0;34m(candidate_params)\u001b[0m\n\u001b[1;32m    687\u001b[0m                                \u001b[0;32mfor\u001b[0m \u001b[0mparameters\u001b[0m\u001b[0;34m,\u001b[0m \u001b[0;34m(\u001b[0m\u001b[0mtrain\u001b[0m\u001b[0;34m,\u001b[0m \u001b[0mtest\u001b[0m\u001b[0;34m)\u001b[0m\u001b[0;34m\u001b[0m\u001b[0;34m\u001b[0m\u001b[0m\n\u001b[1;32m    688\u001b[0m                                in product(candidate_params,\n\u001b[0;32m--> 689\u001b[0;31m                                           cv.split(X, y, groups)))\n\u001b[0m\u001b[1;32m    690\u001b[0m \u001b[0;34m\u001b[0m\u001b[0m\n\u001b[1;32m    691\u001b[0m                 \u001b[0;32mif\u001b[0m \u001b[0mlen\u001b[0m\u001b[0;34m(\u001b[0m\u001b[0mout\u001b[0m\u001b[0;34m)\u001b[0m \u001b[0;34m<\u001b[0m \u001b[0;36m1\u001b[0m\u001b[0;34m:\u001b[0m\u001b[0;34m\u001b[0m\u001b[0;34m\u001b[0m\u001b[0m\n",
            "\u001b[0;32m/usr/local/lib/python3.6/dist-packages/joblib/parallel.py\u001b[0m in \u001b[0;36m__call__\u001b[0;34m(self, iterable)\u001b[0m\n\u001b[1;32m   1027\u001b[0m             \u001b[0;31m# remaining jobs.\u001b[0m\u001b[0;34m\u001b[0m\u001b[0;34m\u001b[0m\u001b[0;34m\u001b[0m\u001b[0m\n\u001b[1;32m   1028\u001b[0m             \u001b[0mself\u001b[0m\u001b[0;34m.\u001b[0m\u001b[0m_iterating\u001b[0m \u001b[0;34m=\u001b[0m \u001b[0;32mFalse\u001b[0m\u001b[0;34m\u001b[0m\u001b[0;34m\u001b[0m\u001b[0m\n\u001b[0;32m-> 1029\u001b[0;31m             \u001b[0;32mif\u001b[0m \u001b[0mself\u001b[0m\u001b[0;34m.\u001b[0m\u001b[0mdispatch_one_batch\u001b[0m\u001b[0;34m(\u001b[0m\u001b[0miterator\u001b[0m\u001b[0;34m)\u001b[0m\u001b[0;34m:\u001b[0m\u001b[0;34m\u001b[0m\u001b[0;34m\u001b[0m\u001b[0m\n\u001b[0m\u001b[1;32m   1030\u001b[0m                 \u001b[0mself\u001b[0m\u001b[0;34m.\u001b[0m\u001b[0m_iterating\u001b[0m \u001b[0;34m=\u001b[0m \u001b[0mself\u001b[0m\u001b[0;34m.\u001b[0m\u001b[0m_original_iterator\u001b[0m \u001b[0;32mis\u001b[0m \u001b[0;32mnot\u001b[0m \u001b[0;32mNone\u001b[0m\u001b[0;34m\u001b[0m\u001b[0;34m\u001b[0m\u001b[0m\n\u001b[1;32m   1031\u001b[0m \u001b[0;34m\u001b[0m\u001b[0m\n",
            "\u001b[0;32m/usr/local/lib/python3.6/dist-packages/joblib/parallel.py\u001b[0m in \u001b[0;36mdispatch_one_batch\u001b[0;34m(self, iterator)\u001b[0m\n\u001b[1;32m    845\u001b[0m                 \u001b[0;32mreturn\u001b[0m \u001b[0;32mFalse\u001b[0m\u001b[0;34m\u001b[0m\u001b[0;34m\u001b[0m\u001b[0m\n\u001b[1;32m    846\u001b[0m             \u001b[0;32melse\u001b[0m\u001b[0;34m:\u001b[0m\u001b[0;34m\u001b[0m\u001b[0;34m\u001b[0m\u001b[0m\n\u001b[0;32m--> 847\u001b[0;31m                 \u001b[0mself\u001b[0m\u001b[0;34m.\u001b[0m\u001b[0m_dispatch\u001b[0m\u001b[0;34m(\u001b[0m\u001b[0mtasks\u001b[0m\u001b[0;34m)\u001b[0m\u001b[0;34m\u001b[0m\u001b[0;34m\u001b[0m\u001b[0m\n\u001b[0m\u001b[1;32m    848\u001b[0m                 \u001b[0;32mreturn\u001b[0m \u001b[0;32mTrue\u001b[0m\u001b[0;34m\u001b[0m\u001b[0;34m\u001b[0m\u001b[0m\n\u001b[1;32m    849\u001b[0m \u001b[0;34m\u001b[0m\u001b[0m\n",
            "\u001b[0;32m/usr/local/lib/python3.6/dist-packages/joblib/parallel.py\u001b[0m in \u001b[0;36m_dispatch\u001b[0;34m(self, batch)\u001b[0m\n\u001b[1;32m    763\u001b[0m         \u001b[0;32mwith\u001b[0m \u001b[0mself\u001b[0m\u001b[0;34m.\u001b[0m\u001b[0m_lock\u001b[0m\u001b[0;34m:\u001b[0m\u001b[0;34m\u001b[0m\u001b[0;34m\u001b[0m\u001b[0m\n\u001b[1;32m    764\u001b[0m             \u001b[0mjob_idx\u001b[0m \u001b[0;34m=\u001b[0m \u001b[0mlen\u001b[0m\u001b[0;34m(\u001b[0m\u001b[0mself\u001b[0m\u001b[0;34m.\u001b[0m\u001b[0m_jobs\u001b[0m\u001b[0;34m)\u001b[0m\u001b[0;34m\u001b[0m\u001b[0;34m\u001b[0m\u001b[0m\n\u001b[0;32m--> 765\u001b[0;31m             \u001b[0mjob\u001b[0m \u001b[0;34m=\u001b[0m \u001b[0mself\u001b[0m\u001b[0;34m.\u001b[0m\u001b[0m_backend\u001b[0m\u001b[0;34m.\u001b[0m\u001b[0mapply_async\u001b[0m\u001b[0;34m(\u001b[0m\u001b[0mbatch\u001b[0m\u001b[0;34m,\u001b[0m \u001b[0mcallback\u001b[0m\u001b[0;34m=\u001b[0m\u001b[0mcb\u001b[0m\u001b[0;34m)\u001b[0m\u001b[0;34m\u001b[0m\u001b[0;34m\u001b[0m\u001b[0m\n\u001b[0m\u001b[1;32m    766\u001b[0m             \u001b[0;31m# A job can complete so quickly than its callback is\u001b[0m\u001b[0;34m\u001b[0m\u001b[0;34m\u001b[0m\u001b[0;34m\u001b[0m\u001b[0m\n\u001b[1;32m    767\u001b[0m             \u001b[0;31m# called before we get here, causing self._jobs to\u001b[0m\u001b[0;34m\u001b[0m\u001b[0;34m\u001b[0m\u001b[0;34m\u001b[0m\u001b[0m\n",
            "\u001b[0;32m/usr/local/lib/python3.6/dist-packages/joblib/_parallel_backends.py\u001b[0m in \u001b[0;36mapply_async\u001b[0;34m(self, func, callback)\u001b[0m\n\u001b[1;32m    204\u001b[0m     \u001b[0;32mdef\u001b[0m \u001b[0mapply_async\u001b[0m\u001b[0;34m(\u001b[0m\u001b[0mself\u001b[0m\u001b[0;34m,\u001b[0m \u001b[0mfunc\u001b[0m\u001b[0;34m,\u001b[0m \u001b[0mcallback\u001b[0m\u001b[0;34m=\u001b[0m\u001b[0;32mNone\u001b[0m\u001b[0;34m)\u001b[0m\u001b[0;34m:\u001b[0m\u001b[0;34m\u001b[0m\u001b[0;34m\u001b[0m\u001b[0m\n\u001b[1;32m    205\u001b[0m         \u001b[0;34m\"\"\"Schedule a func to be run\"\"\"\u001b[0m\u001b[0;34m\u001b[0m\u001b[0;34m\u001b[0m\u001b[0m\n\u001b[0;32m--> 206\u001b[0;31m         \u001b[0mresult\u001b[0m \u001b[0;34m=\u001b[0m \u001b[0mImmediateResult\u001b[0m\u001b[0;34m(\u001b[0m\u001b[0mfunc\u001b[0m\u001b[0;34m)\u001b[0m\u001b[0;34m\u001b[0m\u001b[0;34m\u001b[0m\u001b[0m\n\u001b[0m\u001b[1;32m    207\u001b[0m         \u001b[0;32mif\u001b[0m \u001b[0mcallback\u001b[0m\u001b[0;34m:\u001b[0m\u001b[0;34m\u001b[0m\u001b[0;34m\u001b[0m\u001b[0m\n\u001b[1;32m    208\u001b[0m             \u001b[0mcallback\u001b[0m\u001b[0;34m(\u001b[0m\u001b[0mresult\u001b[0m\u001b[0;34m)\u001b[0m\u001b[0;34m\u001b[0m\u001b[0;34m\u001b[0m\u001b[0m\n",
            "\u001b[0;32m/usr/local/lib/python3.6/dist-packages/joblib/_parallel_backends.py\u001b[0m in \u001b[0;36m__init__\u001b[0;34m(self, batch)\u001b[0m\n\u001b[1;32m    568\u001b[0m         \u001b[0;31m# Don't delay the application, to avoid keeping the input\u001b[0m\u001b[0;34m\u001b[0m\u001b[0;34m\u001b[0m\u001b[0;34m\u001b[0m\u001b[0m\n\u001b[1;32m    569\u001b[0m         \u001b[0;31m# arguments in memory\u001b[0m\u001b[0;34m\u001b[0m\u001b[0;34m\u001b[0m\u001b[0;34m\u001b[0m\u001b[0m\n\u001b[0;32m--> 570\u001b[0;31m         \u001b[0mself\u001b[0m\u001b[0;34m.\u001b[0m\u001b[0mresults\u001b[0m \u001b[0;34m=\u001b[0m \u001b[0mbatch\u001b[0m\u001b[0;34m(\u001b[0m\u001b[0;34m)\u001b[0m\u001b[0;34m\u001b[0m\u001b[0;34m\u001b[0m\u001b[0m\n\u001b[0m\u001b[1;32m    571\u001b[0m \u001b[0;34m\u001b[0m\u001b[0m\n\u001b[1;32m    572\u001b[0m     \u001b[0;32mdef\u001b[0m \u001b[0mget\u001b[0m\u001b[0;34m(\u001b[0m\u001b[0mself\u001b[0m\u001b[0;34m)\u001b[0m\u001b[0;34m:\u001b[0m\u001b[0;34m\u001b[0m\u001b[0;34m\u001b[0m\u001b[0m\n",
            "\u001b[0;32m/usr/local/lib/python3.6/dist-packages/joblib/parallel.py\u001b[0m in \u001b[0;36m__call__\u001b[0;34m(self)\u001b[0m\n\u001b[1;32m    251\u001b[0m         \u001b[0;32mwith\u001b[0m \u001b[0mparallel_backend\u001b[0m\u001b[0;34m(\u001b[0m\u001b[0mself\u001b[0m\u001b[0;34m.\u001b[0m\u001b[0m_backend\u001b[0m\u001b[0;34m,\u001b[0m \u001b[0mn_jobs\u001b[0m\u001b[0;34m=\u001b[0m\u001b[0mself\u001b[0m\u001b[0;34m.\u001b[0m\u001b[0m_n_jobs\u001b[0m\u001b[0;34m)\u001b[0m\u001b[0;34m:\u001b[0m\u001b[0;34m\u001b[0m\u001b[0;34m\u001b[0m\u001b[0m\n\u001b[1;32m    252\u001b[0m             return [func(*args, **kwargs)\n\u001b[0;32m--> 253\u001b[0;31m                     for func, args, kwargs in self.items]\n\u001b[0m\u001b[1;32m    254\u001b[0m \u001b[0;34m\u001b[0m\u001b[0m\n\u001b[1;32m    255\u001b[0m     \u001b[0;32mdef\u001b[0m \u001b[0m__reduce__\u001b[0m\u001b[0;34m(\u001b[0m\u001b[0mself\u001b[0m\u001b[0;34m)\u001b[0m\u001b[0;34m:\u001b[0m\u001b[0;34m\u001b[0m\u001b[0;34m\u001b[0m\u001b[0m\n",
            "\u001b[0;32m/usr/local/lib/python3.6/dist-packages/joblib/parallel.py\u001b[0m in \u001b[0;36m<listcomp>\u001b[0;34m(.0)\u001b[0m\n\u001b[1;32m    251\u001b[0m         \u001b[0;32mwith\u001b[0m \u001b[0mparallel_backend\u001b[0m\u001b[0;34m(\u001b[0m\u001b[0mself\u001b[0m\u001b[0;34m.\u001b[0m\u001b[0m_backend\u001b[0m\u001b[0;34m,\u001b[0m \u001b[0mn_jobs\u001b[0m\u001b[0;34m=\u001b[0m\u001b[0mself\u001b[0m\u001b[0;34m.\u001b[0m\u001b[0m_n_jobs\u001b[0m\u001b[0;34m)\u001b[0m\u001b[0;34m:\u001b[0m\u001b[0;34m\u001b[0m\u001b[0;34m\u001b[0m\u001b[0m\n\u001b[1;32m    252\u001b[0m             return [func(*args, **kwargs)\n\u001b[0;32m--> 253\u001b[0;31m                     for func, args, kwargs in self.items]\n\u001b[0m\u001b[1;32m    254\u001b[0m \u001b[0;34m\u001b[0m\u001b[0m\n\u001b[1;32m    255\u001b[0m     \u001b[0;32mdef\u001b[0m \u001b[0m__reduce__\u001b[0m\u001b[0;34m(\u001b[0m\u001b[0mself\u001b[0m\u001b[0;34m)\u001b[0m\u001b[0;34m:\u001b[0m\u001b[0;34m\u001b[0m\u001b[0;34m\u001b[0m\u001b[0m\n",
            "\u001b[0;32m/usr/local/lib/python3.6/dist-packages/sklearn/model_selection/_validation.py\u001b[0m in \u001b[0;36m_fit_and_score\u001b[0;34m(estimator, X, y, scorer, train, test, verbose, parameters, fit_params, return_train_score, return_parameters, return_n_test_samples, return_times, return_estimator, error_score)\u001b[0m\n\u001b[1;32m    513\u001b[0m             \u001b[0mestimator\u001b[0m\u001b[0;34m.\u001b[0m\u001b[0mfit\u001b[0m\u001b[0;34m(\u001b[0m\u001b[0mX_train\u001b[0m\u001b[0;34m,\u001b[0m \u001b[0;34m**\u001b[0m\u001b[0mfit_params\u001b[0m\u001b[0;34m)\u001b[0m\u001b[0;34m\u001b[0m\u001b[0;34m\u001b[0m\u001b[0m\n\u001b[1;32m    514\u001b[0m         \u001b[0;32melse\u001b[0m\u001b[0;34m:\u001b[0m\u001b[0;34m\u001b[0m\u001b[0;34m\u001b[0m\u001b[0m\n\u001b[0;32m--> 515\u001b[0;31m             \u001b[0mestimator\u001b[0m\u001b[0;34m.\u001b[0m\u001b[0mfit\u001b[0m\u001b[0;34m(\u001b[0m\u001b[0mX_train\u001b[0m\u001b[0;34m,\u001b[0m \u001b[0my_train\u001b[0m\u001b[0;34m,\u001b[0m \u001b[0;34m**\u001b[0m\u001b[0mfit_params\u001b[0m\u001b[0;34m)\u001b[0m\u001b[0;34m\u001b[0m\u001b[0;34m\u001b[0m\u001b[0m\n\u001b[0m\u001b[1;32m    516\u001b[0m \u001b[0;34m\u001b[0m\u001b[0m\n\u001b[1;32m    517\u001b[0m     \u001b[0;32mexcept\u001b[0m \u001b[0mException\u001b[0m \u001b[0;32mas\u001b[0m \u001b[0me\u001b[0m\u001b[0;34m:\u001b[0m\u001b[0;34m\u001b[0m\u001b[0;34m\u001b[0m\u001b[0m\n",
            "\u001b[0;32m/usr/local/lib/python3.6/dist-packages/sklearn/ensemble/_gb.py\u001b[0m in \u001b[0;36mfit\u001b[0;34m(self, X, y, sample_weight, monitor)\u001b[0m\n\u001b[1;32m   1535\u001b[0m         n_stages = self._fit_stages(\n\u001b[1;32m   1536\u001b[0m             \u001b[0mX\u001b[0m\u001b[0;34m,\u001b[0m \u001b[0my\u001b[0m\u001b[0;34m,\u001b[0m \u001b[0mraw_predictions\u001b[0m\u001b[0;34m,\u001b[0m \u001b[0msample_weight\u001b[0m\u001b[0;34m,\u001b[0m \u001b[0mself\u001b[0m\u001b[0;34m.\u001b[0m\u001b[0m_rng\u001b[0m\u001b[0;34m,\u001b[0m \u001b[0mX_val\u001b[0m\u001b[0;34m,\u001b[0m \u001b[0my_val\u001b[0m\u001b[0;34m,\u001b[0m\u001b[0;34m\u001b[0m\u001b[0;34m\u001b[0m\u001b[0m\n\u001b[0;32m-> 1537\u001b[0;31m             sample_weight_val, begin_at_stage, monitor, X_idx_sorted)\n\u001b[0m\u001b[1;32m   1538\u001b[0m \u001b[0;34m\u001b[0m\u001b[0m\n\u001b[1;32m   1539\u001b[0m         \u001b[0;31m# change shape of arrays after fit (early-stopping or additional ests)\u001b[0m\u001b[0;34m\u001b[0m\u001b[0;34m\u001b[0m\u001b[0;34m\u001b[0m\u001b[0m\n",
            "\u001b[0;32m/usr/local/lib/python3.6/dist-packages/sklearn/ensemble/_gb.py\u001b[0m in \u001b[0;36m_fit_stages\u001b[0;34m(self, X, y, raw_predictions, sample_weight, random_state, X_val, y_val, sample_weight_val, begin_at_stage, monitor, X_idx_sorted)\u001b[0m\n\u001b[1;32m   1592\u001b[0m             raw_predictions = self._fit_stage(\n\u001b[1;32m   1593\u001b[0m                 \u001b[0mi\u001b[0m\u001b[0;34m,\u001b[0m \u001b[0mX\u001b[0m\u001b[0;34m,\u001b[0m \u001b[0my\u001b[0m\u001b[0;34m,\u001b[0m \u001b[0mraw_predictions\u001b[0m\u001b[0;34m,\u001b[0m \u001b[0msample_weight\u001b[0m\u001b[0;34m,\u001b[0m \u001b[0msample_mask\u001b[0m\u001b[0;34m,\u001b[0m\u001b[0;34m\u001b[0m\u001b[0;34m\u001b[0m\u001b[0m\n\u001b[0;32m-> 1594\u001b[0;31m                 random_state, X_idx_sorted, X_csc, X_csr)\n\u001b[0m\u001b[1;32m   1595\u001b[0m \u001b[0;34m\u001b[0m\u001b[0m\n\u001b[1;32m   1596\u001b[0m             \u001b[0;31m# track deviance (= loss)\u001b[0m\u001b[0;34m\u001b[0m\u001b[0;34m\u001b[0m\u001b[0;34m\u001b[0m\u001b[0m\n",
            "\u001b[0;32m/usr/local/lib/python3.6/dist-packages/sklearn/ensemble/_gb.py\u001b[0m in \u001b[0;36m_fit_stage\u001b[0;34m(self, i, X, y, raw_predictions, sample_weight, sample_mask, random_state, X_idx_sorted, X_csc, X_csr)\u001b[0m\n\u001b[1;32m   1243\u001b[0m             \u001b[0mX\u001b[0m \u001b[0;34m=\u001b[0m \u001b[0mX_csr\u001b[0m \u001b[0;32mif\u001b[0m \u001b[0mX_csr\u001b[0m \u001b[0;32mis\u001b[0m \u001b[0;32mnot\u001b[0m \u001b[0;32mNone\u001b[0m \u001b[0;32melse\u001b[0m \u001b[0mX\u001b[0m\u001b[0;34m\u001b[0m\u001b[0;34m\u001b[0m\u001b[0m\n\u001b[1;32m   1244\u001b[0m             tree.fit(X, residual, sample_weight=sample_weight,\n\u001b[0;32m-> 1245\u001b[0;31m                      check_input=False, X_idx_sorted=X_idx_sorted)\n\u001b[0m\u001b[1;32m   1246\u001b[0m \u001b[0;34m\u001b[0m\u001b[0m\n\u001b[1;32m   1247\u001b[0m             \u001b[0;31m# update tree leaves\u001b[0m\u001b[0;34m\u001b[0m\u001b[0;34m\u001b[0m\u001b[0;34m\u001b[0m\u001b[0m\n",
            "\u001b[0;32m/usr/local/lib/python3.6/dist-packages/sklearn/tree/_classes.py\u001b[0m in \u001b[0;36mfit\u001b[0;34m(self, X, y, sample_weight, check_input, X_idx_sorted)\u001b[0m\n\u001b[1;32m   1223\u001b[0m             \u001b[0msample_weight\u001b[0m\u001b[0;34m=\u001b[0m\u001b[0msample_weight\u001b[0m\u001b[0;34m,\u001b[0m\u001b[0;34m\u001b[0m\u001b[0;34m\u001b[0m\u001b[0m\n\u001b[1;32m   1224\u001b[0m             \u001b[0mcheck_input\u001b[0m\u001b[0;34m=\u001b[0m\u001b[0mcheck_input\u001b[0m\u001b[0;34m,\u001b[0m\u001b[0;34m\u001b[0m\u001b[0;34m\u001b[0m\u001b[0m\n\u001b[0;32m-> 1225\u001b[0;31m             X_idx_sorted=X_idx_sorted)\n\u001b[0m\u001b[1;32m   1226\u001b[0m         \u001b[0;32mreturn\u001b[0m \u001b[0mself\u001b[0m\u001b[0;34m\u001b[0m\u001b[0;34m\u001b[0m\u001b[0m\n\u001b[1;32m   1227\u001b[0m \u001b[0;34m\u001b[0m\u001b[0m\n",
            "\u001b[0;32m/usr/local/lib/python3.6/dist-packages/sklearn/tree/_classes.py\u001b[0m in \u001b[0;36mfit\u001b[0;34m(self, X, y, sample_weight, check_input, X_idx_sorted)\u001b[0m\n\u001b[1;32m    365\u001b[0m                                            min_impurity_split)\n\u001b[1;32m    366\u001b[0m \u001b[0;34m\u001b[0m\u001b[0m\n\u001b[0;32m--> 367\u001b[0;31m         \u001b[0mbuilder\u001b[0m\u001b[0;34m.\u001b[0m\u001b[0mbuild\u001b[0m\u001b[0;34m(\u001b[0m\u001b[0mself\u001b[0m\u001b[0;34m.\u001b[0m\u001b[0mtree_\u001b[0m\u001b[0;34m,\u001b[0m \u001b[0mX\u001b[0m\u001b[0;34m,\u001b[0m \u001b[0my\u001b[0m\u001b[0;34m,\u001b[0m \u001b[0msample_weight\u001b[0m\u001b[0;34m,\u001b[0m \u001b[0mX_idx_sorted\u001b[0m\u001b[0;34m)\u001b[0m\u001b[0;34m\u001b[0m\u001b[0;34m\u001b[0m\u001b[0m\n\u001b[0m\u001b[1;32m    368\u001b[0m \u001b[0;34m\u001b[0m\u001b[0m\n\u001b[1;32m    369\u001b[0m         \u001b[0;32mif\u001b[0m \u001b[0mself\u001b[0m\u001b[0;34m.\u001b[0m\u001b[0mn_outputs_\u001b[0m \u001b[0;34m==\u001b[0m \u001b[0;36m1\u001b[0m \u001b[0;32mand\u001b[0m \u001b[0mis_classifier\u001b[0m\u001b[0;34m(\u001b[0m\u001b[0mself\u001b[0m\u001b[0;34m)\u001b[0m\u001b[0;34m:\u001b[0m\u001b[0;34m\u001b[0m\u001b[0;34m\u001b[0m\u001b[0m\n",
            "\u001b[0;31mKeyboardInterrupt\u001b[0m: "
          ]
        }
      ]
    },
    {
      "cell_type": "markdown",
      "metadata": {
        "id": "dAm1W7Nh0UBv",
        "colab_type": "text"
      },
      "source": [
        "### Measuring Accuracy (Random Search)"
      ]
    },
    {
      "cell_type": "code",
      "metadata": {
        "id": "cBiHV3wn9uD4",
        "colab_type": "code",
        "colab": {
          "base_uri": "https://localhost:8080/",
          "height": 119
        },
        "outputId": "3e6f36f1-8acb-4ecb-9e3c-24beaf8adae8"
      },
      "source": [
        "# Find the error rate on the training set using the best parameters\n",
        "mae = mean_absolute_error(Y_Train, best_model_random.predict(X_Train))\n",
        "mse = mean_squared_error(Y_Train, best_model_random.predict(X_Train))\n",
        "print(\"Random Search Analysis \\n Training Set Mean Absolute Error: %.4f\" % mae)\n",
        "print(\"Training Set Mean Square Error: %.4f\" % mse)\n",
        "# Find the error rate on the test set using the best parameters\n",
        "mae = mean_absolute_error(Y_Test, best_model_random.predict(X_Test))\n",
        "mse = mean_squared_error(Y_Test, best_model_random.predict(X_Test))\n",
        "print(\"\\nTest Set Mean Absolute Error: %.4f\" % mae)\n",
        "print(\"Test Set Mean Square Error: %.4f\" % mse)"
      ],
      "execution_count": 412,
      "outputs": [
        {
          "output_type": "stream",
          "text": [
            "Random Search Analysis \n",
            " Training Set Mean Absolute Error: 0.6628\n",
            "Training Set Mean Square Error: 0.7591\n",
            "\n",
            "Test Set Mean Absolute Error: 0.6710\n",
            "Test Set Mean Square Error: 0.7755\n"
          ],
          "name": "stdout"
        }
      ]
    },
    {
      "cell_type": "markdown",
      "metadata": {
        "id": "AnnW07jIBhNY",
        "colab_type": "text"
      },
      "source": [
        "## Feature Importance\n",
        "Display percentage"
      ]
    },
    {
      "cell_type": "markdown",
      "metadata": {
        "id": "hIt4dhHcXSD1",
        "colab_type": "text"
      },
      "source": [
        "Splitting Genres"
      ]
    },
    {
      "cell_type": "code",
      "metadata": {
        "id": "RJOzmF3rXKOT",
        "colab_type": "code",
        "colab": {
          "base_uri": "https://localhost:8080/",
          "height": 238
        },
        "outputId": "7a7c1223-3bf4-4aa4-e48b-c6eff5fdddd0"
      },
      "source": [
        "# # Categorize movies genres properly. Working later with +20MM rows of strings proved very resource consuming\n",
        "genres_unique = pd.DataFrame(movies.genres.str.split('|').tolist()).stack().unique()\n",
        "genres_unique = pd.DataFrame(genres_unique, columns=['genre']) # Format into DataFrame to store later\n",
        "movies1 = movies.join(movies.genres.str.get_dummies().astype(bool))\n",
        "movies1.drop('genres', inplace=True, axis=1)\n",
        "print(movies1.head())\n",
        "print(movies1.columns)\n",
        "full1 = pd.merge(movies1,df_ratings_drop_users,on='movieId')\n",
        "features_df1 = pd.get_dummies(full1,columns=['Crime', 'Drama',\n",
        "       'Mystery','Thriller', 'War'])\n",
        "del features_df1['timestamp']\n",
        "del features_df1['title'] # Remvoing this feature/column as the moviedId will be sufficient in identifying the movies\n",
        "del features_df1['rating']\n",
        "\n",
        "X1 = features_df1.values\n",
        "Y1 = full1['rating'].values\n",
        "### Split the dataset into training(70%) and testing(30%) set ###\n",
        "X_Train, X_Test, Y_Train, Y_Test=train_test_split(X1,Y1, test_size=0.3)"
      ],
      "execution_count": 413,
      "outputs": [
        {
          "output_type": "stream",
          "text": [
            "   movieId                               title  ...    War  Western\n",
            "0        1                    Toy Story (1995)  ...  False    False\n",
            "1        2                      Jumanji (1995)  ...  False    False\n",
            "2        3             Grumpier Old Men (1995)  ...  False    False\n",
            "3        4            Waiting to Exhale (1995)  ...  False    False\n",
            "4        5  Father of the Bride Part II (1995)  ...  False    False\n",
            "\n",
            "[5 rows x 22 columns]\n",
            "Index(['movieId', 'title', '(no genres listed)', 'Action', 'Adventure',\n",
            "       'Animation', 'Children', 'Comedy', 'Crime', 'Documentary', 'Drama',\n",
            "       'Fantasy', 'Film-Noir', 'Horror', 'IMAX', 'Musical', 'Mystery',\n",
            "       'Romance', 'Sci-Fi', 'Thriller', 'War', 'Western'],\n",
            "      dtype='object')\n"
          ],
          "name": "stdout"
        }
      ]
    },
    {
      "cell_type": "code",
      "metadata": {
        "id": "Jz1OGDjXUXCq",
        "colab_type": "code",
        "colab": {
          "base_uri": "https://localhost:8080/",
          "height": 54
        },
        "outputId": "bcd6cbb4-7d7d-4e55-a165-61f64f05714a"
      },
      "source": [
        "x = features_df1.columns\n",
        "# using list comprehension to  \n",
        "# elements from list  \n",
        "x1 = list(x)\n",
        "      \n",
        "# printing result \n",
        "print (\"Resultant list : \" + str(x1)) \n",
        "\n",
        "# Feature Labels\n",
        "feature_labels = np.array(['movieId', '(no genres listed)', 'Action', 'Adventure', 'Animation', 'Children', 'Comedy', 'Documentary', 'Fantasy', 'Film-Noir', 'Horror', 'IMAX', 'Musical', 'Romance', 'Sci-Fi', 'Western', 'userId', 'Crime_False', 'Crime_True', 'Drama_False', 'Drama_True', 'Mystery_False', 'Mystery_True', 'Thriller_False', 'Thriller_True', 'War_False', 'War_True'])"
      ],
      "execution_count": 414,
      "outputs": [
        {
          "output_type": "stream",
          "text": [
            "Resultant list : ['movieId', '(no genres listed)', 'Action', 'Adventure', 'Animation', 'Children', 'Comedy', 'Documentary', 'Fantasy', 'Film-Noir', 'Horror', 'IMAX', 'Musical', 'Romance', 'Sci-Fi', 'Western', 'userId', 'Crime_False', 'Crime_True', 'Drama_False', 'Drama_True', 'Mystery_False', 'Mystery_True', 'Thriller_False', 'Thriller_True', 'War_False', 'War_True']\n"
          ],
          "name": "stdout"
        }
      ]
    },
    {
      "cell_type": "code",
      "metadata": {
        "id": "c-QN0LFm1Gm8",
        "colab_type": "code",
        "colab": {
          "base_uri": "https://localhost:8080/",
          "height": 217
        },
        "outputId": "fed63f07-3529-4151-a949-fe35a1aecb18"
      },
      "source": [
        "from sklearn.externals import joblib\n",
        "\n",
        "# Load the model we trained previously\n",
        "model = joblib.load('models//GradientBoostRegressor.pkl')\n",
        "\n",
        "#Create a numpy array based on the model's feature imprtances\n",
        "importance = model.feature_importances_\n",
        "\n",
        "#Sort the feature labels based on the feature imortance rankings from the model\n",
        "feature_indexes_by_importance=importance.argsort()\n",
        "\n",
        "# Print each feature label, from most importance to least important(reverse order)\n",
        "for index in feature_indexes_by_importance:\n",
        "   print(\"{} - {:.2f}\".format(feature_labels[index], (importance[index]*100.0)))"
      ],
      "execution_count": 415,
      "outputs": [
        {
          "output_type": "error",
          "ename": "IndexError",
          "evalue": "ignored",
          "traceback": [
            "\u001b[0;31m---------------------------------------------------------------------------\u001b[0m",
            "\u001b[0;31mIndexError\u001b[0m                                Traceback (most recent call last)",
            "\u001b[0;32m<ipython-input-415-bcf8a78165db>\u001b[0m in \u001b[0;36m<module>\u001b[0;34m()\u001b[0m\n\u001b[1;32m     12\u001b[0m \u001b[0;31m# Print each feature label, from most importance to least important(reverse order)\u001b[0m\u001b[0;34m\u001b[0m\u001b[0;34m\u001b[0m\u001b[0;34m\u001b[0m\u001b[0m\n\u001b[1;32m     13\u001b[0m \u001b[0;32mfor\u001b[0m \u001b[0mindex\u001b[0m \u001b[0;32min\u001b[0m \u001b[0mfeature_indexes_by_importance\u001b[0m\u001b[0;34m:\u001b[0m\u001b[0;34m\u001b[0m\u001b[0;34m\u001b[0m\u001b[0m\n\u001b[0;32m---> 14\u001b[0;31m    \u001b[0mprint\u001b[0m\u001b[0;34m(\u001b[0m\u001b[0;34m\"{} - {:.2f}\"\u001b[0m\u001b[0;34m.\u001b[0m\u001b[0mformat\u001b[0m\u001b[0;34m(\u001b[0m\u001b[0mfeature_labels\u001b[0m\u001b[0;34m[\u001b[0m\u001b[0mindex\u001b[0m\u001b[0;34m]\u001b[0m\u001b[0;34m,\u001b[0m \u001b[0;34m(\u001b[0m\u001b[0mimportance\u001b[0m\u001b[0;34m[\u001b[0m\u001b[0mindex\u001b[0m\u001b[0;34m]\u001b[0m\u001b[0;34m*\u001b[0m\u001b[0;36m100.0\u001b[0m\u001b[0;34m)\u001b[0m\u001b[0;34m)\u001b[0m\u001b[0;34m)\u001b[0m\u001b[0;34m\u001b[0m\u001b[0;34m\u001b[0m\u001b[0m\n\u001b[0m",
            "\u001b[0;31mIndexError\u001b[0m: index 628 is out of bounds for axis 0 with size 27"
          ]
        }
      ]
    },
    {
      "cell_type": "markdown",
      "metadata": {
        "id": "Y6ON1MDKDnw7",
        "colab_type": "text"
      },
      "source": [
        "## **Prediction for 1 row of data** - Success"
      ]
    },
    {
      "cell_type": "code",
      "metadata": {
        "id": "_dZQNQEm2aSM",
        "colab_type": "code",
        "colab": {}
      },
      "source": [
        "## Fitting the regression model ##\n",
        "model = ensemble.GradientBoostingRegressor(\n",
        "    n_estimators=1000, # Number of decision trees to build\n",
        "    learning_rate=0.1, # How much decision trees influence overall prediction\n",
        "    max_depth=6,\n",
        "    min_samples_leaf=9,\n",
        "    max_features=0.1,\n",
        "    loss='huber',\n",
        "    random_state=7)\n",
        "model.fit(X_Train,Y_Train)\n",
        "joblib.dump(model,'models//GradientBoostRegressor.pkl')"
      ],
      "execution_count": 0,
      "outputs": []
    },
    {
      "cell_type": "code",
      "metadata": {
        "id": "JJgeO3nvFevJ",
        "colab_type": "code",
        "colab": {}
      },
      "source": [
        "from sklearn.externals import joblib\n",
        "# Load the model we trained previously\n",
        "model = joblib.load('models//GradientBoostRegressor.pkl')\n",
        "# For the house we want to value, we need to provide the features in the exact same\n",
        "# arrangement as our training data set.\n",
        "movie_rating = [\n",
        "    # Movie features\n",
        "    524, # movieId - 22.49\n",
        "    \n",
        "    # User ID - Enter 1 ID\n",
        "    199,     # userId - 48.26\n",
        "    \n",
        "    \n",
        "    # Genre - Min 1, Max 4\n",
        "    0,       # (no genres listed) - 0.00\n",
        "    0,        # Documentary - 0.04\n",
        "    0,        # Film-Noir - 0.08\n",
        "    0,       # Musical - 0.35\n",
        "    0,        # Western - 0.39\n",
        "    0,        # Mystery_True - 0.54\n",
        "    0,        # IMAX - 0.58\n",
        "    0,        # War_False - 0.69\n",
        "    0,        # War_True - 0.69\n",
        "    0,        # Children - 0.80\n",
        "    0,        # Animation - 0.86\n",
        "    0,        # Horror - 0.89\n",
        "    0,        # Mystery_False - 0.96\n",
        "    0,        # Romance - 1.16\n",
        "    0,        # Thriller_False - 1.22\n",
        "    0,        # Thriller_True - 1.25\n",
        "    0,        # Fantasy - 1.39\n",
        "    0,        # Adventure - 1.48\n",
        "    0,        # Crime_True - 1.52\n",
        "    0,        # Crime_False - 1.60\n",
        "    0,        # Drama_False - 1.60\n",
        "    0,        # Drama_True - 1.71\n",
        "    1,        # Sci-Fi - 1.82\n",
        "    0,        # Comedy - 3.49\n",
        "    1        # Action - 4.15\n",
        "]\n"
      ],
      "execution_count": 0,
      "outputs": []
    },
    {
      "cell_type": "markdown",
      "metadata": {
        "id": "eKqyALzZ2tle",
        "colab_type": "text"
      },
      "source": [
        "The rating will change for every amendment made to the variables above and it will vary based on the feature importance statistics returned above. However, the User ID and Movie ID has to be available in the dataset."
      ]
    },
    {
      "cell_type": "code",
      "metadata": {
        "id": "1anM5gjomDtK",
        "colab_type": "code",
        "colab": {}
      },
      "source": [
        "# scikit-learn assumes you want to predict the values for lots of houses at once, so it expects an array.\n",
        "# We just want to look at a single house, so it will be the only item in our array.\n",
        "movie_rating1 = [movie_rating]\n",
        "# Run the model and make a prediction for each house in the homes_to_value array\n",
        "predicted_movie_values = model.predict(movie_rating1)\n",
        "# Since we are only predicting the price of one house, just look at the first prediction returned\n",
        "predicted_value = predicted_movie_values[0]\n",
        "print(\"This movie has an estimated rating of {:,.2f}\".format(predicted_value))"
      ],
      "execution_count": 0,
      "outputs": []
    },
    {
      "cell_type": "markdown",
      "metadata": {
        "id": "VGcJ_x8cT1pk",
        "colab_type": "text"
      },
      "source": [
        "### Splitting genres"
      ]
    },
    {
      "cell_type": "code",
      "metadata": {
        "id": "3Gs_nhiyevau",
        "colab_type": "code",
        "colab": {}
      },
      "source": [
        "movies1.head()\n",
        "\n",
        "### Can only be used with Jupter Notebook ###\n",
        "# import webbrowser\n",
        "# import os\n",
        "\n",
        "# html=movies1[0:100].to_html()\n",
        "\n",
        "# with open(\"data.html\",\"w\") as f:\n",
        "#          f.write(html)\n",
        "          \n",
        "# full_filename=os.path.abspath(\"data.html\")\n",
        "# webbrowser.open(\"file://{}\".format(full_filename))"
      ],
      "execution_count": 0,
      "outputs": []
    },
    {
      "cell_type": "code",
      "metadata": {
        "id": "LEM5HJZKTyMB",
        "colab_type": "code",
        "colab": {}
      },
      "source": [
        "# # Categorize movies genres properly. Working later with +20MM rows of strings proved very resource consuming\n",
        "genres_unique = pd.DataFrame(movies.genres.str.split('|').tolist()).stack().unique()\n",
        "genres_unique = pd.DataFrame(genres_unique, columns=['genre']) # Format into DataFrame to store later\n",
        "movies1 = movies.join(movies.genres.str.get_dummies().astype(bool))\n",
        "movies1.drop('genres', inplace=True, axis=1)\n",
        "print(movies1.head())\n",
        "print(movies1.columns)\n",
        "full1 = pd.merge(movies1,df_ratings_drop_users,on='movieId')\n",
        "features_df1 = pd.get_dummies(full1,columns=['Crime', 'Drama',\n",
        "       'Mystery','Thriller', 'War'])\n",
        "del features_df1['timestamp']\n",
        "del features_df1['title'] # Remvoing this feature/column as the moviedId will be sufficient in identifying the movies\n",
        "del features_df1['rating']\n",
        "print(features_df1.head())"
      ],
      "execution_count": 0,
      "outputs": []
    },
    {
      "cell_type": "code",
      "metadata": {
        "id": "lFCEf4apUetW",
        "colab_type": "code",
        "colab": {}
      },
      "source": [
        "# feature_labels1 = np.array(['movieId', 'title', '(no genres listed)', 'Action', 'Adventure',\n",
        "      #  'Animation', 'Children', 'Comedy', 'Crime', 'Documentary', 'Drama',\n",
        "      #  'Fantasy', 'Film-Noir', 'Horror', 'IMAX', 'Musical', 'Mystery',\n",
        "      #  'Romance', 'Sci-Fi', 'Thriller', 'War', 'Western'])\n",
        "# features_df = pd.get_dummies(full1,columns=['title','genres'])\n",
        "# features_df1 = features_df\n",
        "X1 = features_df1.values\n",
        "Y1 = full1['rating'].values"
      ],
      "execution_count": 0,
      "outputs": []
    },
    {
      "cell_type": "markdown",
      "metadata": {
        "id": "mOvqZ8BwIX3Y",
        "colab_type": "text"
      },
      "source": [
        "#### Higher level One-Hot Encoding"
      ]
    },
    {
      "cell_type": "code",
      "metadata": {
        "id": "X9f_uK1vFyOR",
        "colab_type": "code",
        "colab": {}
      },
      "source": [
        "features_df2 = pd.get_dummies(full1,columns=['(no genres listed)', 'Action', 'Adventure',\n",
        "       'Animation', 'Children', 'Comedy', 'Crime', 'Documentary', 'Drama',\n",
        "       'Fantasy', 'Film-Noir', 'Horror', 'IMAX', 'Musical', 'Mystery',\n",
        "       'Romance', 'Sci-Fi', 'Thriller', 'War', 'Western'])\n",
        "del features_df2['timestamp']\n",
        "del features_df2['title'] # Removing this feature/column as the moviedId will be sufficient in identifying the movies\n",
        "del features_df2['rating']\n",
        "features_df2.head()"
      ],
      "execution_count": 0,
      "outputs": []
    },
    {
      "cell_type": "code",
      "metadata": {
        "id": "4OFmLA-4GP3O",
        "colab_type": "code",
        "colab": {}
      },
      "source": [
        "#### Including more features for One-Hot Encoding ####\n",
        "### One-Hot Encoding for all variables\n",
        "X2 = features_df2.values\n",
        "Y2 = full1['rating'].values\n",
        "\n",
        "### Split the dataset into training(70%) and testing(30%) set ###\n",
        "X_Train, X_Test, Y_Train, Y_Test=train_test_split(X2,Y2, test_size=0.3)\n",
        "\n",
        "################# End of 'Higher Level One-Hot Encoding' Section ##############################"
      ],
      "execution_count": 0,
      "outputs": []
    },
    {
      "cell_type": "code",
      "metadata": {
        "id": "JzM97ax3g0Z0",
        "colab_type": "code",
        "colab": {}
      },
      "source": [
        "### Split the dataset into training(70%) and testing(30%) set ###\n",
        "X_Train, X_Test, Y_Train, Y_Test=train_test_split(X1,Y1, test_size=0.3)"
      ],
      "execution_count": 0,
      "outputs": []
    },
    {
      "cell_type": "code",
      "metadata": {
        "id": "gQjNEbIjfEgF",
        "colab_type": "code",
        "colab": {}
      },
      "source": [
        "## Fitting the regression model ##\n",
        "model = ensemble.GradientBoostingRegressor(\n",
        "    n_estimators=1000, # Number of decision trees to build\n",
        "    learning_rate=0.1, # How much decision trees influence overall prediction\n",
        "    max_depth=6,\n",
        "    min_samples_leaf=9,\n",
        "    max_features=0.1,\n",
        "    loss='huber',\n",
        "    random_state=7)\n",
        "model.fit(X_Train,Y_Train)"
      ],
      "execution_count": 0,
      "outputs": []
    },
    {
      "cell_type": "code",
      "metadata": {
        "id": "Lx-L6mUGpAOZ",
        "colab_type": "code",
        "colab": {}
      },
      "source": [
        "joblib.dump(model,'models//GradientBoostRegressor.pkl')"
      ],
      "execution_count": 0,
      "outputs": []
    },
    {
      "cell_type": "code",
      "metadata": {
        "id": "9VQ_D-N0o6bH",
        "colab_type": "code",
        "colab": {}
      },
      "source": [
        "# Find the error rate on the testing set\n",
        "mse = mean_squared_error(Y_Train,model.predict(X_Train))\n",
        "print(\"Training set Mean Squared Error: %.4f\" % mse)\n",
        "\n",
        "# Find the error rate on the testing set\n",
        "mse = mean_squared_error(Y_Test,model.predict(X_Test))\n",
        "print(\"Testing set Mean Squared Error: %.4f\" % mse)"
      ],
      "execution_count": 0,
      "outputs": []
    },
    {
      "cell_type": "code",
      "metadata": {
        "id": "-ztoYn95YYdP",
        "colab_type": "code",
        "colab": {}
      },
      "source": [
        "importance.size"
      ],
      "execution_count": 0,
      "outputs": []
    },
    {
      "cell_type": "code",
      "metadata": {
        "id": "rJgKbslg0A4G",
        "colab_type": "code",
        "colab": {}
      },
      "source": [
        "# These are the feature labels from our data set\n",
        "feature_labels = np.array(['movieId', 'userId', 'title_10 Things I Hate About You (1999)', 'title_12 Angry Men (1957)', \n",
        "                           'title_2001: A Space Odyssey (1968)', 'title_28 Days Later (2002)', 'title_300 (2007)', \n",
        "                           'title_40-Year-Old Virgin, The (2005)', 'title_A.I. Artificial Intelligence (2001)', \n",
        "                           'title_Abyss, The (1989)', 'title_Ace Ventura: Pet Detective (1994)', \n",
        "                           'title_Ace Ventura: When Nature Calls (1995)', 'title_Addams Family Values (1993)', \n",
        "                           'title_Air Force One (1997)', 'title_Airplane! (1980)', 'title_Aladdin (1992)', \n",
        "                           'title_Alien (1979)', 'title_Aliens (1986)', 'title_Almost Famous (2000)', 'title_Amadeus (1984)',\n",
        "                           \"title_Amelie (Fabuleux destin d'AmÃ©lie Poulain, Le) (2001)\", \n",
        "                           'title_American Beauty (1999)', 'title_American History X (1998)', \n",
        "                           'title_American Pie (1999)', 'title_American President, The (1995)', \n",
        "                           'title_American Psycho (2000)', 'title_Anchorman: The Legend of Ron Burgundy (2004)', \n",
        "                           'title_Animal House (1978)', 'title_Annie Hall (1977)', 'title_Apocalypse Now (1979)', \n",
        "                           'title_Apollo 13 (1995)', 'title_Arachnophobia (1990)', 'title_Armageddon (1998)', 'title_Army of Darkness (1993)', \n",
        "                           'title_As Good as It Gets (1997)', 'title_Austin Powers in Goldmember (2002)', \n",
        "                           'title_Austin Powers: International Man of Mystery (1997)', 'title_Austin Powers: The Spy Who Shagged Me (1999)', \n",
        "                           'title_Avatar (2009)', 'title_Avengers, The (2012)', 'title_Babe (1995)', 'title_Back to the Future (1985)', \n",
        "                           'title_Back to the Future Part II (1989)', 'title_Back to the Future Part III (1990)', 'title_Bad Boys (1995)',\n",
        "                           'title_Batman (1989)', 'title_Batman Begins (2005)', 'title_Batman Forever (1995)', 'title_Batman Returns (1992)',\n",
        "                           'title_Beautiful Mind, A (2001)', 'title_Beauty and the Beast (1991)', 'title_Beetlejuice (1988)', \n",
        "                           'title_Being John Malkovich (1999)', 'title_Best in Show (2000)', 'title_Beverly Hills Cop III (1994)', \n",
        "                           'title_Big (1988)', 'title_Big Fish (2003)', 'title_Big Lebowski, The (1998)', 'title_Birdcage, The (1996)',\n",
        "                           'title_Black Hawk Down (2001)', 'title_Blade (1998)', 'title_Blade Runner (1982)', 'title_Blair Witch Project, The (1999)',\n",
        "                           'title_Blazing Saddles (1974)', 'title_Blood Diamond (2006)', 'title_Blow (2001)', 'title_Blues Brothers, The (1980)', \n",
        "                           'title_Borat: Cultural Learnings of America for Make Benefit Glorious Nation of Kazakhstan (2006)', \n",
        "                           'title_Bourne Identity, The (2002)', 'title_Bourne Supremacy, The (2004)', 'title_Bourne Ultimatum, The (2007)',\n",
        "                           'title_Bowling for Columbine (2002)', 'title_Braveheart (1995)', 'title_Brazil (1985)', \n",
        "                           'title_Breakfast Club, The (1985)', \"title_Bridget Jones's Diary (2001)\", 'title_Broken Arrow (1996)',\n",
        "                           'title_Bruce Almighty (2003)', \"title_Bug's Life, A (1998)\", 'title_Butch Cassidy and the Sundance Kid (1969)', \n",
        "                           'title_Cable Guy, The (1996)', 'title_Caddyshack (1980)', 'title_Casablanca (1942)', 'title_Casino (1995)',\n",
        "                           'title_Casino Royale (2006)', 'title_Casper (1995)', 'title_Cast Away (2000)', 'title_Catch Me If You Can (2002)', \n",
        "                           'title_Charlie and the Chocolate Factory (2005)', \"title_Charlie's Angels (2000)\", 'title_Chasing Amy (1997)', \n",
        "                           'title_Chicken Run (2000)', 'title_Children of Men (2006)', 'title_Chinatown (1974)', 'title_Christmas Story, A (1983)',\n",
        "                           'title_Chronicles of Narnia: The Lion, the Witch and the Wardrobe, The (2005)', 'title_Citizen Kane (1941)',\n",
        "                           \"title_City Slickers II: The Legend of Curly's Gold (1994)\", 'title_City of God (Cidade de Deus) (2002)', \n",
        "                           'title_Clear and Present Danger (1994)', 'title_Clerks (1994)', 'title_Client, The (1994)', 'title_Cliffhanger (1993)', \n",
        "                           'title_Clockwork Orange, A (1971)', 'title_Close Encounters of the Third Kind (1977)', 'title_Clueless (1995)', \n",
        "                           'title_Con Air (1997)', 'title_Coneheads (1993)', 'title_Congo (1995)', 'title_Contact (1997)', \n",
        "                           'title_Cool Hand Luke (1967)', 'title_Crash (2004)', 'title_Crimson Tide (1995)', \n",
        "                           'title_Crocodile Dundee (1986)', 'title_Crouching Tiger, Hidden Dragon (Wo hu cang long) (2000)', \n",
        "                           'title_Crow, The (1994)', 'title_Dances with Wolves (1990)', 'title_Dark Knight Rises, The (2012)', \n",
        "                           'title_Dark Knight, The (2008)', 'title_Dave (1993)', 'title_Day After Tomorrow, The (2004)', \n",
        "                           'title_Dead Man Walking (1995)', 'title_Dead Poets Society (1989)', 'title_Deadpool (2016)', \n",
        "                           'title_Demolition Man (1993)', 'title_Departed, The (2006)', 'title_Desperado (1995)', \n",
        "                           'title_Die Hard (1988)', 'title_Die Hard 2 (1990)', 'title_Die Hard: With a Vengeance (1995)',\n",
        "                           'title_Disclosure (1994)', 'title_District 9 (2009)', 'title_Django Unchained (2012)', \n",
        "                           'title_Dogma (1999)', 'title_Donnie Brasco (1997)', 'title_Donnie Darko (2001)', \n",
        "                           'title_Dr. Strangelove or: How I Learned to Stop Worrying and Love the Bomb (1964)', 'title_Dragonheart (1996)', \n",
        "                           'title_Dumb & Dumber (Dumb and Dumber) (1994)', 'title_E.T. the Extra-Terrestrial (1982)', 'title_Ed Wood (1994)',\n",
        "                           'title_Edward Scissorhands (1990)', 'title_Election (1999)', 'title_Enemy of the State (1998)', 'title_Eraser (1996)',\n",
        "                           'title_Erin Brockovich (2000)', 'title_Eternal Sunshine of the Spotless Mind (2004)', 'title_Exorcist, The (1973)',\n",
        "                           'title_Eyes Wide Shut (1999)', 'title_Face/Off (1997)', 'title_Fantasia (1940)', 'title_Fargo (1996)',\n",
        "                           \"title_Ferris Bueller's Day Off (1986)\", 'title_Few Good Men, A (1992)', 'title_Field of Dreams (1989)', \n",
        "                           'title_Fifth Element, The (1997)', 'title_Fight Club (1999)', 'title_Finding Nemo (2003)', 'title_Firm, The (1993)',\n",
        "                           'title_First Knight (1995)', 'title_Fish Called Wanda, A (1988)', 'title_Forrest Gump (1994)', \n",
        "                           'title_Four Weddings and a Funeral (1994)', 'title_From Dusk Till Dawn (1996)', 'title_Fugitive, The (1993)',\n",
        "                           'title_Full Metal Jacket (1987)', 'title_Full Monty, The (1997)', 'title_Galaxy Quest (1999)', 'title_Game, The (1997)',\n",
        "                           'title_Gangs of New York (2002)', 'title_Gattaca (1997)', 'title_Get Shorty (1995)', 'title_Ghost (1990)',\n",
        "                           'title_Ghostbusters (a.k.a. Ghost Busters) (1984)', 'title_Gladiator (2000)', 'title_Godfather, The (1972)',\n",
        "                           'title_Godfather: Part II, The (1974)', 'title_GoldenEye (1995)', 'title_Goldfinger (1964)', \n",
        "                           'title_Gone in 60 Seconds (2000)', 'title_Good Will Hunting (1997)', \n",
        "                           'title_Good, the Bad and the Ugly, The (Buono, il brutto, il cattivo, Il) (1966)', \n",
        "                           'title_Goodfellas (1990)', 'title_Goonies, The (1985)', 'title_Graduate, The (1967)',\n",
        "                           'title_Grand Budapest Hotel, The (2014)', 'title_Grease (1978)', 'title_Green Mile, The (1999)',\n",
        "                           'title_Grosse Pointe Blank (1997)', 'title_Groundhog Day (1993)', 'title_Grumpier Old Men (1995)', \n",
        "                           'title_Guardians of the Galaxy (2014)', 'title_Hangover, The (2009)', 'title_Happy Gilmore (1996)',\n",
        "                           'title_Harry Potter and the Chamber of Secrets (2002)', 'title_Harry Potter and the Deathly Hallows: Part 2 (2011)', \n",
        "                           'title_Harry Potter and the Goblet of Fire (2005)', 'title_Harry Potter and the Half-Blood Prince (2009)', \n",
        "                           'title_Harry Potter and the Order of the Phoenix (2007)', 'title_Harry Potter and the Prisoner of Azkaban (2004)', \n",
        "                           \"title_Harry Potter and the Sorcerer's Stone (a.k.a. Harry Potter and the Philosopher's Stone) (2001)\", 'title_Heat (1995)', \n",
        "                           'title_High Fidelity (2000)', 'title_Home Alone (1990)', 'title_Honey, I Shrunk the Kids (1989)', 'title_Hook (1991)', \n",
        "                           'title_Hot Fuzz (2007)', 'title_Hot Shots! Part Deux (1993)', 'title_How to Train Your Dragon (2010)', 'title_Hunt for Red October, The (1990)', 'title_I Am Legend (2007)', 'title_I, Robot (2004)', 'title_Ice Age (2002)', 'title_In the Line of Fire (1993)', 'title_Inception (2010)', 'title_Incredibles, The (2004)', 'title_Independence Day (a.k.a. ID4) (1996)', 'title_Indiana Jones and the Last Crusade (1989)', 'title_Indiana Jones and the Temple of Doom (1984)', 'title_Inglourious Basterds (2009)', 'title_Interstellar (2014)', 'title_Interview with the Vampire: The Vampire Chronicles (1994)', 'title_Iron Man (2008)', \"title_It's a Wonderful Life (1946)\", 'title_Italian Job, The (2003)', 'title_Jaws (1975)', 'title_Jerry Maguire (1996)', 'title_Johnny Mnemonic (1995)', 'title_Judge Dredd (1995)', 'title_Jumanji (1995)', 'title_Jungle Book, The (1967)', 'title_Juno (2007)', 'title_Jurassic Park (1993)', 'title_Kill Bill: Vol. 1 (2003)', 'title_Kill Bill: Vol. 2 (2004)', \"title_King's Speech, The (2010)\", 'title_Knocked Up (2007)', 'title_Kung Fu Panda (2008)', 'title_L.A. Confidential (1997)', 'title_Lady and the Tramp (1955)', 'title_Last Action Hero (1993)', 'title_Last Samurai, The (2003)', 'title_Leaving Las Vegas (1995)', 'title_Legally Blonde (2001)', 'title_Legends of the Fall (1994)', 'title_Lethal Weapon (1987)', 'title_Liar Liar (1997)', 'title_Life Is Beautiful (La Vita Ã¨ bella) (1997)', 'title_Lion King, The (1994)', 'title_Little Mermaid, The (1989)', 'title_Little Miss Sunshine (2006)', 'title_Lock, Stock & Two Smoking Barrels (1998)', 'title_Lord of the Rings: The Fellowship of the Ring, The (2001)', 'title_Lord of the Rings: The Return of the King, The (2003)', 'title_Lord of the Rings: The Two Towers, The (2002)', 'title_Lost World: Jurassic Park, The (1997)', 'title_Lost in Translation (2003)', 'title_Love Actually (2003)', 'title_LÃ©on: The Professional (a.k.a. The Professional) (LÃ©on) (1994)', 'title_Magnolia (1999)', 'title_Mars Attacks! (1996)', 'title_Mary Poppins (1964)', 'title_Mask of Zorro, The (1998)', 'title_Mask, The (1994)', 'title_Matrix Reloaded, The (2003)', 'title_Matrix Revolutions, The (2003)', 'title_Matrix, The (1999)', 'title_Maverick (1994)', 'title_Meet the Parents (2000)', 'title_Memento (2000)', 'title_Men in Black (a.k.a. MIB) (1997)', 'title_Men in Black II (a.k.a. MIIB) (a.k.a. MIB 2) (2002)', 'title_Million Dollar Baby (2004)', 'title_Minority Report (2002)', 'title_Miss Congeniality (2000)', 'title_Mission: Impossible (1996)', 'title_Mission: Impossible II (2000)', 'title_Monsters, Inc. (2001)', 'title_Monty Python and the Holy Grail (1975)', \"title_Monty Python's Life of Brian (1979)\", 'title_Moulin Rouge (2001)', 'title_Mr. & Mrs. Smith (2005)', \"title_Mr. Holland's Opus (1995)\", 'title_Mrs. Doubtfire (1993)', 'title_Mulholland Drive (2001)', 'title_Mummy, The (1999)', 'title_My Big Fat Greek Wedding (2002)', 'title_My Cousin Vinny (1992)', 'title_Mystic River (2003)', 'title_Naked Gun 33 1/3: The Final Insult (1994)', 'title_Natural Born Killers (1994)', 'title_Net, The (1995)', 'title_Nightmare Before Christmas, The (1993)', 'title_No Country for Old Men (2007)', 'title_North by Northwest (1959)', 'title_Notting Hill (1999)', 'title_Nutty Professor, The (1996)', 'title_O Brother, Where Art Thou? (2000)', \"title_Ocean's Eleven (2001)\", 'title_Office Space (1999)', \"title_One Flew Over the Cuckoo's Nest (1975)\", 'title_Others, The (2001)', 'title_Outbreak (1995)', \"title_Pan's Labyrinth (Laberinto del fauno, El) (2006)\", 'title_Patriot, The (2000)', 'title_Philadelphia (1993)', 'title_Piano, The (1993)', 'title_Pinocchio (1940)', \"title_Pirates of the Caribbean: At World's End (2007)\", \"title_Pirates of the Caribbean: Dead Man's Chest (2006)\", 'title_Pirates of the Caribbean: The Curse of the Black Pearl (2003)', 'title_Planet of the Apes (1968)', 'title_Platoon (1986)', 'title_Pleasantville (1998)', 'title_Pocahontas (1995)', 'title_Predator (1987)', 'title_Prestige, The (2006)', 'title_Pretty Woman (1990)', 'title_Princess Bride, The (1987)', 'title_Psycho (1960)', 'title_Pulp Fiction (1994)', 'title_Quiz Show (1994)', 'title_Raiders of the Lost Ark (Indiana Jones and the Raiders of the Lost Ark) (1981)', 'title_Rain Man (1988)', 'title_Raising Arizona (1987)', 'title_Ratatouille (2007)', 'title_Rear Window (1954)', 'title_Requiem for a Dream (2000)', 'title_Reservoir Dogs (1992)', 'title_Robin Hood: Men in Tights (1993)', 'title_RoboCop (1987)', 'title_Rock, The (1996)', 'title_Rocky (1976)', 'title_Rocky Horror Picture Show, The (1975)', 'title_Romancing the Stone (1984)', 'title_Royal Tenenbaums, The (2001)', 'title_Run Lola Run (Lola rennt) (1998)', 'title_Rushmore (1998)', 'title_Sabrina (1995)', 'title_Santa Clause, The (1994)', 'title_Saving Private Ryan (1998)', 'title_Scarface (1983)', 'title_Scary Movie (2000)', \"title_Schindler's List (1993)\", 'title_School of Rock (2003)', 'title_Scream (1996)', 'title_Sense and Sensibility (1995)', 'title_Serenity (2005)', 'title_Seven (a.k.a. Se7en) (1995)', 'title_Shakespeare in Love (1998)', 'title_Shaun of the Dead (2004)', 'title_Shawshank Redemption, The (1994)', 'title_Sherlock Holmes (2009)', 'title_Shining, The (1980)', 'title_Shrek (2001)', 'title_Shrek 2 (2004)', 'title_Shutter Island (2010)', 'title_Signs (2002)', 'title_Silence of the Lambs, The (1991)', 'title_Sin City (2005)', 'title_Sixth Sense, The (1999)', 'title_Skyfall (2012)', 'title_Sleepless in Seattle (1993)', 'title_Sleepy Hollow (1999)', 'title_Slumdog Millionaire (2008)', 'title_Snatch (2000)', 'title_Snow White and the Seven Dwarfs (1937)', 'title_Social Network, The (2010)', 'title_Some Like It Hot (1959)', 'title_Sound of Music, The (1965)', 'title_South Park: Bigger, Longer and Uncut (1999)', 'title_Space Jam (1996)', 'title_Spaceballs (1987)', 'title_Speed (1994)', 'title_Spider-Man (2002)', 'title_Spider-Man 2 (2004)', 'title_Spirited Away (Sen to Chihiro no kamikakushi) (2001)', 'title_Splash (1984)', 'title_Stand by Me (1986)', 'title_Star Trek (2009)', 'title_Star Trek II: The Wrath of Khan (1982)', 'title_Star Trek: First Contact (1996)', 'title_Star Trek: Generations (1994)', 'title_Star Wars: Episode I - The Phantom Menace (1999)', 'title_Star Wars: Episode II - Attack of the Clones (2002)', 'title_Star Wars: Episode III - Revenge of the Sith (2005)', 'title_Star Wars: Episode IV - A New Hope (1977)', 'title_Star Wars: Episode V - The Empire Strikes Back (1980)', 'title_Star Wars: Episode VI - Return of the Jedi (1983)', 'title_Stargate (1994)', 'title_Starship Troopers (1997)', 'title_Sting, The (1973)', 'title_Super Size Me (2004)', 'title_Superbad (2007)', 'title_Superman (1978)', 'title_Taxi Driver (1976)', 'title_Terminator 2: Judgment Day (1991)', 'title_Terminator, The (1984)', \"title_The Devil's Advocate (1997)\", 'title_The Hunger Games (2012)', 'title_The Imitation Game (2014)', \"title_There's Something About Mary (1998)\", 'title_This Is Spinal Tap (1984)', 'title_Three Musketeers, The (1993)', 'title_Titanic (1997)', 'title_To Kill a Mockingbird (1962)', 'title_Tombstone (1993)', 'title_Tommy Boy (1995)', 'title_Top Gun (1986)', 'title_Total Recall (1990)', 'title_Toy Story (1995)', 'title_Toy Story 2 (1999)', 'title_Toy Story 3 (2010)', 'title_Traffic (2000)', 'title_Training Day (2001)', 'title_Trainspotting (1996)', 'title_Tron (1982)', 'title_True Lies (1994)', 'title_True Romance (1993)', 'title_Truman Show, The (1998)', 'title_Truth About Cats & Dogs, The (1996)', 'title_Twelve Monkeys (a.k.a. 12 Monkeys) (1995)', 'title_Twister (1996)', 'title_Unbreakable (2000)', 'title_Untouchables, The (1987)', 'title_Up (2009)', 'title_Usual Suspects, The (1995)', 'title_V for Vendetta (2006)', 'title_Vertigo (1958)', 'title_WALLÂ·E (2008)', 'title_Wallace & Gromit: The Wrong Trousers (1993)', 'title_War of the Worlds (2005)', 'title_Waterworld (1995)', \"title_Wayne's World (1992)\", 'title_Wedding Crashers (2005)', 'title_Wedding Singer, The (1998)', 'title_What Women Want (2000)', \"title_What's Eating Gilbert Grape (1993)\", 'title_When Harry Met Sally... (1989)', 'title_While You Were Sleeping (1995)', 'title_Who Framed Roger Rabbit? (1988)', 'title_Wild Wild West (1999)', 'title_Willy Wonka & the Chocolate Factory (1971)', 'title_Wizard of Oz, The (1939)', 'title_Wolf of Wall Street, The (2013)', 'title_X-Men (2000)', 'title_X-Men: The Last Stand (2006)', 'title_X2: X-Men United (2003)', \"title_You've Got Mail (1998)\", 'title_Young Frankenstein (1974)', 'title_Zombieland (2009)', 'title_Zoolander (2001)', 'genres_Action|Adventure', 'genres_Action|Adventure|Animation|Children|Comedy', 'genres_Action|Adventure|Children|Comedy|Fantasy', 'genres_Action|Adventure|Comedy', 'genres_Action|Adventure|Comedy|Crime', 'genres_Action|Adventure|Comedy|Fantasy', 'genres_Action|Adventure|Comedy|Fantasy|Horror', 'genres_Action|Adventure|Comedy|Fantasy|Horror|Thriller', 'genres_Action|Adventure|Comedy|Fantasy|Romance', 'genres_Action|Adventure|Comedy|Romance', 'genres_Action|Adventure|Comedy|Romance|Thriller', 'genres_Action|Adventure|Comedy|Sci-Fi', 'genres_Action|Adventure|Crime|Drama|Thriller', 'genres_Action|Adventure|Crime|Drama|Thriller|War', 'genres_Action|Adventure|Crime|IMAX', 'genres_Action|Adventure|Drama', 'genres_Action|Adventure|Drama|Fantasy', 'genres_Action|Adventure|Drama|Fantasy|Mystery|IMAX', 'genres_Action|Adventure|Drama|Sci-Fi|Thriller', 'genres_Action|Adventure|Drama|War', 'genres_Action|Adventure|Fantasy', 'genres_Action|Adventure|Horror|Sci-Fi', 'genres_Action|Adventure|Mystery|Romance|Thriller', 'genres_Action|Adventure|Mystery|Sci-Fi', 'genres_Action|Adventure|Mystery|Thriller', 'genres_Action|Adventure|Romance|Thriller', 'genres_Action|Adventure|Sci-Fi', 'genres_Action|Adventure|Sci-Fi|IMAX', 'genres_Action|Adventure|Sci-Fi|Thriller', 'genres_Action|Adventure|Sci-Fi|Thriller|IMAX', 'genres_Action|Adventure|Thriller', 'genres_Action|Adventure|Thriller|IMAX', 'genres_Action|Adventure|Western', 'genres_Action|Animation|Children|Comedy|IMAX', 'genres_Action|Comedy', 'genres_Action|Comedy|Crime|Drama', 'genres_Action|Comedy|Crime|Drama|Thriller', 'genres_Action|Comedy|Crime|Fantasy', 'genres_Action|Comedy|Crime|Mystery', 'genres_Action|Comedy|Crime|Thriller', 'genres_Action|Comedy|Horror', 'genres_Action|Comedy|Horror|Thriller', 'genres_Action|Comedy|Musical', 'genres_Action|Comedy|Romance', 'genres_Action|Comedy|Sci-Fi', 'genres_Action|Comedy|Sci-Fi|Western', 'genres_Action|Comedy|War', 'genres_Action|Crime', 'genres_Action|Crime|Drama', 'genres_Action|Crime|Drama|IMAX', 'genres_Action|Crime|Drama|Mystery|Sci-Fi|Thriller|IMAX', 'genres_Action|Crime|Drama|Sci-Fi|Thriller', 'genres_Action|Crime|Drama|Thriller', 'genres_Action|Crime|Fantasy|Thriller', 'genres_Action|Crime|Film-Noir|Mystery|Thriller', 'genres_Action|Crime|IMAX', 'genres_Action|Crime|Mystery|Sci-Fi|Thriller', 'genres_Action|Crime|Mystery|Thriller', 'genres_Action|Crime|Sci-Fi', 'genres_Action|Crime|Thriller', 'genres_Action|Drama|Romance', 'genres_Action|Drama|Sci-Fi', 'genres_Action|Drama|Sci-Fi|Thriller', 'genres_Action|Drama|Thriller', 'genres_Action|Drama|War', 'genres_Action|Drama|Western', 'genres_Action|Fantasy|War|IMAX', 'genres_Action|Horror', 'genres_Action|Horror|Sci-Fi', 'genres_Action|Horror|Sci-Fi|Thriller|IMAX', 'genres_Action|Horror|Thriller', 'genres_Action|Mystery|Thriller', 'genres_Action|Romance', 'genres_Action|Romance|Sci-Fi|Thriller', 'genres_Action|Romance|Thriller', 'genres_Action|Romance|Western', 'genres_Action|Sci-Fi', 'genres_Action|Sci-Fi|Thriller', 'genres_Action|Sci-Fi|Thriller|IMAX', 'genres_Action|Thriller', 'genres_Action|Western', 'genres_Adventure|Animation|Children|Comedy', 'genres_Adventure|Animation|Children|Comedy|Crime|Fantasy|Mystery', 'genres_Adventure|Animation|Children|Comedy|Fantasy', 'genres_Adventure|Animation|Children|Comedy|Fantasy|IMAX', 'genres_Adventure|Animation|Children|Comedy|Fantasy|Romance', 'genres_Adventure|Animation|Children|Comedy|Fantasy|Sci-Fi', 'genres_Adventure|Animation|Children|Comedy|Musical', 'genres_Adventure|Animation|Children|Comedy|Musical|Romance', 'genres_Adventure|Animation|Children|Drama', 'genres_Adventure|Animation|Children|Drama|Musical|IMAX', 'genres_Adventure|Animation|Children|Fantasy|IMAX', 'genres_Adventure|Animation|Children|Romance|Sci-Fi', 'genres_Adventure|Animation|Fantasy', 'genres_Adventure|Children', 'genres_Adventure|Children|Comedy|Fantasy|IMAX', 'genres_Adventure|Children|Comedy|Fantasy|Sci-Fi', 'genres_Adventure|Children|Fantasy', 'genres_Adventure|Children|Fantasy|Musical', 'genres_Adventure|Comedy', 'genres_Adventure|Comedy|Crime', 'genres_Adventure|Comedy|Drama', 'genres_Adventure|Comedy|Fantasy', 'genres_Adventure|Comedy|Sci-Fi', 'genres_Adventure|Comedy|Sci-Fi|Western', 'genres_Adventure|Comedy|Western', 'genres_Adventure|Drama', 'genres_Adventure|Drama|Fantasy|IMAX', 'genres_Adventure|Drama|IMAX', 'genres_Adventure|Drama|Sci-Fi', 'genres_Adventure|Drama|Western', 'genres_Adventure|Fantasy', 'genres_Adventure|Fantasy|IMAX', 'genres_Adventure|Fantasy|Mystery|Romance|IMAX', 'genres_Adventure|Fantasy|Thriller|IMAX', 'genres_Animation|Children|Comedy', 'genres_Animation|Children|Comedy|Crime', 'genres_Animation|Children|Comedy|Musical', 'genres_Animation|Children|Comedy|Musical|Romance', 'genres_Animation|Children|Comedy|Romance', 'genres_Animation|Children|Drama', 'genres_Animation|Children|Drama|Fantasy|Musical', 'genres_Animation|Children|Drama|Musical|Romance', 'genres_Animation|Children|Fantasy|Musical', 'genres_Animation|Children|Fantasy|Musical|Romance|IMAX', 'genres_Animation|Comedy|Musical', 'genres_Children|Comedy', 'genres_Children|Comedy|Fantasy', 'genres_Children|Comedy|Fantasy|Musical', 'genres_Children|Drama', 'genres_Children|Drama|Fantasy', 'genres_Children|Drama|Fantasy|Romance', 'genres_Children|Drama|Sci-Fi', 'genres_Comedy', 'genres_Comedy|Crime', 'genres_Comedy|Crime|Drama', 'genres_Comedy|Crime|Drama|Thriller', 'genres_Comedy|Crime|Romance', 'genres_Comedy|Crime|Thriller', 'genres_Comedy|Documentary|Drama', 'genres_Comedy|Drama', 'genres_Comedy|Drama|Fantasy', 'genres_Comedy|Drama|Fantasy|Romance', 'genres_Comedy|Drama|Fantasy|Romance|Thriller', 'genres_Comedy|Drama|Romance', 'genres_Comedy|Drama|Romance|War', 'genres_Comedy|Drama|Sci-Fi', 'genres_Comedy|Fantasy', 'genres_Comedy|Fantasy|Romance', 'genres_Comedy|Fantasy|Romance|Sci-Fi', 'genres_Comedy|Horror', 'genres_Comedy|Horror|Musical|Sci-Fi', 'genres_Comedy|Horror|Mystery|Thriller', 'genres_Comedy|Musical', 'genres_Comedy|Musical|Romance', 'genres_Comedy|Romance', 'genres_Comedy|Sci-Fi', 'genres_Comedy|Thriller', 'genres_Comedy|War', 'genres_Comedy|Western', 'genres_Crime|Drama', 'genres_Crime|Drama|Film-Noir|Mystery|Thriller', 'genres_Crime|Drama|Mystery', 'genres_Crime|Drama|Romance', 'genres_Crime|Drama|Sci-Fi|Thriller', 'genres_Crime|Drama|Thriller', 'genres_Crime|Film-Noir|Mystery|Thriller', 'genres_Crime|Horror', 'genres_Crime|Horror|Mystery|Thriller', 'genres_Crime|Horror|Thriller', 'genres_Crime|Mystery|Thriller', 'genres_Crime|Thriller', 'genres_Documentary', 'genres_Drama', 'genres_Drama|Fantasy|Romance', 'genres_Drama|Fantasy|Thriller', 'genres_Drama|Horror', 'genres_Drama|Horror|Mystery', 'genres_Drama|Horror|Mystery|Thriller', 'genres_Drama|Horror|Thriller', 'genres_Drama|Musical|Romance', 'genres_Drama|Mystery', 'genres_Drama|Mystery|Romance|Thriller', 'genres_Drama|Mystery|Sci-Fi|Thriller', 'genres_Drama|Mystery|Thriller', 'genres_Drama|Romance', 'genres_Drama|Romance|Sci-Fi', 'genres_Drama|Romance|War|Western', 'genres_Drama|Sci-Fi', 'genres_Drama|Sci-Fi|Thriller', 'genres_Drama|Thriller', 'genres_Drama|Thriller|War', 'genres_Drama|War', 'genres_Fantasy|Horror|Mystery|Romance', 'genres_Fantasy|Sci-Fi', 'genres_Horror', 'genres_Horror|Mystery', 'genres_Horror|Sci-Fi', 'genres_Horror|Sci-Fi|Thriller', 'genres_Musical|Romance', 'genres_Mystery|Sci-Fi|Thriller', 'genres_Mystery|Thriller', 'genres_Sci-Fi|IMAX', 'genres_Thriller'\n",
        "])\n",
        "# feature_labels = np.array(['movieId', 'userId', 'rating',\n",
        "#        'title_10 Things I Hate About You (1999)', 'title_12 Angry Men (1957)',\n",
        "#        'title_2001: A Space Odyssey (1968)', 'title_28 Days Later (2002)',\n",
        "#        'title_300 (2007)', 'title_40-Year-Old Virgin, The (2005)',\n",
        "#        'title_A.I. Artificial Intelligence (2001)','title_Abyss, The (1989)',\n",
        "#        'title_Ace Ventura: Pet Detective (1994)',\n",
        "#        'title_Ace Ventura: When Nature Calls (1995)',\n",
        "#        'title_Addams Family Values (1993)', 'title_Air Force One (1997)',\n",
        "#        'title_Airplane! (1980)', 'title_Aladdin (1992)', 'title_Alien (1979)',\n",
        "#        'title_Aliens (1986)','title_Almost Famous (2000)',\n",
        "#        'title_Amadeus (1984)',\n",
        "#        'title_Amelie (Fabuleux destin d\\'AmÃ©lie Poulain, Le) (2001)',\n",
        "#        'title_American Beauty (1999)', 'title_American History X (1998)',\n",
        "#        'title_American Pie (1999)','title_American President, The (1995)',\n",
        "#        'title_American Psycho (2000)',\n",
        "#        'title_Anchorman: The Legend of Ron Burgundy (2004)',\n",
        "#        'title_Animal House (1978)','title_Annie Hall (1977)',\n",
        "#        'title_Apocalypse Now (1979)', 'title_Apollo 13 (1995)',\n",
        "#        'title_Arachnophobia (1990)','title_Armageddon (1998)',\n",
        "#        'title_Army of Darkness (1993)', 'title_As Good as It Gets (1997)',\n",
        "#        'title_Austin Powers in Goldmember (2002)','title_Austin Powers: International Man of Mystery (1997)',\n",
        "#        'title_Austin Powers: The Spy Who Shagged Me (1999)',\n",
        "#        'title_Avatar (2009)','title_Avengers, The (2012)',\n",
        "#        'title_Babe (1995)', 'title_Back to the Future (1985)',\n",
        "#        'title_Back to the Future Part II (1989)',\n",
        "#        'title_Back to the Future Part III (1990)', 'title_Bad Boys (1995)',\n",
        "#        'title_Batman (1989)','title_Batman Begins (2005)',\n",
        "#        'title_Batman Forever (1995)', 'title_Batman Returns (1992)',\n",
        "#        'title_Beautiful Mind, A (2001)', 'title_Beauty and the Beast (1991)',\n",
        "#        'title_Beetlejuice (1988)','title_Being John Malkovich (1999)', 'title_Best in Show (2000)',\n",
        "#        'title_Beverly Hills Cop III (1994)', 'title_Big (1988)','title_Big Fish (2003)',\n",
        "#        'title_Big Lebowski, The (1998)', 'title_Birdcage, The (1996)',\n",
        "#        'title_Black Hawk Down (2001)', 'title_Blade (1998)',\n",
        "#        'title_Blade Runner (1982)', 'title_Blair Witch Project, The (1999)','title_Blazing Saddles (1974)',\n",
        "#        'title_Blood Diamond (2006)', 'title_Blow (2001)',\n",
        "#        'title_Blues Brothers, The (1980)',\n",
        "#        'title_Borat: Cultural Learnings of America for Make Benefit Glorious Nation of Kazakhstan (2006)',\n",
        "#        'title_Bourne Identity, The (2002)',\n",
        "#        'title_Bourne Supremacy, The (2004)',\n",
        "#        'title_Bourne Ultimatum, The (2007)',\n",
        "#        'title_Bowling for Columbine (2002)','title_Braveheart (1995)',\n",
        "#        'title_Brazil (1985)', 'title_Breakfast Club, The (1985)',\n",
        "#        'title_Bridget Jones\\'s Diary (2001)', 'title_Broken Arrow (1996)',\n",
        "#        'title_Bruce Almighty (2003)', 'title_Bug\\'s Life, A (1998)',\n",
        "#        'title_Butch Cassidy and the Sundance Kid (1969)','title_Cable Guy, The (1996)', 'title_Caddyshack (1980)',\n",
        "#        'title_Casablanca (1942)', 'title_Casino (1995)',\n",
        "#        'title_Casino Royale (2006)', 'title_Casper (1995)',\n",
        "#        'title_Cast Away (2000)', 'title_Catch Me If You Can (2002)',\n",
        "#        'title_Charlie and the Chocolate Factory (2005)','title_Charlie\\'s Angels (2000)', 'title_Chasing Amy (1997)',\n",
        "#        'title_Chicken Run (2000)', 'title_Children of Men (2006)',\n",
        "#        'title_Chinatown (1974)', 'title_Christmas Story, A (1983)',\n",
        "#        'title_Chronicles of Narnia: The Lion, the Witch and the Wardrobe, The (2005)',\n",
        "#        'title_Citizen Kane (1941)',\n",
        "#        'title_City Slickers II: The Legend of Curly\\'s Gold (1994)','title_City of God (Cidade de Deus) (2002)',\n",
        "#        'title_Clear and Present Danger (1994)', 'title_Clerks (1994)',\n",
        "#        'title_Client, The (1994)', 'title_Cliffhanger (1993)',\n",
        "#        'title_Clockwork Orange, A (1971)',\n",
        "#        'title_Close Encounters of the Third Kind (1977)','title_Clueless (1995)', 'title_Con Air (1997)',\n",
        "#        'title_Coneheads (1993)', 'title_Congo (1995)', 'title_Contact (1997)',\n",
        "#        'title_Cool Hand Luke (1967)', 'title_Crash (2004)',\n",
        "#        'title_Crimson Tide (1995)','title_Crocodile Dundee (1986)',\n",
        "#        'title_Crouching Tiger, Hidden Dragon (Wo hu cang long) (2000)',\n",
        "#        'title_Crow, The (1994)', 'title_Dances with Wolves (1990)',\n",
        "#        'title_Dark Knight Rises, The (2012)', 'title_Dark Knight, The (2008)',\n",
        "#        'title_Dave (1993)', 'title_Day After Tomorrow, The (2004)',\n",
        "#        'title_Dead Man Walking (1995)',  'title_Dead Poets Society (1989)', 'title_Deadpool (2016)',\n",
        "#        'title_Demolition Man (1993)', 'title_Departed, The (2006)',\n",
        "#        'title_Desperado (1995)', 'title_Die Hard (1988)',\n",
        "#        'title_Die Hard 2 (1990)', 'title_Die Hard: With a Vengeance (1995)', 'title_Disclosure (1994)',\n",
        "#        'title_District 9 (2009)', 'title_Django Unchained (2012)',\n",
        "#        'title_Dogma (1999)', 'title_Donnie Brasco (1997)',\n",
        "#        'title_Donnie Darko (2001)',\n",
        "#        'title_Dr. Strangelove or: How I Learned to Stop Worrying and Love the Bomb (1964)','title_Dragonheart (1996)',\n",
        "#        'title_Dumb & Dumber (Dumb and Dumber) (1994)',\n",
        "#        'title_E.T. the Extra-Terrestrial (1982)', 'title_Ed Wood (1994)',\n",
        "#        'title_Edward Scissorhands (1990)', 'title_Election (1999)',\n",
        "#        'title_Enemy of the State (1998)', 'title_Eraser (1996)'])\n",
        "\n",
        "\n",
        "#load the trained model created with train_model.py\n",
        "model = joblib.load('models//trained_house_classifier_model.pkl')\n",
        "#Create a numpy array based on the model's feature imprtances\n",
        "importance = model.feature_importances_\n",
        "#Sort the feature labels based on the feature imortance rankings from the model\n",
        "feature_indexes_by_importance=importance.argsort()"
      ],
      "execution_count": 0,
      "outputs": []
    },
    {
      "cell_type": "code",
      "metadata": {
        "id": "D4UbZaWA0VLc",
        "colab_type": "code",
        "colab": {}
      },
      "source": [
        "# Print each feature label, from most importance to least important(reverse order)\n",
        "for index in feature_indexes_by_importance:\n",
        "   print(\"{} - {:.2f}\".format(feature_labels[index], (importance[index]*100.0)))"
      ],
      "execution_count": 0,
      "outputs": []
    },
    {
      "cell_type": "code",
      "metadata": {
        "id": "K_0NdlMCSwQ6",
        "colab_type": "code",
        "colab": {}
      },
      "source": [
        "X1 = features_df['rating','movieId',\"userId\",'genres_Crime|Mystery|Thriller','genres_Crime|Drama','genres_Drama|War','genres_Comedy|Crime|Drama|Thriller']"
      ],
      "execution_count": 0,
      "outputs": []
    },
    {
      "cell_type": "code",
      "metadata": {
        "id": "tGDht2Cy4KLc",
        "colab_type": "code",
        "colab": {}
      },
      "source": [
        "x = features_df.columns\n",
        "# using list comprehension to  \n",
        "# elements from list  \n",
        "x1 = list(x)\n",
        "      \n",
        "# printing result \n",
        "print (\"Resultant list : \" + str(x1)) "
      ],
      "execution_count": 0,
      "outputs": []
    },
    {
      "cell_type": "code",
      "metadata": {
        "id": "qIS6Fj13gmnH",
        "colab_type": "code",
        "colab": {}
      },
      "source": [
        "# Import seaborn library\n",
        "import seaborn as sns\n",
        "sns.set_style('whitegrid')\n",
        "sns.set(font_scale=1.5)\n",
        "%matplotlib inline\n",
        "\n",
        "# Display distribution of rating\n",
        "sns.distplot(ratings['rating'].fillna(ratings['rating'].median()))"
      ],
      "execution_count": 0,
      "outputs": []
    },
    {
      "cell_type": "markdown",
      "metadata": {
        "id": "_GT39fgEi2Sy",
        "colab_type": "text"
      },
      "source": [
        "## **Retrieving the number of categories/genres in the dataset**"
      ]
    },
    {
      "cell_type": "code",
      "metadata": {
        "id": "I9bhAnCrgmtx",
        "colab_type": "code",
        "outputId": "3f08f0dd-75da-4f05-c90a-98b4f03e71ba",
        "colab": {
          "base_uri": "https://localhost:8080/",
          "height": 102
        }
      },
      "source": [
        "# Make a census of the genre keywords\n",
        "genre_labels = set()\n",
        "for s in movies['genres'].str.split('|').values:\n",
        "    genre_labels = genre_labels.union(set(s))\n",
        "\n",
        "# Function that counts the number of times each of the genre keywords appear\n",
        "def count_word(dataset, ref_col, census):\n",
        "    keyword_count = dict()\n",
        "    for s in census: \n",
        "        keyword_count[s] = 0\n",
        "    for census_keywords in dataset[ref_col].str.split('|'):        \n",
        "        if type(census_keywords) == float and pd.isnull(census_keywords): \n",
        "            continue        \n",
        "        for s in [s for s in census_keywords if s in census]: \n",
        "            if pd.notnull(s): \n",
        "                keyword_count[s] += 1\n",
        "    #______________________________________________________________________\n",
        "    # convert the dictionary in a list to sort the keywords by frequency\n",
        "    keyword_occurences = []\n",
        "    for k,v in keyword_count.items():\n",
        "        keyword_occurences.append([k,v])\n",
        "    keyword_occurences.sort(key = lambda x:x[1], reverse = True)\n",
        "    return keyword_occurences, keyword_count\n",
        "\n",
        "### Retrieve the top 5 genres of movies ###\n",
        "# Calling this function gives access to a list of genre keywords which are sorted by decreasing frequency\n",
        "keyword_occurences, dum = count_word(movies, 'genres', genre_labels)\n",
        "keyword_occurences[:5]"
      ],
      "execution_count": 416,
      "outputs": [
        {
          "output_type": "execute_result",
          "data": {
            "text/plain": [
              "[['Drama', 4361],\n",
              " ['Comedy', 3756],\n",
              " ['Thriller', 1894],\n",
              " ['Action', 1828],\n",
              " ['Romance', 1596]]"
            ]
          },
          "metadata": {
            "tags": []
          },
          "execution_count": 416
        }
      ]
    },
    {
      "cell_type": "code",
      "metadata": {
        "id": "Ur2TQikNgmzq",
        "colab_type": "code",
        "outputId": "d4bcb153-0b2d-44d0-b0b2-1310751e568c",
        "colab": {
          "base_uri": "https://localhost:8080/",
          "height": 312
        }
      },
      "source": [
        "import wordcloud\n",
        "from wordcloud import WordCloud, STOPWORDS\n",
        "import matplotlib.pyplot as plt\n",
        "\n",
        "# Define the dictionary used to produce the genre wordcloud\n",
        "genres = dict() # Define an empty dictionary\n",
        "trunc_occurences = keyword_occurences[0:18] # Retrieve the first 18 genres from the 'keyword_occurences' variable\n",
        "for s in trunc_occurences:\n",
        "    genres[s[0]] = s[1]\n",
        "\n",
        "# Create the wordcloud\n",
        "genre_wordcloud = WordCloud(width=1000,height=400, background_color='white')\n",
        "genre_wordcloud.generate_from_frequencies(genres)\n",
        "\n",
        "# Plot the wordcloud\n",
        "f, ax = plt.subplots(figsize=(16, 8))\n",
        "plt.imshow(genre_wordcloud, interpolation=\"bilinear\")\n",
        "plt.axis('off')\n",
        "plt.show()"
      ],
      "execution_count": 417,
      "outputs": [
        {
          "output_type": "execute_result",
          "data": {
            "text/plain": [
              "<wordcloud.wordcloud.WordCloud at 0x7fba1e042860>"
            ]
          },
          "metadata": {
            "tags": []
          },
          "execution_count": 417
        },
        {
          "output_type": "execute_result",
          "data": {
            "text/plain": [
              "<matplotlib.image.AxesImage at 0x7fba1e3437b8>"
            ]
          },
          "metadata": {
            "tags": []
          },
          "execution_count": 417
        },
        {
          "output_type": "execute_result",
          "data": {
            "text/plain": [
              "(-0.5, 999.5, 399.5, -0.5)"
            ]
          },
          "metadata": {
            "tags": []
          },
          "execution_count": 417
        },
        {
          "output_type": "display_data",
          "data": {
            "image/png": "[encoded data removed]",
            "text/plain": [
              "<Figure size 1152x576 with 1 Axes>"
            ]
          },
          "metadata": {
            "tags": [],
            "needs_background": "light"
          }
        }
      ]
    },
    {
      "cell_type": "code",
      "metadata": {
        "id": "a1tPQfp7gm5y",
        "colab_type": "code",
        "outputId": "ddbc289a-c6c2-4097-f5b6-5378e91b581f",
        "colab": {
          "base_uri": "https://localhost:8080/",
          "height": 323
        }
      },
      "source": [
        "genres"
      ],
      "execution_count": 418,
      "outputs": [
        {
          "output_type": "execute_result",
          "data": {
            "text/plain": [
              "{'Action': 1828,\n",
              " 'Adventure': 1263,\n",
              " 'Animation': 611,\n",
              " 'Children': 664,\n",
              " 'Comedy': 3756,\n",
              " 'Crime': 1199,\n",
              " 'Documentary': 440,\n",
              " 'Drama': 4361,\n",
              " 'Fantasy': 779,\n",
              " 'Horror': 978,\n",
              " 'IMAX': 158,\n",
              " 'Musical': 334,\n",
              " 'Mystery': 573,\n",
              " 'Romance': 1596,\n",
              " 'Sci-Fi': 980,\n",
              " 'Thriller': 1894,\n",
              " 'War': 382,\n",
              " 'Western': 167}"
            ]
          },
          "metadata": {
            "tags": []
          },
          "execution_count": 418
        }
      ]
    },
    {
      "cell_type": "code",
      "metadata": {
        "id": "boJQW1WijH_D",
        "colab_type": "code",
        "outputId": "cb411739-55b9-4cff-d00d-8cec7bfcb959",
        "colab": {
          "base_uri": "https://localhost:8080/",
          "height": 68
        }
      },
      "source": [
        "# Check and clean NaN values\n",
        "print (\"Number of movies Null values: \", max(movies.isnull().sum()))\n",
        "print (\"Number of ratings Null values: \", max(ratings.isnull().sum()))\n",
        "print(movies.columns)"
      ],
      "execution_count": 419,
      "outputs": [
        {
          "output_type": "stream",
          "text": [
            "Number of movies Null values:  0\n",
            "Number of ratings Null values:  0\n",
            "Index(['movieId', 'title', 'genres'], dtype='object')\n"
          ],
          "name": "stdout"
        }
      ]
    },
    {
      "cell_type": "code",
      "metadata": {
        "id": "opgz6m4qlHWV",
        "colab_type": "code",
        "colab": {}
      },
      "source": [
        "# Split title and release year in separate columns in movies dataframe. Convert year to timestamp.\n",
        "movies1 = movies\n",
        "movies1['year'] = movies1.title.str.extract(\"\\((\\d{4})\\)\", expand=True)\n",
        "movies1.year = pd.to_datetime(movies1.year, format='%Y')\n",
        "movies1.year = movies1.year.dt.year # As there are some NaN years, resulting type will be float (decimals)\n",
        "movies1.title = movies1.title.str[:-7]"
      ],
      "execution_count": 0,
      "outputs": []
    },
    {
      "cell_type": "markdown",
      "metadata": {
        "id": "Fg7SbYJQmWRk",
        "colab_type": "text"
      },
      "source": [
        "### **Movies released per year**"
      ]
    },
    {
      "cell_type": "code",
      "metadata": {
        "id": "--os-sdYopIf",
        "colab_type": "code",
        "outputId": "c11a40e6-b4e4-4319-ed22-4d0418b07855",
        "colab": {
          "base_uri": "https://localhost:8080/",
          "height": 221
        }
      },
      "source": [
        "movies.genres"
      ],
      "execution_count": 421,
      "outputs": [
        {
          "output_type": "execute_result",
          "data": {
            "text/plain": [
              "0       Adventure|Animation|Children|Comedy|Fantasy\n",
              "1                        Adventure|Children|Fantasy\n",
              "2                                    Comedy|Romance\n",
              "3                              Comedy|Drama|Romance\n",
              "4                                            Comedy\n",
              "                           ...                     \n",
              "9737                Action|Animation|Comedy|Fantasy\n",
              "9738                       Animation|Comedy|Fantasy\n",
              "9739                                          Drama\n",
              "9740                               Action|Animation\n",
              "9741                                         Comedy\n",
              "Name: genres, Length: 9742, dtype: object"
            ]
          },
          "metadata": {
            "tags": []
          },
          "execution_count": 421
        }
      ]
    },
    {
      "cell_type": "code",
      "metadata": {
        "id": "xLEjZs7tjlPk",
        "colab_type": "code",
        "outputId": "626216c4-0a1b-4ff7-a019-b8e4e1b4a77d",
        "colab": {
          "base_uri": "https://localhost:8080/",
          "height": 421
        }
      },
      "source": [
        "from timeit import default_timer\n",
        "start = default_timer()\n",
        "\n",
        "st = default_timer()\n",
        "\n",
        "# Let's work with a temp smaller slice 'dftmp' of the original dataframe to reduce runtime (ratings hass +2MM rows)\n",
        "dftmp = movies[['movieId', 'year']].groupby('year')\n",
        "\n",
        "fig, ax1 = plt.subplots(figsize=(10,5))\n",
        "ax1.plot(dftmp.year.first(), dftmp.movieId.nunique(), \"g-o\") # Return first true value of year.\n",
        "ax1.grid(None)\n",
        "ax1.set_ylim(0,)\n",
        "\n",
        "# dftmp = df_ratings_drop_users[['rating', 'timestamp']].groupby('timestamp')\n",
        "# ax2 = ax1.twinx()\n",
        "# ax2.plot(dftmp.timestamp.first(), dftmp.rating.count(), \"r-o\")\n",
        "# ax2.grid(None)\n",
        "# ax2.set_ylim(0,)\n",
        "\n",
        "ax1.set_xlabel('Year')\n",
        "ax1.set_ylabel('Number of movies released'); #ax2.set_ylabel('Number of ratings')\n",
        "plt.title('Movies per year')\n",
        "plt.show()\n",
        "\n",
        "# Housekeeping\n",
        "%reset_selective -f (^dftmp$|^ax1$|^ax2$)\n",
        "\n",
        "runtime = default_timer() - st\n",
        "print (\"Elapsed time(sec): \", round(runtime,2))"
      ],
      "execution_count": 422,
      "outputs": [
        {
          "output_type": "execute_result",
          "data": {
            "text/plain": [
              "[<matplotlib.lines.Line2D at 0x7fba1ebcd908>]"
            ]
          },
          "metadata": {
            "tags": []
          },
          "execution_count": 422
        },
        {
          "output_type": "execute_result",
          "data": {
            "text/plain": [
              "(0.0, 326.5)"
            ]
          },
          "metadata": {
            "tags": []
          },
          "execution_count": 422
        },
        {
          "output_type": "execute_result",
          "data": {
            "text/plain": [
              "Text(0.5, 0, 'Year')"
            ]
          },
          "metadata": {
            "tags": []
          },
          "execution_count": 422
        },
        {
          "output_type": "execute_result",
          "data": {
            "text/plain": [
              "Text(0, 0.5, 'Number of movies released')"
            ]
          },
          "metadata": {
            "tags": []
          },
          "execution_count": 422
        },
        {
          "output_type": "execute_result",
          "data": {
            "text/plain": [
              "Text(0.5, 1.0, 'Movies per year')"
            ]
          },
          "metadata": {
            "tags": []
          },
          "execution_count": 422
        },
        {
          "output_type": "display_data",
          "data": {
            "image/png": "[encoded data removed]",
            "text/plain": [
              "<Figure size 720x360 with 1 Axes>"
            ]
          },
          "metadata": {
            "tags": [],
            "needs_background": "light"
          }
        },
        {
          "output_type": "stream",
          "text": [
            "Elapsed time(sec):  0.21\n"
          ],
          "name": "stdout"
        }
      ]
    },
    {
      "cell_type": "markdown",
      "metadata": {
        "id": "VwI9qkulmPef",
        "colab_type": "text"
      },
      "source": [
        "### **Total Movies Genre**"
      ]
    },
    {
      "cell_type": "code",
      "metadata": {
        "id": "x5-UsLE4shtg",
        "colab_type": "code",
        "colab": {}
      },
      "source": [
        "# Categorize movies genres properly. Working later with +20MM rows of strings proved very resource consuming\n",
        "genres_unique = pd.DataFrame(movies.genres.str.split('|').tolist()).stack().unique()\n",
        "genres_unique = pd.DataFrame(genres_unique, columns=['genre']) # Format into DataFrame to store later\n",
        "movies = movies.join(movies.genres.str.get_dummies().astype(bool))\n",
        "movies.drop('genres', inplace=True, axis=1)"
      ],
      "execution_count": 0,
      "outputs": []
    },
    {
      "cell_type": "code",
      "metadata": {
        "id": "cfbMGRMFmNCf",
        "colab_type": "code",
        "outputId": "ea17d3c5-8ec6-4a26-a51f-b1000a5ce7b5",
        "colab": {
          "base_uri": "https://localhost:8080/",
          "height": 723
        }
      },
      "source": [
        "st = default_timer()\n",
        "\n",
        "plt.figure(figsize=(10,5))\n",
        "dftmp = movies[['movieId', 'year']].groupby('year')\n",
        "df = pd.DataFrame({'All_movies' : dftmp.movieId.nunique().cumsum()})\n",
        "# Plot histogram for each individual genre\n",
        "for genre in genres_unique.genre:\n",
        "    dftmp = movies[movies[genre]][['movieId', 'year']].groupby('year')\n",
        "    df[genre]=dftmp.movieId.nunique().cumsum()\n",
        "df.fillna(method='ffill', inplace=True)\n",
        "df.loc[:,df.columns!='All_movies'].plot.area(stacked=True, figsize=(10,5))\n",
        "# Plot histogram for all movies\n",
        "plt.plot(df['All_movies'], marker='o', markerfacecolor='black')\n",
        "plt.xlabel('Year')\n",
        "plt.ylabel('Cumulative number of movies-genre')\n",
        "plt.title('Total movies-genre') # Many movies have multiple genres, so counthere is higher than number of movies\n",
        "plt.legend(loc=(1.05,0), ncol=2)\n",
        "plt.show()\n",
        "# Plot simple scatter of the number of movies tagged with each genre\n",
        "plt.figure(figsize=(15,5))\n",
        "barlist = df.iloc[-1].plot.bar()\n",
        "barlist.patches[0].set_color('b') # Color 'All_movies' differently, as it's not a genre tag count\n",
        "plt.xticks(rotation='vertical')\n",
        "plt.title('Movies per genre tag')\n",
        "plt.xlabel('Genre')\n",
        "plt.ylabel('Number of movies tagged')\n",
        "plt.show()\n",
        "\n",
        "# Housekeeping\n",
        "%reset_selective -f (^barlist$|^dftmp$|^genre$)\n",
        "\n",
        "runtime = default_timer() - st\n",
        "print (\"Elapsed time(sec): \", round(runtime,2))"
      ],
      "execution_count": 424,
      "outputs": [
        {
          "output_type": "execute_result",
          "data": {
            "text/plain": [
              "<Figure size 720x360 with 0 Axes>"
            ]
          },
          "metadata": {
            "tags": []
          },
          "execution_count": 424
        },
        {
          "output_type": "execute_result",
          "data": {
            "text/plain": [
              "<matplotlib.axes._subplots.AxesSubplot at 0x7fba250d6438>"
            ]
          },
          "metadata": {
            "tags": []
          },
          "execution_count": 424
        },
        {
          "output_type": "execute_result",
          "data": {
            "text/plain": [
              "[<matplotlib.lines.Line2D at 0x7fba1cd67c88>]"
            ]
          },
          "metadata": {
            "tags": []
          },
          "execution_count": 424
        },
        {
          "output_type": "execute_result",
          "data": {
            "text/plain": [
              "Text(0.5, 0, 'Year')"
            ]
          },
          "metadata": {
            "tags": []
          },
          "execution_count": 424
        },
        {
          "output_type": "execute_result",
          "data": {
            "text/plain": [
              "Text(0, 0.5, 'Cumulative number of movies-genre')"
            ]
          },
          "metadata": {
            "tags": []
          },
          "execution_count": 424
        },
        {
          "output_type": "execute_result",
          "data": {
            "text/plain": [
              "Text(0.5, 1.0, 'Total movies-genre')"
            ]
          },
          "metadata": {
            "tags": []
          },
          "execution_count": 424
        },
        {
          "output_type": "execute_result",
          "data": {
            "text/plain": [
              "<matplotlib.legend.Legend at 0x7fba21fe3ba8>"
            ]
          },
          "metadata": {
            "tags": []
          },
          "execution_count": 424
        },
        {
          "output_type": "display_data",
          "data": {
            "text/plain": [
              "<Figure size 720x360 with 0 Axes>"
            ]
          },
          "metadata": {
            "tags": []
          }
        },
        {
          "output_type": "display_data",
          "data": {
            "image/png": "[encoded data removed]",
            "text/plain": [
              "<Figure size 720x360 with 1 Axes>"
            ]
          },
          "metadata": {
            "tags": [],
            "needs_background": "light"
          }
        },
        {
          "output_type": "execute_result",
          "data": {
            "text/plain": [
              "<Figure size 1080x360 with 0 Axes>"
            ]
          },
          "metadata": {
            "tags": []
          },
          "execution_count": 424
        },
        {
          "output_type": "execute_result",
          "data": {
            "text/plain": [
              "(array([ 0,  1,  2,  3,  4,  5,  6,  7,  8,  9, 10, 11, 12, 13, 14, 15, 16,\n",
              "        17, 18, 19, 20]), <a list of 21 Text major ticklabel objects>)"
            ]
          },
          "metadata": {
            "tags": []
          },
          "execution_count": 424
        },
        {
          "output_type": "execute_result",
          "data": {
            "text/plain": [
              "Text(0.5, 1.0, 'Movies per genre tag')"
            ]
          },
          "metadata": {
            "tags": []
          },
          "execution_count": 424
        },
        {
          "output_type": "execute_result",
          "data": {
            "text/plain": [
              "Text(0.5, 0, 'Genre')"
            ]
          },
          "metadata": {
            "tags": []
          },
          "execution_count": 424
        },
        {
          "output_type": "execute_result",
          "data": {
            "text/plain": [
              "Text(0, 0.5, 'Number of movies tagged')"
            ]
          },
          "metadata": {
            "tags": []
          },
          "execution_count": 424
        },
        {
          "output_type": "display_data",
          "data": {
            "image/png": "[encoded data removed]",
            "text/plain": [
              "<Figure size 1080x360 with 1 Axes>"
            ]
          },
          "metadata": {
            "tags": [],
            "needs_background": "light"
          }
        },
        {
          "output_type": "stream",
          "text": [
            "Elapsed time(sec):  0.73\n"
          ],
          "name": "stdout"
        }
      ]
    },
    {
      "cell_type": "markdown",
      "metadata": {
        "id": "mULOI3B8z-iD",
        "colab_type": "text"
      },
      "source": [
        "**PLOT#8**: Average ratings per user.\n",
        "\n",
        "**INSIGHT#8**: Users have a positive bias in general, with roughly 95% of their average ratings above the mid-point of 2.5. This is to be expected, and could have many explanations: users actually watch the better movies due to available ratings (and this should get better over time, as the rating system expands); users don't bother that much to rate bad movies as they do with the good ones (i.e. we don't want other to know we watched such a piece of s***), etc."
      ]
    },
    {
      "cell_type": "code",
      "metadata": {
        "id": "vlL765Ng0pVQ",
        "colab_type": "code",
        "outputId": "8c8e85f9-cbb6-408c-d690-5d2089eee191",
        "colab": {
          "base_uri": "https://localhost:8080/",
          "height": 1000
        }
      },
      "source": [
        "dftmp = ratings[['userId', 'movieId']].groupby('userId').count()\n",
        "dftmp.columns=['num_ratings']\n",
        "\n",
        "st = default_timer()\n",
        "\n",
        "# Scatter plot of all users and individual ratings count.\n",
        "dftmp = ratings[['userId', 'movieId']].groupby('movieId').count()\n",
        "dftmp.columns=['num_ratings']\n",
        "plt.figure(figsize=(15,5))\n",
        "plt.scatter(dftmp.index, dftmp.num_ratings, edgecolor='black')\n",
        "plt.xlim(0,dftmp.index.max())\n",
        "plt.ylim(0,)\n",
        "plt.title('Ratings per movie')\n",
        "plt.xlabel('movieId')\n",
        "plt.ylabel('Number of ratings received')\n",
        "plt.show()\n",
        "\n",
        "# Histogram of ratings counts.\n",
        "plt.figure(figsize=(15,5))\n",
        "plt.hist(dftmp.num_ratings, bins=100, edgecolor='black', log=True)\n",
        "plt.title('Ratings per movie')\n",
        "plt.xlabel('Number of ratings received')\n",
        "plt.ylabel('Number of movieIds')\n",
        "plt.xlim(0,)\n",
        "plt.show()\n",
        "\n",
        "\n",
        "# Let's check those movies with +40k reviews, those should be pretty popular movies!\n",
        "print(movies.set_index('movieId').loc[dftmp.index[dftmp.num_ratings>40000]]['title'])\n",
        "# Let's check the average rating too, those should be pretty good movies!\n",
        "ratings.set_index('movieId').loc[dftmp.index[dftmp.num_ratings>200]].groupby('movieId').mean().rating.plot(style='o')\n",
        "plt.ylabel('Average rating')\n",
        "plt.title('Most popular movies rating')\n",
        "plt.show()\n",
        "\n",
        "# Which is the best most popular movie ever??\n",
        "tmp = ratings.set_index('movieId').loc[dftmp.index[dftmp.num_ratings>200]].groupby('movieId').mean()\n",
        "best = movies.set_index('movieId').loc[tmp.rating.idxmax].title\n",
        "print ('Best most popular movie ever is...%s' %best)"
      ],
      "execution_count": 425,
      "outputs": [
        {
          "output_type": "execute_result",
          "data": {
            "text/plain": [
              "<Figure size 1080x360 with 0 Axes>"
            ]
          },
          "metadata": {
            "tags": []
          },
          "execution_count": 425
        },
        {
          "output_type": "execute_result",
          "data": {
            "text/plain": [
              "<matplotlib.collections.PathCollection at 0x7fba218ac4e0>"
            ]
          },
          "metadata": {
            "tags": []
          },
          "execution_count": 425
        },
        {
          "output_type": "execute_result",
          "data": {
            "text/plain": [
              "(0.0, 193609.0)"
            ]
          },
          "metadata": {
            "tags": []
          },
          "execution_count": 425
        },
        {
          "output_type": "execute_result",
          "data": {
            "text/plain": [
              "(0.0, 345.4)"
            ]
          },
          "metadata": {
            "tags": []
          },
          "execution_count": 425
        },
        {
          "output_type": "execute_result",
          "data": {
            "text/plain": [
              "Text(0.5, 1.0, 'Ratings per movie')"
            ]
          },
          "metadata": {
            "tags": []
          },
          "execution_count": 425
        },
        {
          "output_type": "execute_result",
          "data": {
            "text/plain": [
              "Text(0.5, 0, 'movieId')"
            ]
          },
          "metadata": {
            "tags": []
          },
          "execution_count": 425
        },
        {
          "output_type": "execute_result",
          "data": {
            "text/plain": [
              "Text(0, 0.5, 'Number of ratings received')"
            ]
          },
          "metadata": {
            "tags": []
          },
          "execution_count": 425
        },
        {
          "output_type": "display_data",
          "data": {
            "image/png": "[encoded data removed]",
            "text/plain": [
              "<Figure size 1080x360 with 1 Axes>"
            ]
          },
          "metadata": {
            "tags": [],
            "needs_background": "light"
          }
        },
        {
          "output_type": "execute_result",
          "data": {
            "text/plain": [
              "<Figure size 1080x360 with 0 Axes>"
            ]
          },
          "metadata": {
            "tags": []
          },
          "execution_count": 425
        },
        {
          "output_type": "execute_result",
          "data": {
            "text/plain": [
              "(array([6.074e+03, 9.790e+02, 5.500e+02, 4.710e+02, 2.310e+02, 1.840e+02,\n",
              "        1.400e+02, 1.620e+02, 7.300e+01, 8.200e+01, 9.000e+01, 7.200e+01,\n",
              "        6.700e+01, 5.800e+01, 5.500e+01, 3.300e+01, 3.000e+01, 4.500e+01,\n",
              "        2.600e+01, 2.300e+01, 2.000e+01, 1.900e+01, 1.700e+01, 1.300e+01,\n",
              "        1.300e+01, 1.500e+01, 1.100e+01, 1.500e+01, 1.000e+01, 8.000e+00,\n",
              "        1.100e+01, 9.000e+00, 1.200e+01, 7.000e+00, 4.000e+00, 5.000e+00,\n",
              "        8.000e+00, 5.000e+00, 3.000e+00, 8.000e+00, 5.000e+00, 2.000e+00,\n",
              "        7.000e+00, 5.000e+00, 2.000e+00, 2.000e+00, 0.000e+00, 1.000e+00,\n",
              "        2.000e+00, 2.000e+00, 1.000e+00, 4.000e+00, 1.000e+00, 2.000e+00,\n",
              "        2.000e+00, 1.000e+00, 1.000e+00, 4.000e+00, 1.000e+00, 1.000e+00,\n",
              "        3.000e+00, 4.000e+00, 0.000e+00, 0.000e+00, 1.000e+00, 1.000e+00,\n",
              "        2.000e+00, 1.000e+00, 0.000e+00, 0.000e+00, 0.000e+00, 1.000e+00,\n",
              "        1.000e+00, 0.000e+00, 0.000e+00, 0.000e+00, 1.000e+00, 0.000e+00,\n",
              "        0.000e+00, 0.000e+00, 0.000e+00, 0.000e+00, 0.000e+00, 0.000e+00,\n",
              "        2.000e+00, 0.000e+00, 0.000e+00, 0.000e+00, 0.000e+00, 0.000e+00,\n",
              "        0.000e+00, 0.000e+00, 0.000e+00, 1.000e+00, 0.000e+00, 0.000e+00,\n",
              "        1.000e+00, 0.000e+00, 0.000e+00, 1.000e+00]),\n",
              " array([  1.  ,   4.28,   7.56,  10.84,  14.12,  17.4 ,  20.68,  23.96,\n",
              "         27.24,  30.52,  33.8 ,  37.08,  40.36,  43.64,  46.92,  50.2 ,\n",
              "         53.48,  56.76,  60.04,  63.32,  66.6 ,  69.88,  73.16,  76.44,\n",
              "         79.72,  83.  ,  86.28,  89.56,  92.84,  96.12,  99.4 , 102.68,\n",
              "        105.96, 109.24, 112.52, 115.8 , 119.08, 122.36, 125.64, 128.92,\n",
              "        132.2 , 135.48, 138.76, 142.04, 145.32, 148.6 , 151.88, 155.16,\n",
              "        158.44, 161.72, 165.  , 168.28, 171.56, 174.84, 178.12, 181.4 ,\n",
              "        184.68, 187.96, 191.24, 194.52, 197.8 , 201.08, 204.36, 207.64,\n",
              "        210.92, 214.2 , 217.48, 220.76, 224.04, 227.32, 230.6 , 233.88,\n",
              "        237.16, 240.44, 243.72, 247.  , 250.28, 253.56, 256.84, 260.12,\n",
              "        263.4 , 266.68, 269.96, 273.24, 276.52, 279.8 , 283.08, 286.36,\n",
              "        289.64, 292.92, 296.2 , 299.48, 302.76, 306.04, 309.32, 312.6 ,\n",
              "        315.88, 319.16, 322.44, 325.72, 329.  ]),\n",
              " <a list of 100 Patch objects>)"
            ]
          },
          "metadata": {
            "tags": []
          },
          "execution_count": 425
        },
        {
          "output_type": "execute_result",
          "data": {
            "text/plain": [
              "Text(0.5, 1.0, 'Ratings per movie')"
            ]
          },
          "metadata": {
            "tags": []
          },
          "execution_count": 425
        },
        {
          "output_type": "execute_result",
          "data": {
            "text/plain": [
              "Text(0.5, 0, 'Number of ratings received')"
            ]
          },
          "metadata": {
            "tags": []
          },
          "execution_count": 425
        },
        {
          "output_type": "execute_result",
          "data": {
            "text/plain": [
              "Text(0, 0.5, 'Number of movieIds')"
            ]
          },
          "metadata": {
            "tags": []
          },
          "execution_count": 425
        },
        {
          "output_type": "execute_result",
          "data": {
            "text/plain": [
              "(0.0, 345.40000000000003)"
            ]
          },
          "metadata": {
            "tags": []
          },
          "execution_count": 425
        },
        {
          "output_type": "display_data",
          "data": {
            "image/png": "[encoded data removed]",
            "text/plain": [
              "<Figure size 1080x360 with 1 Axes>"
            ]
          },
          "metadata": {
            "tags": [],
            "needs_background": "light"
          }
        },
        {
          "output_type": "stream",
          "text": [
            "Series([], Name: title, dtype: object)\n"
          ],
          "name": "stdout"
        },
        {
          "output_type": "execute_result",
          "data": {
            "text/plain": [
              "<matplotlib.axes._subplots.AxesSubplot at 0x7fba23146f60>"
            ]
          },
          "metadata": {
            "tags": []
          },
          "execution_count": 425
        },
        {
          "output_type": "execute_result",
          "data": {
            "text/plain": [
              "Text(0, 0.5, 'Average rating')"
            ]
          },
          "metadata": {
            "tags": []
          },
          "execution_count": 425
        },
        {
          "output_type": "execute_result",
          "data": {
            "text/plain": [
              "Text(0.5, 1.0, 'Most popular movies rating')"
            ]
          },
          "metadata": {
            "tags": []
          },
          "execution_count": 425
        },
        {
          "output_type": "display_data",
          "data": {
            "image/png": "[encoded data removed]",
            "text/plain": [
              "<Figure size 432x288 with 1 Axes>"
            ]
          },
          "metadata": {
            "tags": [],
            "needs_background": "light"
          }
        },
        {
          "output_type": "stream",
          "text": [
            "Best most popular movie ever is...Shawshank Redemption, The\n"
          ],
          "name": "stdout"
        }
      ]
    },
    {
      "cell_type": "markdown",
      "metadata": {
        "id": "gyISnU-GCGpP",
        "colab_type": "text"
      },
      "source": [
        "# **Content-Based Recommendation Model** (Input: Movie Name in dataset)"
      ]
    },
    {
      "cell_type": "markdown",
      "metadata": {
        "id": "_EH-X3fcCNbY",
        "colab_type": "text"
      },
      "source": [
        "## **Implementation (Successful till the end of this section)**\n",
        "With all that theory in mind, I am going to build a Content-Based Recommendation Engine that computes similarity between movies based on movie genres. It will suggest movies that are most similar to a particular movie based on its genre. To do so, I will make use of the file movies.csv.\n",
        "\n"
      ]
    },
    {
      "cell_type": "code",
      "metadata": {
        "id": "E6izStHSxnEZ",
        "colab_type": "code",
        "outputId": "081d0e86-b542-495e-a4dc-48e3da15a013",
        "colab": {
          "base_uri": "https://localhost:8080/",
          "height": 51
        }
      },
      "source": [
        "cd 'data'"
      ],
      "execution_count": 426,
      "outputs": [
        {
          "output_type": "stream",
          "text": [
            "[Errno 2] No such file or directory: 'data'\n",
            "/content\n"
          ],
          "name": "stdout"
        }
      ]
    },
    {
      "cell_type": "code",
      "metadata": {
        "id": "FRhJiR39gm_g",
        "colab_type": "code",
        "colab": {}
      },
      "source": [
        "# Reading movies file\n",
        "movies = pd.read_csv('movies.csv', sep=',', encoding='latin-1', usecols=['movieId', 'title', 'genres'])"
      ],
      "execution_count": 0,
      "outputs": []
    },
    {
      "cell_type": "markdown",
      "metadata": {
        "id": "ShuCVvu6Ca5n",
        "colab_type": "text"
      },
      "source": [
        "I do not have a quantitative metric to judge our machine's performance so this will have to be done qualitatively. In order to do so, I'll use TfidfVectorizer function from scikit-learn, which transforms text to feature vectors that can be used as input to estimator."
      ]
    },
    {
      "cell_type": "code",
      "metadata": {
        "id": "5161FffrCTpQ",
        "colab_type": "code",
        "outputId": "f658e8f5-5a3d-4220-d7e5-82639a2fd114",
        "colab": {
          "base_uri": "https://localhost:8080/",
          "height": 34
        }
      },
      "source": [
        "from sklearn.feature_extraction.text import TfidfVectorizer\n",
        "tf = TfidfVectorizer(analyzer='word',ngram_range=(1, 2),min_df=0, stop_words='english')\n",
        "tfidf_matrix = tf.fit_transform(movies['genres'])\n",
        "tfidf_matrix.shape"
      ],
      "execution_count": 428,
      "outputs": [
        {
          "output_type": "execute_result",
          "data": {
            "text/plain": [
              "(9742, 177)"
            ]
          },
          "metadata": {
            "tags": []
          },
          "execution_count": 428
        }
      ]
    },
    {
      "cell_type": "markdown",
      "metadata": {
        "id": "11anO5q4CpUH",
        "colab_type": "text"
      },
      "source": [
        "I will be using the Cosine Similarity to calculate a numeric quantity that denotes the similarity between two movies. Since we have used the TF-IDF Vectorizer, calculating the Dot Product will directly give us the Cosine Similarity Score. Therefore, we will use sklearn's linear_kernel instead of cosine_similarities since it is much faster."
      ]
    },
    {
      "cell_type": "code",
      "metadata": {
        "id": "2YWxbMuYCTs5",
        "colab_type": "code",
        "outputId": "c489f4ed-3337-4981-ae59-dd62aa8550f1",
        "colab": {
          "base_uri": "https://localhost:8080/",
          "height": 85
        }
      },
      "source": [
        "from sklearn.metrics.pairwise import linear_kernel\n",
        "cosine_sim = linear_kernel(tfidf_matrix, tfidf_matrix)\n",
        "cosine_sim[:4, :4]"
      ],
      "execution_count": 429,
      "outputs": [
        {
          "output_type": "execute_result",
          "data": {
            "text/plain": [
              "array([[1.        , 0.31379419, 0.0611029 , 0.05271111],\n",
              "       [0.31379419, 1.        , 0.        , 0.        ],\n",
              "       [0.0611029 , 0.        , 1.        , 0.35172407],\n",
              "       [0.05271111, 0.        , 0.35172407, 1.        ]])"
            ]
          },
          "metadata": {
            "tags": []
          },
          "execution_count": 429
        }
      ]
    },
    {
      "cell_type": "markdown",
      "metadata": {
        "id": "43uSbVjnCx9O",
        "colab_type": "text"
      },
      "source": [
        "\n",
        "I now have a pairwise cosine similarity matrix for all the movies in the dataset. The next step is to write a function that returns the 20 most similar movies based on the cosine similarity score."
      ]
    },
    {
      "cell_type": "code",
      "metadata": {
        "id": "zmEdG33cCT40",
        "colab_type": "code",
        "colab": {}
      },
      "source": [
        "# Build a 1-dimensional array with movie titles\n",
        "titles = movies['title']\n",
        "indices = pd.Series(movies.index, index=movies['title'])\n",
        "\n",
        "# Function that get movie recommendations based on the cosine similarity score of movie genres\n",
        "def genre_recommendations(title):\n",
        "    idx = indices[title]\n",
        "    sim_scores = list(enumerate(cosine_sim[idx]))\n",
        "    sim_scores = sorted(sim_scores, key=lambda x: x[1], reverse=True)\n",
        "    sim_scores = sim_scores[1:21]\n",
        "    movie_indices = [i[0] for i in sim_scores]\n",
        "    return titles.iloc[movie_indices]"
      ],
      "execution_count": 0,
      "outputs": []
    },
    {
      "cell_type": "markdown",
      "metadata": {
        "id": "DXOQeSBoC5v9",
        "colab_type": "text"
      },
      "source": [
        "\n",
        "Let's try and get the top recommendations for a few movies and see how good the recommendations are."
      ]
    },
    {
      "cell_type": "code",
      "metadata": {
        "id": "6dRvVAMJCT8B",
        "colab_type": "code",
        "outputId": "398acbac-97a8-40ae-af18-7a3a934be3c2",
        "colab": {
          "base_uri": "https://localhost:8080/",
          "height": 374
        }
      },
      "source": [
        "genre_recommendations('Good Will Hunting (1997)').head(20)"
      ],
      "execution_count": 431,
      "outputs": [
        {
          "output_type": "execute_result",
          "data": {
            "text/plain": [
              "24                            Leaving Las Vegas (1995)\n",
              "27                                   Persuasion (1995)\n",
              "42                How to Make an American Quilt (1995)\n",
              "45                        When Night Is Falling (1995)\n",
              "66                                 Bed of Roses (1996)\n",
              "75     Once Upon a Time... When We Were Colored (1995)\n",
              "76                           Angels and Insects (1995)\n",
              "93               Bridges of Madison County, The (1995)\n",
              "115                       Up Close and Personal (1996)\n",
              "151                                    Mad Love (1995)\n",
              "162                         Scarlet Letter, The (1995)\n",
              "170                               Total Eclipse (1995)\n",
              "175                       Walk in the Clouds, A (1995)\n",
              "183                              Before Sunrise (1995)\n",
              "189                           Circle of Friends (1995)\n",
              "213                            Immortal Beloved (1994)\n",
              "232                                 Love Affair (1994)\n",
              "261                  Picture Bride (Bijo photo) (1994)\n",
              "262             Queen Margot (Reine Margot, La) (1994)\n",
              "338                    When a Man Loves a Woman (1994)\n",
              "Name: title, dtype: object"
            ]
          },
          "metadata": {
            "tags": []
          },
          "execution_count": 431
        }
      ]
    },
    {
      "cell_type": "code",
      "metadata": {
        "id": "xlOPnrJGCUHB",
        "colab_type": "code",
        "outputId": "a0d1d28b-9895-4737-a7b1-8a49f39b09c8",
        "colab": {
          "base_uri": "https://localhost:8080/",
          "height": 374
        }
      },
      "source": [
        "genre_recommendations('Toy Story (1995)').head(20)"
      ],
      "execution_count": 432,
      "outputs": [
        {
          "output_type": "execute_result",
          "data": {
            "text/plain": [
              "1706                                          Antz (1998)\n",
              "2355                                   Toy Story 2 (1999)\n",
              "2809       Adventures of Rocky and Bullwinkle, The (2000)\n",
              "3000                     Emperor's New Groove, The (2000)\n",
              "3568                                Monsters, Inc. (2001)\n",
              "6194                                     Wild, The (2006)\n",
              "6486                               Shrek the Third (2007)\n",
              "6948                       Tale of Despereaux, The (2008)\n",
              "7760    Asterix and the Vikings (AstÃ©rix et les Vikin...\n",
              "8219                                         Turbo (2013)\n",
              "8927                             The Good Dinosaur (2015)\n",
              "9430                                         Moana (2016)\n",
              "5490    Twelve Tasks of Asterix, The (Les douze travau...\n",
              "6448           TMNT (Teenage Mutant Ninja Turtles) (2007)\n",
              "8357                                The Lego Movie (2014)\n",
              "3194                                         Shrek (2001)\n",
              "7530                               Gnomeo & Juliet (2011)\n",
              "7805        Puss in Boots (Nagagutsu o haita neko) (1969)\n",
              "7184                                 Partly Cloudy (2009)\n",
              "7917                                        Presto (2008)\n",
              "Name: title, dtype: object"
            ]
          },
          "metadata": {
            "tags": []
          },
          "execution_count": 432
        }
      ]
    },
    {
      "cell_type": "markdown",
      "metadata": {
        "id": "9iBPShaPDMDt",
        "colab_type": "text"
      },
      "source": [
        "As you can see, I have quite a decent list of recommendation for **Good Will Hunting (Drama)**, **Toy Story (Animation, Children's**, Comedy), and **Saving Private Ryan (Action, Thriller, War)**.\n",
        "\n",
        "Overall, here are the pros of using content-based recommendation:\n",
        "\n",
        "* No need for data on other users, thus no cold-start or sparsity problems.\n",
        "* Can recommend to users with unique tastes.\n",
        "* Can recommend new & unpopular items.\n",
        "* Can provide explanations for recommended items by listing content-features that caused an item to be recommended (in this case, movie genres)\n",
        "\n",
        "However, there are some cons of using this approach:\n",
        "\n",
        "* Finding the appropriate features is hard.\n",
        "* Does not recommend items outside a user's content profile.\n",
        "* Unable to exploit quality judgments of other users."
      ]
    },
    {
      "cell_type": "markdown",
      "metadata": {
        "id": "xGqFU__bDhh7",
        "colab_type": "text"
      },
      "source": [
        "# **Collaborative Filtering Recommendation Model**\n",
        "The content based engine suffers from some severe limitations. It is only capable of suggesting movies which are close to a certain movie. That is, it is not capable of capturing tastes and providing recommendations across genres.\n",
        "\n",
        "Also, the engine that we built is not really personal in that it doesn't capture the personal tastes and biases of a user. Anyone querying our engine for recommendations based on a movie will receive the same recommendations for that movie, regardless of who she/he is.\n",
        "\n",
        "Therefore, in this section, I will use Memory-Based Collaborative Filtering to make recommendations to movie users. The technique is based on the idea that users similar to a me can be used to predict how much I will like a particular product or service those users have used/experienced but I have not.\n",
        "\n",
        "## **Theory**\n",
        "\n",
        "There are 2 main types of memory-based collaborative filtering algorithms:\n",
        "\n",
        "1. **User-User Collaborative Filtering**: Here we find look alike users based on similarity and recommend movies which first user’s look-alike has chosen in past. This algorithm is very effective but takes a lot of time and resources. It requires to compute every user pair information which takes time. Therefore, for big base platforms, this algorithm is hard to implement without a very strong parallelizable system.\n",
        "\n",
        "2. **Item-Item Collaborative Filtering**: It is quite similar to previous algorithm, but instead of finding user's look-alike, we try finding movie's look-alike. Once we have movie's look-alike matrix, we can easily recommend alike movies to user who have rated any movie from the dataset. This algorithm is far less resource consuming than user-user collaborative filtering. Hence, for a new user, the algorithm takes far lesser time than user-user collaborate as we don’t need all similarity scores between users. And with fixed number of movies, movie-movie look alike matrix is fixed over time."
      ]
    },
    {
      "cell_type": "markdown",
      "metadata": {
        "id": "vbIt4tRdD3Ff",
        "colab_type": "text"
      },
      "source": [
        "In either scenario, we builds a similarity matrix. For user-user collaborative filtering, the user-similarity matrix will consist of some distance metrics that measure the similarity between any two pairs of users. Likewise, the item-similarity matrix will measure the similarity between any two pairs of items.\n",
        "\n",
        "There are 3 distance similarity metrics that are usually used in collaborative filtering:\n",
        "\n",
        "1. **Jaccard Similarity:**\n",
        "\n",
        "* Similarity is based on the number of users which have rated item A and B divided by the number of users who have rated either A or B\n",
        "* It is typically used where we don’t have a numeric rating but just a boolean value like a product being bought or an add being clicked\n",
        "\n",
        "2. Cosine Similarity: (as in the Content-Based system)\n",
        "\n",
        "* Similarity is the cosine of the angle between the 2 vectors of the item vectors of A and B\n",
        "* Closer the vectors, smaller will be the angle and larger the cosine\n",
        "\n",
        "3. Pearson Similarity:\n",
        "\n",
        "* Similarity is the pearson coefficient between the two vectors.\n",
        "\n",
        "For the purpose of diversity, I will use Pearson Similarity in this implementation.\n",
        "\n",
        "## **Implementation**\n",
        "\n",
        "I will use the file ratings.csv first as it contains User ID, Movie IDs and Ratings. These three elements are all I need for determining the similarity of the users based on their ratings for a particular movie.\n",
        "\n",
        "First I will be doing some quick Data Pre-Processing:"
      ]
    },
    {
      "cell_type": "markdown",
      "metadata": {
        "id": "Lg_hawNRFPDK",
        "colab_type": "text"
      },
      "source": [
        "\n",
        "Due to the limited computing power in my laptop, I will build the recommender system using only a subset of the ratings. In particular, I will take a random sample of 20,000 ratings (20%) from the 1M ratings."
      ]
    },
    {
      "cell_type": "markdown",
      "metadata": {
        "id": "dnsswFAWFXFf",
        "colab_type": "text"
      },
      "source": [
        "Now I use the scikit-learn library to split the dataset into testing and training. Cross_validation.train_test_split shuffles and splits the data into two datasets according to the percentage of test examples, which in this case is 0.2."
      ]
    },
    {
      "cell_type": "markdown",
      "metadata": {
        "id": "i9OeplJ6GLMr",
        "colab_type": "text"
      },
      "source": [
        "\n",
        "Now I need to create a user-item matrix. Since I have splitted the data into testing and training, I need to create two matrices. The training matrix contains 80% of the ratings and the testing matrix contains 20% of the ratings."
      ]
    },
    {
      "cell_type": "markdown",
      "metadata": {
        "id": "MvrJYa_oISSC",
        "colab_type": "text"
      },
      "source": [
        "\n",
        "Now I use the pairwise_distances function from sklearn to calculate the Pearson Correlation Coefficient. This method provides a safe way to take a distance matrix as input, while preserving compatibility with many other algorithms that take a vector array."
      ]
    },
    {
      "cell_type": "markdown",
      "metadata": {
        "id": "JgbvKIYKIfwQ",
        "colab_type": "text"
      },
      "source": [
        "With the similarity matrix in hand, I can now predict the ratings that were not included with the data. Using these predictions, I can then compare them with the test data to attempt to validate the quality of our recommender model.\n",
        "\n",
        "For the user-user CF case, I will look at the similarity between 2 users (A and B, for example) as weights that are multiplied by the ratings of a similar user B (corrected for the average rating of that user). I also need to normalize it so that the ratings stay between 1 and 5 and, as a final step, sum the average ratings for the user that I am trying to predict. The idea here is that some users may tend always to give high or low ratings to all movies. The relative difference in the ratings that these users give is more important than the absolute values."
      ]
    },
    {
      "cell_type": "code",
      "metadata": {
        "id": "Y1qciW5-CUCn",
        "colab_type": "code",
        "colab": {}
      },
      "source": [
        "# Function to predict ratings\n",
        "def predict(ratings, similarity, type='user'):\n",
        "    if type == 'user':\n",
        "        mean_user_rating = ratings.mean(axis=1)\n",
        "        # Use np.newaxis so that mean_user_rating has same format as ratings\n",
        "        ratings_diff = (ratings - mean_user_rating[:, np.newaxis])\n",
        "        pred = mean_user_rating[:, np.newaxis] + similarity.dot(ratings_diff) / np.array([np.abs(similarity).sum(axis=1)]).T\n",
        "    elif type == 'item':\n",
        "        pred = ratings.dot(similarity) / np.array([np.abs(similarity).sum(axis=1)])\n",
        "    return pred"
      ],
      "execution_count": 0,
      "outputs": []
    },
    {
      "cell_type": "markdown",
      "metadata": {
        "id": "14q7Hj-nIm5A",
        "colab_type": "text"
      },
      "source": [
        "Evaluation\n",
        "There are many evaluation metrics but one of the most popular metric used to evaluate accuracy of predicted ratings is Root Mean Squared Error (RMSE). I will use the mean_square_error (MSE) function from sklearn, where the RMSE is just the square root of MSE.\n",
        "\n",
        "$$\\mathit{RMSE} =\\sqrt{\\frac{1}{N} \\sum (x_i -\\hat{x_i})^2}$$\n",
        "I'll use the scikit-learn's mean squared error function as my validation metric. Comparing user- and item-based collaborative filtering, it looks like user-based collaborative filtering gives a better result."
      ]
    },
    {
      "cell_type": "markdown",
      "metadata": {
        "id": "n5ew3grNK9nd",
        "colab_type": "text"
      },
      "source": [
        "# **3. Train KNN model for item-based collaborative filtering** (Input movie in dataset, output movies with distance)\n",
        "\n",
        ">Reshaping the Data\n",
        "\n",
        ">Fitting the Model\n",
        "\n",
        "### **1. Reshaping the Data**\n",
        "\n",
        "For** K-Nearest Neighbors**, we want the data to be in a (movie, user) array, where each row is a movie and each column is a different user. To reshape the dataframe, **we'll pivot the dataframe** to the wide format with ***movies as rows*** and ***users as columns***. Then we'll fill the missing observations with 0s since we're going to be performing linear algebra operations (calculating distances between vectors). Finally, we transform the values of the dataframe into a **scipy sparse matrix** for **more efficient calculations**."
      ]
    },
    {
      "cell_type": "code",
      "metadata": {
        "id": "EYCdLDbBLovR",
        "colab_type": "code",
        "colab": {}
      },
      "source": [
        "from scipy.sparse import csr_matrix\n",
        "# pivot and create movie-user matrix\n",
        "movie_user_mat = df_ratings_drop_users.pivot(index='movieId', columns='userId', values='rating').fillna(0)\n",
        "# create mapper from movie title to index\n",
        "movie_to_idx = {\n",
        "    movie: i for i, movie in \n",
        "    enumerate(list(movies.set_index('movieId').loc[movie_user_mat.index].title))\n",
        "}\n",
        "# transform matrix to scipy sparse matrix\n",
        "movie_user_mat_sparse = csr_matrix(movie_user_mat.values)"
      ],
      "execution_count": 0,
      "outputs": []
    },
    {
      "cell_type": "code",
      "metadata": {
        "id": "07kNxxIz2rZB",
        "colab_type": "code",
        "colab": {
          "base_uri": "https://localhost:8080/",
          "height": 1000
        },
        "outputId": "cdaddf9b-8d7b-4021-feb8-62ad230a9ae9"
      },
      "source": [
        "print(movie_user_mat.head())\n",
        "print(movie_user_mat_sparse)"
      ],
      "execution_count": 435,
      "outputs": [
        {
          "output_type": "stream",
          "text": [
            "userId   1    4    6    7    15   16   17   ...  603  604  605  606  607  608  610\n",
            "movieId                                     ...                                   \n",
            "1        4.0  0.0  0.0  4.5  2.5  0.0  4.5  ...  4.0  3.0  4.0  2.5  4.0  2.5  5.0\n",
            "2        0.0  0.0  4.0  0.0  0.0  0.0  0.0  ...  0.0  5.0  3.5  0.0  0.0  2.0  0.0\n",
            "3        4.0  0.0  5.0  0.0  0.0  0.0  0.0  ...  0.0  0.0  0.0  0.0  0.0  2.0  0.0\n",
            "6        4.0  0.0  4.0  0.0  0.0  0.0  0.0  ...  4.0  3.0  0.0  0.0  0.0  0.0  5.0\n",
            "7        0.0  0.0  4.0  0.0  0.0  0.0  0.0  ...  0.0  0.0  0.0  2.5  0.0  0.0  0.0\n",
            "\n",
            "[5 rows x 268 columns]\n",
            "  (0, 0)\t4.0\n",
            "  (0, 3)\t4.5\n",
            "  (0, 4)\t2.5\n",
            "  (0, 6)\t4.5\n",
            "  (0, 7)\t3.5\n",
            "  (0, 8)\t4.0\n",
            "  (0, 10)\t3.5\n",
            "  (0, 13)\t3.0\n",
            "  (0, 15)\t3.0\n",
            "  (0, 16)\t3.0\n",
            "  (0, 20)\t5.0\n",
            "  (0, 23)\t5.0\n",
            "  (0, 24)\t4.0\n",
            "  (0, 26)\t3.0\n",
            "  (0, 29)\t5.0\n",
            "  (0, 32)\t5.0\n",
            "  (0, 33)\t4.0\n",
            "  (0, 34)\t4.0\n",
            "  (0, 35)\t2.5\n",
            "  (0, 36)\t4.5\n",
            "  (0, 37)\t0.5\n",
            "  (0, 39)\t2.5\n",
            "  (0, 42)\t3.0\n",
            "  (0, 43)\t4.0\n",
            "  (0, 44)\t3.0\n",
            "  :\t:\n",
            "  (449, 94)\t3.5\n",
            "  (449, 108)\t3.0\n",
            "  (449, 114)\t3.0\n",
            "  (449, 115)\t4.5\n",
            "  (449, 125)\t4.0\n",
            "  (449, 135)\t3.0\n",
            "  (449, 138)\t5.0\n",
            "  (449, 152)\t5.0\n",
            "  (449, 155)\t2.0\n",
            "  (449, 158)\t2.5\n",
            "  (449, 165)\t3.5\n",
            "  (449, 173)\t5.0\n",
            "  (449, 182)\t3.5\n",
            "  (449, 184)\t4.0\n",
            "  (449, 201)\t4.0\n",
            "  (449, 212)\t5.0\n",
            "  (449, 221)\t5.0\n",
            "  (449, 229)\t3.5\n",
            "  (449, 231)\t5.0\n",
            "  (449, 238)\t3.0\n",
            "  (449, 239)\t2.0\n",
            "  (449, 249)\t4.0\n",
            "  (449, 255)\t4.0\n",
            "  (449, 257)\t3.5\n",
            "  (449, 267)\t3.0\n"
          ],
          "name": "stdout"
        }
      ]
    },
    {
      "cell_type": "markdown",
      "metadata": {
        "id": "QuOXIWQ1L6wL",
        "colab_type": "text"
      },
      "source": [
        "## **2. Fitting the Model**\n",
        "\n",
        "Time to implement the model. We'll initialize the NearestNeighbors class as model_knn and fit our sparse matrix to the instance. By specifying the metric = cosine, the model will measure similarity bectween artist vectors by using cosine similarity."
      ]
    },
    {
      "cell_type": "code",
      "metadata": {
        "id": "TQ48Tn_HLomR",
        "colab_type": "code",
        "outputId": "e741bc10-0889-4420-e2e8-7f1b5f9da5cb",
        "colab": {
          "base_uri": "https://localhost:8080/",
          "height": 0
        }
      },
      "source": [
        "from sklearn.neighbors import NearestNeighbors\n",
        "%env JOBLIB_TEMP_FOLDER=/tmp\n",
        "# define model\n",
        "model_knn = NearestNeighbors(metric='cosine', algorithm='brute', n_neighbors=20, n_jobs=-1)\n",
        "# fit\n",
        "model_knn.fit(movie_user_mat_sparse)"
      ],
      "execution_count": 436,
      "outputs": [
        {
          "output_type": "stream",
          "text": [
            "env: JOBLIB_TEMP_FOLDER=/tmp\n"
          ],
          "name": "stdout"
        },
        {
          "output_type": "execute_result",
          "data": {
            "text/plain": [
              "NearestNeighbors(algorithm='brute', leaf_size=30, metric='cosine',\n",
              "                 metric_params=None, n_jobs=-1, n_neighbors=20, p=2,\n",
              "                 radius=1.0)"
            ]
          },
          "metadata": {
            "tags": []
          },
          "execution_count": 436
        }
      ]
    },
    {
      "cell_type": "markdown",
      "metadata": {
        "id": "AgmWHE7CMH3v",
        "colab_type": "text"
      },
      "source": [
        "## **4. Use this trained model to make movie recommendations**\n",
        "\n",
        "And we're finally ready to make some recommendations!"
      ]
    },
    {
      "cell_type": "markdown",
      "metadata": {
        "id": "0DO8JY_pMsaR",
        "colab_type": "text"
      },
      "source": [
        "### Creating Functions for Movie Recommendation System for prediction"
      ]
    },
    {
      "cell_type": "code",
      "metadata": {
        "id": "1cDXWDbMMlZE",
        "colab_type": "code",
        "outputId": "ebc7796d-44c7-4dce-a8fe-c7cfe21c055e",
        "colab": {
          "base_uri": "https://localhost:8080/",
          "height": 139
        }
      },
      "source": [
        "!pip install fuzzywuzzy\n",
        "from fuzzywuzzy import fuzz\n",
        "# Function for searching through the dataframe(database) for the specified movie\n",
        "def fuzzy_matching(mapper, fav_movie, verbose=True):\n",
        "    \"\"\"\n",
        "    return the closest match via fuzzy ratio. If no match found, return None\n",
        "    \n",
        "    Parameters\n",
        "    ----------    \n",
        "    mapper: dict, map movie title name to index of the movie in data\n",
        "\n",
        "    fav_movie: str, name of user input movie\n",
        "    \n",
        "    verbose: bool, print log if True\n",
        "\n",
        "    Return\n",
        "    ------\n",
        "    index of the closest match\n",
        "    \"\"\"\n",
        "    match_tuple = []\n",
        "    # get match\n",
        "    for title, idx in mapper.items():\n",
        "        ratio = fuzz.ratio(title.lower(), fav_movie.lower())\n",
        "        if ratio >= 60:\n",
        "            match_tuple.append((title, idx, ratio))\n",
        "    # sort\n",
        "    match_tuple = sorted(match_tuple, key=lambda x: x[2])[::-1]\n",
        "    if not match_tuple:\n",
        "        print('Oops! No match is found')\n",
        "        return\n",
        "    if verbose:\n",
        "        print('Found possible matches in our database: {0}\\n'.format([x[0] for x in match_tuple]))\n",
        "    return match_tuple[0][1]\n",
        "\n",
        "\n",
        "# Function for providing movies recommednation based on user input and distance through K Nearest Neighbors \n",
        "def make_recommendation(model_knn, data, mapper, fav_movie, n_recommendations):\n",
        "    \"\"\"\n",
        "    return top n similar movie recommendations based on user's input movie\n",
        "\n",
        "\n",
        "    Parameters\n",
        "    ----------\n",
        "    model_knn: sklearn model, knn model\n",
        "\n",
        "    data: movie-user matrix\n",
        "\n",
        "    mapper: dict, map movie title name to index of the movie in data\n",
        "\n",
        "    fav_movie: str, name of user input movie\n",
        "\n",
        "    n_recommendations: int, top n recommendations\n",
        "\n",
        "    Return\n",
        "    ------\n",
        "    list of top n similar movie recommendations\n",
        "    \"\"\"\n",
        "    # fit\n",
        "    model_knn.fit(data)\n",
        "    # get input movie index\n",
        "    print('You have input movie:', fav_movie)\n",
        "    idx = fuzzy_matching(mapper, fav_movie, verbose=True)\n",
        "    # inference\n",
        "    print('Recommendation system start to make inference')\n",
        "    print('......\\n')\n",
        "    distances, indices = model_knn.kneighbors(data[idx], n_neighbors=n_recommendations+1)\n",
        "    # get list of raw idx of recommendations\n",
        "    raw_recommends = \\\n",
        "        sorted(list(zip(indices.squeeze().tolist(), distances.squeeze().tolist())), key=lambda x: x[1])[:0:-1]\n",
        "    # get reverse mapper\n",
        "    reverse_mapper = {v: k for k, v in mapper.items()}\n",
        "    # print recommendations\n",
        "    print('Recommendations for {}:'.format(fav_movie))\n",
        "    for i, (idx, dist) in enumerate(raw_recommends):\n",
        "        print('{0}: {1}, with distance of {2}'.format(i+1, reverse_mapper[idx], dist))"
      ],
      "execution_count": 437,
      "outputs": [
        {
          "output_type": "stream",
          "text": [
            "Collecting fuzzywuzzy\n",
            "  Downloading https://files.pythonhosted.org/packages/43/ff/74f23998ad2f93b945c0309f825be92e04e0348e062026998b5eefef4c33/fuzzywuzzy-0.18.0-py2.py3-none-any.whl\n",
            "Installing collected packages: fuzzywuzzy\n",
            "Successfully installed fuzzywuzzy-0.18.0\n"
          ],
          "name": "stdout"
        },
        {
          "output_type": "stream",
          "text": [
            "/usr/local/lib/python3.6/dist-packages/fuzzywuzzy/fuzz.py:11: UserWarning: Using slow pure-python SequenceMatcher. Install python-Levenshtein to remove this warning\n",
            "  warnings.warn('Using slow pure-python SequenceMatcher. Install python-Levenshtein to remove this warning')\n"
          ],
          "name": "stderr"
        }
      ]
    },
    {
      "cell_type": "code",
      "metadata": {
        "id": "6i_bvlU1MzhO",
        "colab_type": "code",
        "outputId": "3486d6d3-d8e2-450d-ec02-ad9088393ebf",
        "colab": {
          "base_uri": "https://localhost:8080/",
          "height": 306
        }
      },
      "source": [
        "movieTitle = 'Iron Man'\n",
        "\n",
        "make_recommendation(\n",
        "    model_knn=model_knn,\n",
        "    data=movie_user_mat_sparse,\n",
        "    fav_movie=movieTitle,\n",
        "    mapper=movie_to_idx,\n",
        "    n_recommendations=10)"
      ],
      "execution_count": 438,
      "outputs": [
        {
          "output_type": "stream",
          "text": [
            "You have input movie: Iron Man\n",
            "Found possible matches in our database: ['Iron Man (2008)']\n",
            "\n",
            "Recommendation system start to make inference\n",
            "......\n",
            "\n",
            "Recommendations for Iron Man:\n",
            "1: Batman Begins (2005), with distance of 0.34744154173084363\n",
            "2: Sherlock Holmes (2009), with distance of 0.3463540530285869\n",
            "3: Kung Fu Panda (2008), with distance of 0.34323498779508776\n",
            "4: Inception (2010), with distance of 0.33073992134058794\n",
            "5: District 9 (2009), with distance of 0.3187720802539473\n",
            "6: Up (2009), with distance of 0.31706735090314886\n",
            "7: WALLÂ·E (2008), with distance of 0.27033112296383466\n",
            "8: Avengers, The (2012), with distance of 0.2610290662950412\n",
            "9: Avatar (2009), with distance of 0.2599024893009969\n",
            "10: Dark Knight, The (2008), with distance of 0.24019004841992464\n"
          ],
          "name": "stdout"
        }
      ]
    },
    {
      "cell_type": "markdown",
      "metadata": {
        "id": "D5c10KUXNRLz",
        "colab_type": "text"
      },
      "source": [
        "This is very interesting that my KNN model recommends movies that were also produced in very similar years. However, the cosine distance of all those recommendations are actually quite small. This is probabily because there is too many zero values in our movie-user matrix. With too many zero values in our data, the data sparsity becomes a real issue for KNN model and the distance in KNN model starts to fall apart. So I'd like to dig deeper and look closer inside our data."
      ]
    },
    {
      "cell_type": "markdown",
      "metadata": {
        "id": "v4O1Zf1iNUjf",
        "colab_type": "text"
      },
      "source": [
        "**Larger cosine value means better predictions and the points are closer to each other. However, it is used when the magnitude of the vector does not matter.**"
      ]
    },
    {
      "cell_type": "markdown",
      "metadata": {
        "id": "gnBAd3TjNYxR",
        "colab_type": "text"
      },
      "source": [
        "**(extra inspection)**\n",
        "\n",
        "Let's now look at how sparse the movie-user matrix is by calculating percentage of zero values in the data."
      ]
    },
    {
      "cell_type": "code",
      "metadata": {
        "id": "vv0EbfXUMzY5",
        "colab_type": "code",
        "outputId": "e7a80fe0-6aaf-400a-80d8-534767e35b86",
        "colab": {
          "base_uri": "https://localhost:8080/",
          "height": 34
        }
      },
      "source": [
        "# calcuate total number of entries in the movie-user matrix\n",
        "num_entries = movie_user_mat.shape[0] * movie_user_mat.shape[1]\n",
        "# calculate total number of entries with zero values\n",
        "num_zeros = (movie_user_mat==0).sum(axis=1).sum()\n",
        "# calculate ratio of number of zeros to number of entries\n",
        "ratio_zeros = num_zeros / num_entries\n",
        "print('There is about {:.2%} of ratings in our data is missing'.format(ratio_zeros))"
      ],
      "execution_count": 439,
      "outputs": [
        {
          "output_type": "stream",
          "text": [
            "There is about 72.64% of ratings in our data is missing\n"
          ],
          "name": "stdout"
        }
      ]
    },
    {
      "cell_type": "markdown",
      "metadata": {
        "id": "-H805GQoNg-2",
        "colab_type": "text"
      },
      "source": [
        "This result confirms my hypothesis. The vast majority of entries in our data is zero. This explains why the distance between similar items or opposite items are both pretty large."
      ]
    },
    {
      "cell_type": "markdown",
      "metadata": {
        "id": "lFjcMLWzIiWI",
        "colab_type": "text"
      },
      "source": [
        "# **Recommender Systems Collaborative Filtering (Cosine Similarity Predictions,KNN Algorithm)**\n",
        "Testing set created using movies not yet reviewed by users which increases the variability of the testing set and allows for a much objective prediction as the training and testing set would be very different."
      ]
    },
    {
      "cell_type": "markdown",
      "metadata": {
        "id": "mDZHd_faEteo",
        "colab_type": "text"
      },
      "source": [
        "For this section, I will be using the cosine similarity between movies to make new recommendations. Although I explained collaborative filtering based on user similarity, we can just as easily use item-item similarity to make recommendations. With item-item collaborative filtering, each movie has a vector of all its ratings, and we compute the cosine similarity between two movies’ rating vectors."
      ]
    },
    {
      "cell_type": "code",
      "metadata": {
        "id": "Vd5ZvL-6Bm8J",
        "colab_type": "code",
        "outputId": "a83d26cb-ec48-4eea-8b6d-32a30b65ec86",
        "colab": {
          "base_uri": "https://localhost:8080/",
          "height": 53
        }
      },
      "source": [
        "data = Dataset.load_builtin(\"ml-100k\")\n",
        "trainingSet = data.build_full_trainset()\n",
        "from surprise import KNNBasic\n",
        "sim_options = {\n",
        "    'name': 'cosine',\n",
        "    'user_based': False\n",
        "}\n",
        " \n",
        "knn = KNNBasic(sim_options=sim_options)\n",
        "knn.fit(trainingSet)"
      ],
      "execution_count": 0,
      "outputs": [
        {
          "output_type": "stream",
          "text": [
            "Dataset ml-100k could not be found. Do you want to download it? [Y/n] "
          ],
          "name": "stdout"
        }
      ]
    },
    {
      "cell_type": "markdown",
      "metadata": {
        "id": "47oOqfiREqF_",
        "colab_type": "text"
      },
      "source": [
        "Now that we have trained our model, we want to make movie recommendations for users. Using the build_anti_testset method, we can find all user-movie pairs in the training set where the user has not viewed the movie and create a “testset” out of these entries."
      ]
    },
    {
      "cell_type": "code",
      "metadata": {
        "id": "gfFuTxgVBpcw",
        "colab_type": "code",
        "colab": {}
      },
      "source": [
        "testSet = trainingSet.build_anti_testset()\n",
        "predictions = knn.test(testSet)"
      ],
      "execution_count": 0,
      "outputs": []
    },
    {
      "cell_type": "code",
      "metadata": {
        "id": "iRcTUGk_HaiT",
        "colab_type": "code",
        "colab": {}
      },
      "source": [
        "from collections import defaultdict\n",
        " \n",
        "def get_top3_recommendations(predictions, topN = 3):\n",
        "     \n",
        "    top_recs = defaultdict(list)\n",
        "    for uid, iid, true_r, est, _ in predictions:\n",
        "        top_recs[uid].append((iid, est))\n",
        "     \n",
        "    for uid, user_ratings in top_recs.items():\n",
        "        user_ratings.sort(key = lambda x: x[1], reverse = True)\n",
        "        top_recs[uid] = user_ratings[:topN]\n",
        "     \n",
        "    return top_recs"
      ],
      "execution_count": 0,
      "outputs": []
    },
    {
      "cell_type": "markdown",
      "metadata": {
        "id": "HltbPe8CHqKh",
        "colab_type": "text"
      },
      "source": [
        "In our dataset, each user and movie is represented with an ID number. If we were to view the output of our model now, we would receive a list of movie IDs for each user; not a result we can easily interpret. Therefore, we will use a second helper method read_item_names to create a dictionary that maps each movie’s ID to its name. This method is based on one of the examples in the Suprise library’s Github repo."
      ]
    },
    {
      "cell_type": "code",
      "metadata": {
        "id": "0fc2TfnCHstJ",
        "colab_type": "code",
        "colab": {}
      },
      "source": [
        "import os, io\n",
        " \n",
        "def read_item_names():\n",
        "    \"\"\"Read the u.item file from MovieLens 100-k dataset and returns a\n",
        "    mapping to convert raw ids into movie names.\n",
        "    \"\"\"\n",
        " \n",
        "    file_name = (os.path.expanduser('~') +\n",
        "                 '/.surprise_data/ml-100k/ml-100k/u.item')\n",
        "    rid_to_name = {}\n",
        "    with io.open(file_name, 'r', encoding='ISO-8859-1') as f:\n",
        "        for line in f:\n",
        "            line = line.split('|')\n",
        "            rid_to_name[line[0]] = line[1]\n",
        " \n",
        "    return rid_to_name"
      ],
      "execution_count": 0,
      "outputs": []
    },
    {
      "cell_type": "markdown",
      "metadata": {
        "id": "xYGqKqUUHwW5",
        "colab_type": "text"
      },
      "source": [
        "Now, we can call our get_top3_recommendations method to get the top movie recommendations for each user and output the result."
      ]
    },
    {
      "cell_type": "code",
      "metadata": {
        "id": "Zb8IymtcHyWn",
        "colab_type": "code",
        "colab": {}
      },
      "source": [
        "top3_recommendations = get_top3_recommendations(predictions)\n",
        "rid_to_name = read_item_names()\n",
        "for uid, user_ratings in top3_recommendations.items():\n",
        "    print(uid, [rid_to_name[iid] for (iid, _) in user_ratings])"
      ],
      "execution_count": 0,
      "outputs": []
    },
    {
      "cell_type": "markdown",
      "metadata": {
        "id": "BJAZFTb1NqGo",
        "colab_type": "text"
      },
      "source": [
        "As you can see, each user receives personalized movie recommendations based on how they rated the movies they have seen.\n",
        "\n",
        "One of the major weaknesses of collaborative filtering is the cold-start problem: How do we make recommendations to new users whom we have little to no data about their preferences? Since we have no information about the user’s preferences, we cannot accurately compute the similarity between the new user and more established users."
      ]
    },
    {
      "cell_type": "code",
      "metadata": {
        "id": "bOI_XacyJMAc",
        "colab_type": "code",
        "colab": {}
      },
      "source": [
        ""
      ],
      "execution_count": 0,
      "outputs": []
    }
  ]
}